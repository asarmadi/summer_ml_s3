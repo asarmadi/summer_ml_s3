{
  "nbformat": 4,
  "nbformat_minor": 0,
  "metadata": {
    "accelerator": "GPU",
    "colab": {
      "name": "Copy of car_keras.ipynb",
      "provenance": [],
      "collapsed_sections": []
    },
    "kernelspec": {
      "display_name": "Python 3",
      "language": "python",
      "name": "python3"
    },
    "language_info": {
      "codemirror_mode": {
        "name": "ipython",
        "version": 3
      },
      "file_extension": ".py",
      "mimetype": "text/x-python",
      "name": "python",
      "nbconvert_exporter": "python",
      "pygments_lexer": "ipython3",
      "version": "3.7.0"
    }
  },
  "cells": [
    {
      "cell_type": "code",
      "metadata": {
        "colab_type": "code",
        "id": "NTwNZcxOOU6W",
        "colab": {}
      },
      "source": [
        "import tensorflow as tf\n",
        "from tensorflow.keras.preprocessing.image import ImageDataGenerator\n",
        "from tensorflow.keras.applications import ResNet50\n",
        "from matplotlib import pyplot as plt\n",
        "import os\n",
        "import tarfile\n",
        "import scipy.io as sio\n",
        "import numpy as np\n",
        "import random\n",
        "import cv2"
      ],
      "execution_count": null,
      "outputs": []
    },
    {
      "cell_type": "code",
      "metadata": {
        "colab_type": "code",
        "id": "QC3espG8Ddmx",
        "colab": {}
      },
      "source": [
        "def save_train_data(fnames, labels, bboxes):\n",
        "    src_folder ='/tmp/car_ims'\n",
        "    num_samples = len(fnames)\n",
        "\n",
        "    train_split = 0.8\n",
        "    num_train = int(round(num_samples * train_split))\n",
        "    train_indexes = random.sample(range(num_samples), num_train)\n",
        "\n",
        "    for i in range(num_samples):\n",
        "        fname = fnames[i][8:]\n",
        "        label = labels[i]\n",
        "        (x1, y1, x2, y2) = bboxes[i]\n",
        "        src_path = os.path.join(src_folder, fname)\n",
        "\n",
        "        src_image = cv2.imread(src_path)\n",
        "        height, width = src_image.shape[:2]\n",
        "\n",
        "        # margins of 16 pixels (Crop image according to a given bounding box)\n",
        "        margin = 16\n",
        "        x1 = max(0, x1 - margin)\n",
        "        y1 = max(0, y1 - margin)\n",
        "        x2 = min(x2 + margin, width)\n",
        "        y2 = min(y2 + margin, height)\n",
        "\n",
        "        if i in train_indexes:\n",
        "            dst_folder = '/tmp/car_ims/train/'\n",
        "        else:\n",
        "            dst_folder = '/tmp/car_ims/valid/'\n",
        "\n",
        "        dst_path = os.path.join(dst_folder, label)\n",
        "        if not os.path.exists(dst_path):\n",
        "            os.makedirs(dst_path)\n",
        "        dst_path = os.path.join(dst_path, fname)\n",
        "        dst_image = src_image[y1:y2, x1:x2]\n",
        "        cv2.imwrite(dst_path, dst_image)"
      ],
      "execution_count": null,
      "outputs": []
    },
    {
      "cell_type": "markdown",
      "metadata": {
        "colab_type": "text",
        "id": "L_hlq2krB2wL"
      },
      "source": [
        "### Download and Separate Data\n",
        "\n",
        "We first need to download the data from a remote server and seperate the data into training and testing sets. Note that you only need to download the data once, if you have downloaded the data before do not run the code in this section."
      ]
    },
    {
      "cell_type": "code",
      "metadata": {
        "colab_type": "code",
        "id": "PbQqVEvLB1SZ",
        "colab": {
          "base_uri": "https://localhost:8080/",
          "height": 202
        },
        "outputId": "398714c8-bc04-40ab-e61a-d4c6419439a0"
      },
      "source": [
        "!wget --no-check-certificate \\\n",
        "  http://imagenet.stanford.edu/internal/car196/car_ims.tgz \\\n",
        "  -O /tmp/car_ims.tgz"
      ],
      "execution_count": null,
      "outputs": [
        {
          "output_type": "stream",
          "text": [
            "--2020-08-14 13:22:33--  http://imagenet.stanford.edu/internal/car196/car_ims.tgz\n",
            "Resolving imagenet.stanford.edu (imagenet.stanford.edu)... 171.64.68.16\n",
            "Connecting to imagenet.stanford.edu (imagenet.stanford.edu)|171.64.68.16|:80... connected.\n",
            "HTTP request sent, awaiting response... 200 OK\n",
            "Length: 1956628579 (1.8G) [application/x-gzip]\n",
            "Saving to: ‘/tmp/car_ims.tgz’\n",
            "\n",
            "/tmp/car_ims.tgz    100%[===================>]   1.82G  56.7MB/s    in 38s     \n",
            "\n",
            "2020-08-14 13:23:11 (48.7 MB/s) - ‘/tmp/car_ims.tgz’ saved [1956628579/1956628579]\n",
            "\n"
          ],
          "name": "stdout"
        }
      ]
    },
    {
      "cell_type": "code",
      "metadata": {
        "colab_type": "code",
        "id": "BthGtb7KCYND",
        "colab": {
          "base_uri": "https://localhost:8080/",
          "height": 202
        },
        "outputId": "0667ff12-60dd-4533-afa4-42ae958cc9e8"
      },
      "source": [
        "!wget --no-check-certificate \\\n",
        "  http://imagenet.stanford.edu/internal/car196/cars_annos.mat \\\n",
        "  -O /tmp/cars_annos.mat"
      ],
      "execution_count": null,
      "outputs": [
        {
          "output_type": "stream",
          "text": [
            "--2020-08-14 13:23:12--  http://imagenet.stanford.edu/internal/car196/cars_annos.mat\n",
            "Resolving imagenet.stanford.edu (imagenet.stanford.edu)... 171.64.68.16\n",
            "Connecting to imagenet.stanford.edu (imagenet.stanford.edu)|171.64.68.16|:80... connected.\n",
            "HTTP request sent, awaiting response... 200 OK\n",
            "Length: 394471 (385K) [text/plain]\n",
            "Saving to: ‘/tmp/cars_annos.mat’\n",
            "\n",
            "/tmp/cars_annos.mat 100%[===================>] 385.23K   978KB/s    in 0.4s    \n",
            "\n",
            "2020-08-14 13:23:12 (978 KB/s) - ‘/tmp/cars_annos.mat’ saved [394471/394471]\n",
            "\n"
          ],
          "name": "stdout"
        }
      ]
    },
    {
      "cell_type": "code",
      "metadata": {
        "colab_type": "code",
        "id": "Jy23994RCZ-B",
        "colab": {
          "base_uri": "https://localhost:8080/",
          "height": 202
        },
        "outputId": "5b265c2a-d491-406d-9408-e55eeee14b7e"
      },
      "source": [
        "!wget --no-check-certificate \\\n",
        "  http://imagenet.stanford.edu/internal/car196/cars_test_annos_withlabels.mat \\\n",
        "  -O /tmp/cars_test_annos.mat"
      ],
      "execution_count": null,
      "outputs": [
        {
          "output_type": "stream",
          "text": [
            "--2020-08-14 13:23:13--  http://imagenet.stanford.edu/internal/car196/cars_test_annos_withlabels.mat\n",
            "Resolving imagenet.stanford.edu (imagenet.stanford.edu)... 171.64.68.16\n",
            "Connecting to imagenet.stanford.edu (imagenet.stanford.edu)|171.64.68.16|:80... connected.\n",
            "HTTP request sent, awaiting response... 200 OK\n",
            "Length: 185758 (181K) [text/plain]\n",
            "Saving to: ‘/tmp/cars_test_annos.mat’\n",
            "\n",
            "\r/tmp/cars_test_anno   0%[                    ]       0  --.-KB/s               \r/tmp/cars_test_anno  56%[==========>         ] 102.44K   492KB/s               \r/tmp/cars_test_anno 100%[===================>] 181.40K   774KB/s    in 0.2s    \n",
            "\n",
            "2020-08-14 13:23:13 (774 KB/s) - ‘/tmp/cars_test_annos.mat’ saved [185758/185758]\n",
            "\n"
          ],
          "name": "stdout"
        }
      ]
    },
    {
      "cell_type": "code",
      "metadata": {
        "colab_type": "code",
        "id": "OCVPIypoCu5p",
        "colab": {}
      },
      "source": [
        "!rm -rf /tmp/car_ims/train/\n",
        "!rm -rf /tmp/car_ims/test/\n",
        "!rm -rf /tmp/car_ims/valid/"
      ],
      "execution_count": null,
      "outputs": []
    },
    {
      "cell_type": "markdown",
      "metadata": {
        "colab_type": "text",
        "id": "yeu2slZpDOr5"
      },
      "source": [
        "Unzip the compressed data. (You do not need to understand how this works)"
      ]
    },
    {
      "cell_type": "code",
      "metadata": {
        "colab_type": "code",
        "id": "AXO1W3XyDFBI",
        "colab": {}
      },
      "source": [
        "local_tar = '/tmp/car_ims.tgz'\n",
        "my_tar = tarfile.open(local_tar)\n",
        "my_tar.extractall('/tmp')\n",
        "my_tar.close()"
      ],
      "execution_count": null,
      "outputs": []
    },
    {
      "cell_type": "code",
      "metadata": {
        "colab_type": "code",
        "id": "9DEM73RDDZXZ",
        "colab": {
          "base_uri": "https://localhost:8080/",
          "height": 218
        },
        "outputId": "68d95663-b82c-4efd-a778-995bc8530bfd"
      },
      "source": [
        "car_annotation= sio.loadmat('/tmp/cars_annos.mat')\n",
        "\n",
        "annotations = car_annotation['annotations']\n",
        "annotations = np.transpose(annotations)\n",
        "\n",
        "fnames = []\n",
        "class_ids = []\n",
        "labels = []\n",
        "bboxes  = []\n",
        "for annotation in annotations:\n",
        "  bbox_x1 = annotation[0][1][0][0]\n",
        "  bbox_y1 = annotation[0][2][0][0]\n",
        "  bbox_x2 = annotation[0][3][0][0]\n",
        "  bbox_y2 = annotation[0][4][0][0]\n",
        "\n",
        "  class_id = annotation[0][5][0][0]\n",
        "  bboxes.append((bbox_x1, bbox_y1, bbox_x2, bbox_y2))\n",
        "  labels.append(f'{class_id:06}')\n",
        "\n",
        "  file_name = annotation[0][0][0]\n",
        "  class_ids.append(class_id)\n",
        "  fnames.append(file_name)\n",
        "\n",
        "labels_count = np.unique(class_ids).shape[0]\n",
        "print(np.unique(class_ids))\n",
        "print('The number of different cars is %d' % labels_count)\n",
        "\n",
        "save_train_data(fnames, labels, bboxes)"
      ],
      "execution_count": null,
      "outputs": [
        {
          "output_type": "stream",
          "text": [
            "[  1   2   3   4   5   6   7   8   9  10  11  12  13  14  15  16  17  18\n",
            "  19  20  21  22  23  24  25  26  27  28  29  30  31  32  33  34  35  36\n",
            "  37  38  39  40  41  42  43  44  45  46  47  48  49  50  51  52  53  54\n",
            "  55  56  57  58  59  60  61  62  63  64  65  66  67  68  69  70  71  72\n",
            "  73  74  75  76  77  78  79  80  81  82  83  84  85  86  87  88  89  90\n",
            "  91  92  93  94  95  96  97  98  99 100 101 102 103 104 105 106 107 108\n",
            " 109 110 111 112 113 114 115 116 117 118 119 120 121 122 123 124 125 126\n",
            " 127 128 129 130 131 132 133 134 135 136 137 138 139 140 141 142 143 144\n",
            " 145 146 147 148 149 150 151 152 153 154 155 156 157 158 159 160 161 162\n",
            " 163 164 165 166 167 168 169 170 171 172 173 174 175 176 177 178 179 180\n",
            " 181 182 183 184 185 186 187 188 189 190 191 192 193 194 195 196]\n",
            "The number of different cars is 196\n"
          ],
          "name": "stdout"
        }
      ]
    },
    {
      "cell_type": "code",
      "metadata": {
        "id": "dKhujwB8Bk_0",
        "colab_type": "code",
        "colab": {
          "base_uri": "https://localhost:8080/",
          "height": 1000
        },
        "outputId": "1fafe637-29f1-48af-88bc-c76e928a5a4f"
      },
      "source": [
        "print(car_annotation)"
      ],
      "execution_count": null,
      "outputs": [
        {
          "output_type": "stream",
          "text": [
            "{'__header__': b'MATLAB 5.0 MAT-file, Platform: GLNXA64, Created on: Sat Feb 28 19:34:55 2015', '__version__': '1.0', '__globals__': [], 'annotations': array([[(array(['car_ims/000001.jpg'], dtype='<U18'), array([[112]], dtype=uint8), array([[7]], dtype=uint8), array([[853]], dtype=uint16), array([[717]], dtype=uint16), array([[1]], dtype=uint8), array([[0]], dtype=uint8)),\n",
            "        (array(['car_ims/000002.jpg'], dtype='<U18'), array([[48]], dtype=uint8), array([[24]], dtype=uint8), array([[441]], dtype=uint16), array([[202]], dtype=uint8), array([[1]], dtype=uint8), array([[0]], dtype=uint8)),\n",
            "        (array(['car_ims/000003.jpg'], dtype='<U18'), array([[7]], dtype=uint8), array([[4]], dtype=uint8), array([[277]], dtype=uint16), array([[180]], dtype=uint8), array([[1]], dtype=uint8), array([[0]], dtype=uint8)),\n",
            "        ...,\n",
            "        (array(['car_ims/016183.jpg'], dtype='<U18'), array([[25]], dtype=uint8), array([[32]], dtype=uint8), array([[587]], dtype=uint16), array([[359]], dtype=uint16), array([[196]], dtype=uint8), array([[1]], dtype=uint8)),\n",
            "        (array(['car_ims/016184.jpg'], dtype='<U18'), array([[56]], dtype=uint8), array([[60]], dtype=uint8), array([[208]], dtype=uint8), array([[186]], dtype=uint8), array([[196]], dtype=uint8), array([[1]], dtype=uint8)),\n",
            "        (array(['car_ims/016185.jpg'], dtype='<U18'), array([[1]], dtype=uint8), array([[1]], dtype=uint8), array([[200]], dtype=uint8), array([[131]], dtype=uint8), array([[196]], dtype=uint8), array([[1]], dtype=uint8))]],\n",
            "      dtype=[('relative_im_path', 'O'), ('bbox_x1', 'O'), ('bbox_y1', 'O'), ('bbox_x2', 'O'), ('bbox_y2', 'O'), ('class', 'O'), ('test', 'O')]), 'class_names': array([[array(['AM General Hummer SUV 2000'], dtype='<U26'),\n",
            "        array(['Acura RL Sedan 2012'], dtype='<U19'),\n",
            "        array(['Acura TL Sedan 2012'], dtype='<U19'),\n",
            "        array(['Acura TL Type-S 2008'], dtype='<U20'),\n",
            "        array(['Acura TSX Sedan 2012'], dtype='<U20'),\n",
            "        array(['Acura Integra Type R 2001'], dtype='<U25'),\n",
            "        array(['Acura ZDX Hatchback 2012'], dtype='<U24'),\n",
            "        array(['Aston Martin V8 Vantage Convertible 2012'], dtype='<U40'),\n",
            "        array(['Aston Martin V8 Vantage Coupe 2012'], dtype='<U34'),\n",
            "        array(['Aston Martin Virage Convertible 2012'], dtype='<U36'),\n",
            "        array(['Aston Martin Virage Coupe 2012'], dtype='<U30'),\n",
            "        array(['Audi RS 4 Convertible 2008'], dtype='<U26'),\n",
            "        array(['Audi A5 Coupe 2012'], dtype='<U18'),\n",
            "        array(['Audi TTS Coupe 2012'], dtype='<U19'),\n",
            "        array(['Audi R8 Coupe 2012'], dtype='<U18'),\n",
            "        array(['Audi V8 Sedan 1994'], dtype='<U18'),\n",
            "        array(['Audi 100 Sedan 1994'], dtype='<U19'),\n",
            "        array(['Audi 100 Wagon 1994'], dtype='<U19'),\n",
            "        array(['Audi TT Hatchback 2011'], dtype='<U22'),\n",
            "        array(['Audi S6 Sedan 2011'], dtype='<U18'),\n",
            "        array(['Audi S5 Convertible 2012'], dtype='<U24'),\n",
            "        array(['Audi S5 Coupe 2012'], dtype='<U18'),\n",
            "        array(['Audi S4 Sedan 2012'], dtype='<U18'),\n",
            "        array(['Audi S4 Sedan 2007'], dtype='<U18'),\n",
            "        array(['Audi TT RS Coupe 2012'], dtype='<U21'),\n",
            "        array(['BMW ActiveHybrid 5 Sedan 2012'], dtype='<U29'),\n",
            "        array(['BMW 1 Series Convertible 2012'], dtype='<U29'),\n",
            "        array(['BMW 1 Series Coupe 2012'], dtype='<U23'),\n",
            "        array(['BMW 3 Series Sedan 2012'], dtype='<U23'),\n",
            "        array(['BMW 3 Series Wagon 2012'], dtype='<U23'),\n",
            "        array(['BMW 6 Series Convertible 2007'], dtype='<U29'),\n",
            "        array(['BMW X5 SUV 2007'], dtype='<U15'),\n",
            "        array(['BMW X6 SUV 2012'], dtype='<U15'),\n",
            "        array(['BMW M3 Coupe 2012'], dtype='<U17'),\n",
            "        array(['BMW M5 Sedan 2010'], dtype='<U17'),\n",
            "        array(['BMW M6 Convertible 2010'], dtype='<U23'),\n",
            "        array(['BMW X3 SUV 2012'], dtype='<U15'),\n",
            "        array(['BMW Z4 Convertible 2012'], dtype='<U23'),\n",
            "        array(['Bentley Continental Supersports Conv. Convertible 2012'],\n",
            "      dtype='<U54'),\n",
            "        array(['Bentley Arnage Sedan 2009'], dtype='<U25'),\n",
            "        array(['Bentley Mulsanne Sedan 2011'], dtype='<U27'),\n",
            "        array(['Bentley Continental GT Coupe 2012'], dtype='<U33'),\n",
            "        array(['Bentley Continental GT Coupe 2007'], dtype='<U33'),\n",
            "        array(['Bentley Continental Flying Spur Sedan 2007'], dtype='<U42'),\n",
            "        array(['Bugatti Veyron 16.4 Convertible 2009'], dtype='<U36'),\n",
            "        array(['Bugatti Veyron 16.4 Coupe 2009'], dtype='<U30'),\n",
            "        array(['Buick Regal GS 2012'], dtype='<U19'),\n",
            "        array(['Buick Rainier SUV 2007'], dtype='<U22'),\n",
            "        array(['Buick Verano Sedan 2012'], dtype='<U23'),\n",
            "        array(['Buick Enclave SUV 2012'], dtype='<U22'),\n",
            "        array(['Cadillac CTS-V Sedan 2012'], dtype='<U25'),\n",
            "        array(['Cadillac SRX SUV 2012'], dtype='<U21'),\n",
            "        array(['Cadillac Escalade EXT Crew Cab 2007'], dtype='<U35'),\n",
            "        array(['Chevrolet Silverado 1500 Hybrid Crew Cab 2012'], dtype='<U45'),\n",
            "        array(['Chevrolet Corvette Convertible 2012'], dtype='<U35'),\n",
            "        array(['Chevrolet Corvette ZR1 2012'], dtype='<U27'),\n",
            "        array(['Chevrolet Corvette Ron Fellows Edition Z06 2007'], dtype='<U47'),\n",
            "        array(['Chevrolet Traverse SUV 2012'], dtype='<U27'),\n",
            "        array(['Chevrolet Camaro Convertible 2012'], dtype='<U33'),\n",
            "        array(['Chevrolet HHR SS 2010'], dtype='<U21'),\n",
            "        array(['Chevrolet Impala Sedan 2007'], dtype='<U27'),\n",
            "        array(['Chevrolet Tahoe Hybrid SUV 2012'], dtype='<U31'),\n",
            "        array(['Chevrolet Sonic Sedan 2012'], dtype='<U26'),\n",
            "        array(['Chevrolet Express Cargo Van 2007'], dtype='<U32'),\n",
            "        array(['Chevrolet Avalanche Crew Cab 2012'], dtype='<U33'),\n",
            "        array(['Chevrolet Cobalt SS 2010'], dtype='<U24'),\n",
            "        array(['Chevrolet Malibu Hybrid Sedan 2010'], dtype='<U34'),\n",
            "        array(['Chevrolet TrailBlazer SS 2009'], dtype='<U29'),\n",
            "        array(['Chevrolet Silverado 2500HD Regular Cab 2012'], dtype='<U43'),\n",
            "        array(['Chevrolet Silverado 1500 Classic Extended Cab 2007'], dtype='<U50'),\n",
            "        array(['Chevrolet Express Van 2007'], dtype='<U26'),\n",
            "        array(['Chevrolet Monte Carlo Coupe 2007'], dtype='<U32'),\n",
            "        array(['Chevrolet Malibu Sedan 2007'], dtype='<U27'),\n",
            "        array(['Chevrolet Silverado 1500 Extended Cab 2012'], dtype='<U42'),\n",
            "        array(['Chevrolet Silverado 1500 Regular Cab 2012'], dtype='<U41'),\n",
            "        array(['Chrysler Aspen SUV 2009'], dtype='<U23'),\n",
            "        array(['Chrysler Sebring Convertible 2010'], dtype='<U33'),\n",
            "        array(['Chrysler Town and Country Minivan 2012'], dtype='<U38'),\n",
            "        array(['Chrysler 300 SRT-8 2010'], dtype='<U23'),\n",
            "        array(['Chrysler Crossfire Convertible 2008'], dtype='<U35'),\n",
            "        array(['Chrysler PT Cruiser Convertible 2008'], dtype='<U36'),\n",
            "        array(['Daewoo Nubira Wagon 2002'], dtype='<U24'),\n",
            "        array(['Dodge Caliber Wagon 2012'], dtype='<U24'),\n",
            "        array(['Dodge Caliber Wagon 2007'], dtype='<U24'),\n",
            "        array(['Dodge Caravan Minivan 1997'], dtype='<U26'),\n",
            "        array(['Dodge Ram Pickup 3500 Crew Cab 2010'], dtype='<U35'),\n",
            "        array(['Dodge Ram Pickup 3500 Quad Cab 2009'], dtype='<U35'),\n",
            "        array(['Dodge Sprinter Cargo Van 2009'], dtype='<U29'),\n",
            "        array(['Dodge Journey SUV 2012'], dtype='<U22'),\n",
            "        array(['Dodge Dakota Crew Cab 2010'], dtype='<U26'),\n",
            "        array(['Dodge Dakota Club Cab 2007'], dtype='<U26'),\n",
            "        array(['Dodge Magnum Wagon 2008'], dtype='<U23'),\n",
            "        array(['Dodge Challenger SRT8 2011'], dtype='<U26'),\n",
            "        array(['Dodge Durango SUV 2012'], dtype='<U22'),\n",
            "        array(['Dodge Durango SUV 2007'], dtype='<U22'),\n",
            "        array(['Dodge Charger Sedan 2012'], dtype='<U24'),\n",
            "        array(['Dodge Charger SRT-8 2009'], dtype='<U24'),\n",
            "        array(['Eagle Talon Hatchback 1998'], dtype='<U26'),\n",
            "        array(['FIAT 500 Abarth 2012'], dtype='<U20'),\n",
            "        array(['FIAT 500 Convertible 2012'], dtype='<U25'),\n",
            "        array(['Ferrari FF Coupe 2012'], dtype='<U21'),\n",
            "        array(['Ferrari California Convertible 2012'], dtype='<U35'),\n",
            "        array(['Ferrari 458 Italia Convertible 2012'], dtype='<U35'),\n",
            "        array(['Ferrari 458 Italia Coupe 2012'], dtype='<U29'),\n",
            "        array(['Fisker Karma Sedan 2012'], dtype='<U23'),\n",
            "        array(['Ford F-450 Super Duty Crew Cab 2012'], dtype='<U35'),\n",
            "        array(['Ford Mustang Convertible 2007'], dtype='<U29'),\n",
            "        array(['Ford Freestar Minivan 2007'], dtype='<U26'),\n",
            "        array(['Ford Expedition EL SUV 2009'], dtype='<U27'),\n",
            "        array(['Ford Edge SUV 2012'], dtype='<U18'),\n",
            "        array(['Ford Ranger SuperCab 2011'], dtype='<U25'),\n",
            "        array(['Ford GT Coupe 2006'], dtype='<U18'),\n",
            "        array(['Ford F-150 Regular Cab 2012'], dtype='<U27'),\n",
            "        array(['Ford F-150 Regular Cab 2007'], dtype='<U27'),\n",
            "        array(['Ford Focus Sedan 2007'], dtype='<U21'),\n",
            "        array(['Ford E-Series Wagon Van 2012'], dtype='<U28'),\n",
            "        array(['Ford Fiesta Sedan 2012'], dtype='<U22'),\n",
            "        array(['GMC Terrain SUV 2012'], dtype='<U20'),\n",
            "        array(['GMC Savana Van 2012'], dtype='<U19'),\n",
            "        array(['GMC Yukon Hybrid SUV 2012'], dtype='<U25'),\n",
            "        array(['GMC Acadia SUV 2012'], dtype='<U19'),\n",
            "        array(['GMC Canyon Extended Cab 2012'], dtype='<U28'),\n",
            "        array(['Geo Metro Convertible 1993'], dtype='<U26'),\n",
            "        array(['HUMMER H3T Crew Cab 2010'], dtype='<U24'),\n",
            "        array(['HUMMER H2 SUT Crew Cab 2009'], dtype='<U27'),\n",
            "        array(['Honda Odyssey Minivan 2012'], dtype='<U26'),\n",
            "        array(['Honda Odyssey Minivan 2007'], dtype='<U26'),\n",
            "        array(['Honda Accord Coupe 2012'], dtype='<U23'),\n",
            "        array(['Honda Accord Sedan 2012'], dtype='<U23'),\n",
            "        array(['Hyundai Veloster Hatchback 2012'], dtype='<U31'),\n",
            "        array(['Hyundai Santa Fe SUV 2012'], dtype='<U25'),\n",
            "        array(['Hyundai Tucson SUV 2012'], dtype='<U23'),\n",
            "        array(['Hyundai Veracruz SUV 2012'], dtype='<U25'),\n",
            "        array(['Hyundai Sonata Hybrid Sedan 2012'], dtype='<U32'),\n",
            "        array(['Hyundai Elantra Sedan 2007'], dtype='<U26'),\n",
            "        array(['Hyundai Accent Sedan 2012'], dtype='<U25'),\n",
            "        array(['Hyundai Genesis Sedan 2012'], dtype='<U26'),\n",
            "        array(['Hyundai Sonata Sedan 2012'], dtype='<U25'),\n",
            "        array(['Hyundai Elantra Touring Hatchback 2012'], dtype='<U38'),\n",
            "        array(['Hyundai Azera Sedan 2012'], dtype='<U24'),\n",
            "        array(['Infiniti G Coupe IPL 2012'], dtype='<U25'),\n",
            "        array(['Infiniti QX56 SUV 2011'], dtype='<U22'),\n",
            "        array(['Isuzu Ascender SUV 2008'], dtype='<U23'),\n",
            "        array(['Jaguar XK XKR 2012'], dtype='<U18'),\n",
            "        array(['Jeep Patriot SUV 2012'], dtype='<U21'),\n",
            "        array(['Jeep Wrangler SUV 2012'], dtype='<U22'),\n",
            "        array(['Jeep Liberty SUV 2012'], dtype='<U21'),\n",
            "        array(['Jeep Grand Cherokee SUV 2012'], dtype='<U28'),\n",
            "        array(['Jeep Compass SUV 2012'], dtype='<U21'),\n",
            "        array(['Lamborghini Reventon Coupe 2008'], dtype='<U31'),\n",
            "        array(['Lamborghini Aventador Coupe 2012'], dtype='<U32'),\n",
            "        array(['Lamborghini Gallardo LP 570-4 Superleggera 2012'], dtype='<U47'),\n",
            "        array(['Lamborghini Diablo Coupe 2001'], dtype='<U29'),\n",
            "        array(['Land Rover Range Rover SUV 2012'], dtype='<U31'),\n",
            "        array(['Land Rover LR2 SUV 2012'], dtype='<U23'),\n",
            "        array(['Lincoln Town Car Sedan 2011'], dtype='<U27'),\n",
            "        array(['MINI Cooper Roadster Convertible 2012'], dtype='<U37'),\n",
            "        array(['Maybach Landaulet Convertible 2012'], dtype='<U34'),\n",
            "        array(['Mazda Tribute SUV 2011'], dtype='<U22'),\n",
            "        array(['McLaren MP4-12C Coupe 2012'], dtype='<U26'),\n",
            "        array(['Mercedes-Benz 300-Class Convertible 1993'], dtype='<U40'),\n",
            "        array(['Mercedes-Benz C-Class Sedan 2012'], dtype='<U32'),\n",
            "        array(['Mercedes-Benz SL-Class Coupe 2009'], dtype='<U33'),\n",
            "        array(['Mercedes-Benz E-Class Sedan 2012'], dtype='<U32'),\n",
            "        array(['Mercedes-Benz S-Class Sedan 2012'], dtype='<U32'),\n",
            "        array(['Mercedes-Benz Sprinter Van 2012'], dtype='<U31'),\n",
            "        array(['Mitsubishi Lancer Sedan 2012'], dtype='<U28'),\n",
            "        array(['Nissan Leaf Hatchback 2012'], dtype='<U26'),\n",
            "        array(['Nissan NV Passenger Van 2012'], dtype='<U28'),\n",
            "        array(['Nissan Juke Hatchback 2012'], dtype='<U26'),\n",
            "        array(['Nissan 240SX Coupe 1998'], dtype='<U23'),\n",
            "        array(['Plymouth Neon Coupe 1999'], dtype='<U24'),\n",
            "        array(['Porsche Panamera Sedan 2012'], dtype='<U27'),\n",
            "        array(['Ram C/V Cargo Van Minivan 2012'], dtype='<U30'),\n",
            "        array(['Rolls-Royce Phantom Drophead Coupe Convertible 2012'],\n",
            "      dtype='<U51'),\n",
            "        array(['Rolls-Royce Ghost Sedan 2012'], dtype='<U28'),\n",
            "        array(['Rolls-Royce Phantom Sedan 2012'], dtype='<U30'),\n",
            "        array(['Scion xD Hatchback 2012'], dtype='<U23'),\n",
            "        array(['Spyker C8 Convertible 2009'], dtype='<U26'),\n",
            "        array(['Spyker C8 Coupe 2009'], dtype='<U20'),\n",
            "        array(['Suzuki Aerio Sedan 2007'], dtype='<U23'),\n",
            "        array(['Suzuki Kizashi Sedan 2012'], dtype='<U25'),\n",
            "        array(['Suzuki SX4 Hatchback 2012'], dtype='<U25'),\n",
            "        array(['Suzuki SX4 Sedan 2012'], dtype='<U21'),\n",
            "        array(['Tesla Model S Sedan 2012'], dtype='<U24'),\n",
            "        array(['Toyota Sequoia SUV 2012'], dtype='<U23'),\n",
            "        array(['Toyota Camry Sedan 2012'], dtype='<U23'),\n",
            "        array(['Toyota Corolla Sedan 2012'], dtype='<U25'),\n",
            "        array(['Toyota 4Runner SUV 2012'], dtype='<U23'),\n",
            "        array(['Volkswagen Golf Hatchback 2012'], dtype='<U30'),\n",
            "        array(['Volkswagen Golf Hatchback 1991'], dtype='<U30'),\n",
            "        array(['Volkswagen Beetle Hatchback 2012'], dtype='<U32'),\n",
            "        array(['Volvo C30 Hatchback 2012'], dtype='<U24'),\n",
            "        array(['Volvo 240 Sedan 1993'], dtype='<U20'),\n",
            "        array(['Volvo XC90 SUV 2007'], dtype='<U19'),\n",
            "        array(['smart fortwo Convertible 2012'], dtype='<U29')]],\n",
            "      dtype=object)}\n"
          ],
          "name": "stdout"
        }
      ]
    },
    {
      "cell_type": "markdown",
      "metadata": {
        "colab_type": "text",
        "id": "e7Wx92qVDv6T"
      },
      "source": [
        "### Create a data generator"
      ]
    },
    {
      "cell_type": "code",
      "metadata": {
        "colab_type": "code",
        "id": "9gJN7b7FOU6f",
        "colab": {
          "base_uri": "https://localhost:8080/",
          "height": 50
        },
        "outputId": "98af23d2-36c0-47e8-980c-1ed5832b00e3"
      },
      "source": [
        "datagen = ImageDataGenerator(horizontal_flip=True)\n",
        "train_iter = datagen.flow_from_directory('/tmp/car_ims/train/', class_mode='categorical', batch_size=32, target_size=(224,224))\n",
        "test_iter = datagen.flow_from_directory('/tmp/car_ims/valid/', class_mode='categorical', batch_size=32, target_size=(224,224))"
      ],
      "execution_count": null,
      "outputs": [
        {
          "output_type": "stream",
          "text": [
            "Found 12948 images belonging to 196 classes.\n",
            "Found 3237 images belonging to 196 classes.\n"
          ],
          "name": "stdout"
        }
      ]
    },
    {
      "cell_type": "code",
      "metadata": {
        "id": "L43C6zpaXMSW",
        "colab_type": "code",
        "colab": {
          "base_uri": "https://localhost:8080/",
          "height": 34
        },
        "outputId": "f25ad88d-a1bd-40a6-9b0a-c7119c718f1f"
      },
      "source": [
        "print(train_iter[0][0].shape)"
      ],
      "execution_count": null,
      "outputs": [
        {
          "output_type": "stream",
          "text": [
            "(32, 224, 224, 3)\n"
          ],
          "name": "stdout"
        }
      ]
    },
    {
      "cell_type": "markdown",
      "metadata": {
        "id": "jDuUI8DPToXm",
        "colab_type": "text"
      },
      "source": [
        "### Build Model"
      ]
    },
    {
      "cell_type": "code",
      "metadata": {
        "colab_type": "code",
        "id": "H8mAz2MuOU6k",
        "colab": {}
      },
      "source": [
        "# TODO\n",
        "\n",
        "from tensorflow.keras import applications\n",
        "from tensorflow.keras import layers\n",
        "from tensorflow.keras import Sequential\n",
        "from tensorflow.keras import Model\n",
        "from tensorflow.keras import optimizers\n",
        "\n",
        "base = applications.ResNet152V2(include_top=False, weights=\"imagenet\", input_shape=(224,224,3))\n",
        "x = base.output\n",
        "x = layers.GlobalAveragePooling2D()(x)\n",
        "x = layers.Dense(2048, activation='relu')(x)\n",
        "x = layers.Dense(2048, activation='relu')(x)\n",
        "x = layers.BatchNormalization()(x)\n",
        "x = layers.Dropout(0.6)(x)\n",
        "pred_layer = layers.Dense(196, activation='softmax')(x)\n",
        "\n",
        "for layer in net.layers[:30]:\n",
        "    layer.trainable=False\n",
        "for layer in net.layers[30:]:\n",
        "    layer.trainable=True\n",
        "\n",
        "net = Model(inputs=base.input, outputs=pred_layer)\n",
        "#net.summary()\n"
      ],
      "execution_count": null,
      "outputs": []
    },
    {
      "cell_type": "code",
      "metadata": {
        "id": "MEMlloRIXuIT",
        "colab_type": "code",
        "colab": {
          "base_uri": "https://localhost:8080/",
          "height": 84
        },
        "outputId": "b30b54ee-b1ed-482b-9717-d50ef89faf6d"
      },
      "source": [
        "train_datagen = ImageDataGenerator(rescale=1./255,\n",
        "                                   width_shift_range=0.1,\n",
        "                                   height_shift_range=0.1,\n",
        "                                   horizontal_flip=True,\n",
        "                                   vertical_flip=True,\n",
        "                                   zoom_range=0.2)\n",
        "\n",
        "test_datagen = ImageDataGenerator(rescale=1./255)\n",
        "\n",
        "train_generator = train_datagen.flow_from_directory('/tmp/car_ims/train/', target_size=(224, 224), class_mode='categorical', batch_size=32)\n",
        "test_generator = test_datagen.flow_from_directory('/tmp/car_ims/valid/', target_size=(224, 224), class_mode='categorical', batch_size=32)\n",
        "\n",
        "print(train_generator[0][0].shape)\n",
        "print(test_generator[0][0].shape)"
      ],
      "execution_count": null,
      "outputs": [
        {
          "output_type": "stream",
          "text": [
            "Found 12948 images belonging to 196 classes.\n",
            "Found 3237 images belonging to 196 classes.\n",
            "(32, 224, 224, 3)\n",
            "(32, 224, 224, 3)\n"
          ],
          "name": "stdout"
        }
      ]
    },
    {
      "cell_type": "code",
      "metadata": {
        "id": "-dls6F5SV530",
        "colab_type": "code",
        "colab": {
          "base_uri": "https://localhost:8080/",
          "height": 1000
        },
        "outputId": "bcd7a211-0940-49a6-e6bc-42c9c65d2cc8"
      },
      "source": [
        "net.compile(optimizer=optimizers.Adam(lr=.0001), loss='categorical_crossentropy', metrics=['accuracy'])\n",
        "slow_lr = tf.keras.callbacks.ReduceLROnPlateau('val_accuracy', factor = 0.1, patience = 1)\n",
        "\n",
        "with tf.device(\"GPU:0\"):\n",
        "    history = net.fit(train_generator, steps_per_epoch=100, epochs=50, validation_data=test_generator, callbacks=[slow_lr])"
      ],
      "execution_count": null,
      "outputs": [
        {
          "output_type": "stream",
          "text": [
            "Epoch 1/50\n",
            "100/100 [==============================] - 106s 1s/step - loss: 6.5911 - accuracy: 0.0094 - val_loss: 5.2001 - val_accuracy: 0.0179\n",
            "Epoch 2/50\n",
            "100/100 [==============================] - 104s 1s/step - loss: 5.6781 - accuracy: 0.0281 - val_loss: 4.8143 - val_accuracy: 0.0584\n",
            "Epoch 3/50\n",
            "100/100 [==============================] - 104s 1s/step - loss: 5.1428 - accuracy: 0.0547 - val_loss: 4.4383 - val_accuracy: 0.0948\n",
            "Epoch 4/50\n",
            "100/100 [==============================] - 103s 1s/step - loss: 4.4825 - accuracy: 0.1034 - val_loss: 3.8962 - val_accuracy: 0.1708\n",
            "Epoch 5/50\n",
            "100/100 [==============================] - 103s 1s/step - loss: 3.9487 - accuracy: 0.1594 - val_loss: 3.3490 - val_accuracy: 0.2323\n",
            "Epoch 6/50\n",
            "100/100 [==============================] - 103s 1s/step - loss: 3.4371 - accuracy: 0.2309 - val_loss: 3.2057 - val_accuracy: 0.2586\n",
            "Epoch 7/50\n",
            "100/100 [==============================] - 103s 1s/step - loss: 2.9677 - accuracy: 0.3088 - val_loss: 2.5333 - val_accuracy: 0.3775\n",
            "Epoch 8/50\n",
            "100/100 [==============================] - 103s 1s/step - loss: 2.6059 - accuracy: 0.3591 - val_loss: 2.2733 - val_accuracy: 0.4294\n",
            "Epoch 9/50\n",
            "100/100 [==============================] - 103s 1s/step - loss: 2.2840 - accuracy: 0.4200 - val_loss: 1.7793 - val_accuracy: 0.5354\n",
            "Epoch 10/50\n",
            "100/100 [==============================] - 103s 1s/step - loss: 1.9699 - accuracy: 0.4978 - val_loss: 1.6760 - val_accuracy: 0.5656\n",
            "Epoch 11/50\n",
            "100/100 [==============================] - 103s 1s/step - loss: 1.7664 - accuracy: 0.5358 - val_loss: 1.5529 - val_accuracy: 0.5935\n",
            "Epoch 12/50\n",
            "100/100 [==============================] - 103s 1s/step - loss: 1.6381 - accuracy: 0.5703 - val_loss: 1.4900 - val_accuracy: 0.6061\n",
            "Epoch 13/50\n",
            "100/100 [==============================] - 103s 1s/step - loss: 1.4359 - accuracy: 0.6200 - val_loss: 1.2718 - val_accuracy: 0.6540\n",
            "Epoch 14/50\n",
            "100/100 [==============================] - 103s 1s/step - loss: 1.2773 - accuracy: 0.6525 - val_loss: 1.1652 - val_accuracy: 0.6815\n",
            "Epoch 15/50\n",
            "100/100 [==============================] - 103s 1s/step - loss: 1.1913 - accuracy: 0.6659 - val_loss: 1.0701 - val_accuracy: 0.7068\n",
            "Epoch 16/50\n",
            "100/100 [==============================] - 103s 1s/step - loss: 1.0693 - accuracy: 0.7153 - val_loss: 1.0485 - val_accuracy: 0.7065\n",
            "Epoch 17/50\n",
            "100/100 [==============================] - 103s 1s/step - loss: 1.0032 - accuracy: 0.7203 - val_loss: 0.8321 - val_accuracy: 0.7702\n",
            "Epoch 18/50\n",
            "100/100 [==============================] - 103s 1s/step - loss: 0.8333 - accuracy: 0.7591 - val_loss: 0.7705 - val_accuracy: 0.7865\n",
            "Epoch 19/50\n",
            "100/100 [==============================] - 103s 1s/step - loss: 0.8560 - accuracy: 0.7556 - val_loss: 0.7302 - val_accuracy: 0.7939\n",
            "Epoch 20/50\n",
            "100/100 [==============================] - 103s 1s/step - loss: 0.7755 - accuracy: 0.7847 - val_loss: 0.6991 - val_accuracy: 0.8032\n",
            "Epoch 21/50\n",
            "100/100 [==============================] - 103s 1s/step - loss: 0.7347 - accuracy: 0.7931 - val_loss: 0.6887 - val_accuracy: 0.8057\n",
            "Epoch 22/50\n",
            "100/100 [==============================] - 103s 1s/step - loss: 0.7454 - accuracy: 0.7887 - val_loss: 0.6671 - val_accuracy: 0.8094\n",
            "Epoch 23/50\n",
            "100/100 [==============================] - 103s 1s/step - loss: 0.6924 - accuracy: 0.8021 - val_loss: 0.6553 - val_accuracy: 0.8131\n",
            "Epoch 24/50\n",
            "100/100 [==============================] - 103s 1s/step - loss: 0.6685 - accuracy: 0.8119 - val_loss: 0.6385 - val_accuracy: 0.8187\n",
            "Epoch 25/50\n",
            "100/100 [==============================] - 103s 1s/step - loss: 0.6385 - accuracy: 0.8216 - val_loss: 0.6293 - val_accuracy: 0.8217\n",
            "Epoch 26/50\n",
            "100/100 [==============================] - 103s 1s/step - loss: 0.6279 - accuracy: 0.8178 - val_loss: 0.6094 - val_accuracy: 0.8295\n",
            "Epoch 27/50\n",
            "100/100 [==============================] - 103s 1s/step - loss: 0.6270 - accuracy: 0.8216 - val_loss: 0.6024 - val_accuracy: 0.8307\n",
            "Epoch 28/50\n",
            "100/100 [==============================] - 103s 1s/step - loss: 0.6258 - accuracy: 0.8338 - val_loss: 0.5989 - val_accuracy: 0.8329\n",
            "Epoch 29/50\n",
            "100/100 [==============================] - 103s 1s/step - loss: 0.5839 - accuracy: 0.8334 - val_loss: 0.5888 - val_accuracy: 0.8316\n",
            "Epoch 30/50\n",
            "100/100 [==============================] - 102s 1s/step - loss: 0.5885 - accuracy: 0.8375 - val_loss: 0.5829 - val_accuracy: 0.8335\n",
            "Epoch 31/50\n",
            "100/100 [==============================] - 103s 1s/step - loss: 0.5704 - accuracy: 0.8388 - val_loss: 0.5812 - val_accuracy: 0.8357\n",
            "Epoch 32/50\n",
            "100/100 [==============================] - 103s 1s/step - loss: 0.6187 - accuracy: 0.8334 - val_loss: 0.5778 - val_accuracy: 0.8360\n",
            "Epoch 33/50\n",
            "100/100 [==============================] - 103s 1s/step - loss: 0.5821 - accuracy: 0.8384 - val_loss: 0.5773 - val_accuracy: 0.8347\n",
            "Epoch 34/50\n",
            "100/100 [==============================] - 103s 1s/step - loss: 0.5620 - accuracy: 0.8462 - val_loss: 0.5770 - val_accuracy: 0.8341\n",
            "Epoch 35/50\n",
            "100/100 [==============================] - 103s 1s/step - loss: 0.5459 - accuracy: 0.8572 - val_loss: 0.5763 - val_accuracy: 0.8341\n",
            "Epoch 36/50\n",
            "100/100 [==============================] - 103s 1s/step - loss: 0.5911 - accuracy: 0.8353 - val_loss: 0.5750 - val_accuracy: 0.8366\n",
            "Epoch 37/50\n",
            "100/100 [==============================] - 103s 1s/step - loss: 0.5442 - accuracy: 0.8487 - val_loss: 0.5761 - val_accuracy: 0.8347\n",
            "Epoch 38/50\n",
            "100/100 [==============================] - 103s 1s/step - loss: 0.5753 - accuracy: 0.8456 - val_loss: 0.5762 - val_accuracy: 0.8353\n",
            "Epoch 39/50\n",
            "100/100 [==============================] - 102s 1s/step - loss: 0.5385 - accuracy: 0.8503 - val_loss: 0.5765 - val_accuracy: 0.8353\n",
            "Epoch 40/50\n",
            "100/100 [==============================] - 103s 1s/step - loss: 0.5859 - accuracy: 0.8350 - val_loss: 0.5750 - val_accuracy: 0.8360\n",
            "Epoch 41/50\n",
            "100/100 [==============================] - 103s 1s/step - loss: 0.5675 - accuracy: 0.8409 - val_loss: 0.5757 - val_accuracy: 0.8363\n",
            "Epoch 42/50\n",
            "100/100 [==============================] - 102s 1s/step - loss: 0.5667 - accuracy: 0.8422 - val_loss: 0.5762 - val_accuracy: 0.8366\n",
            "Epoch 43/50\n",
            "100/100 [==============================] - 102s 1s/step - loss: 0.5649 - accuracy: 0.8509 - val_loss: 0.5752 - val_accuracy: 0.8366\n",
            "Epoch 44/50\n",
            "100/100 [==============================] - 102s 1s/step - loss: 0.6124 - accuracy: 0.8303 - val_loss: 0.5760 - val_accuracy: 0.8338\n",
            "Epoch 45/50\n",
            "100/100 [==============================] - 102s 1s/step - loss: 0.5687 - accuracy: 0.8406 - val_loss: 0.5766 - val_accuracy: 0.8353\n",
            "Epoch 46/50\n",
            "100/100 [==============================] - 102s 1s/step - loss: 0.5367 - accuracy: 0.8472 - val_loss: 0.5764 - val_accuracy: 0.8347\n",
            "Epoch 47/50\n",
            "100/100 [==============================] - 102s 1s/step - loss: 0.5845 - accuracy: 0.8384 - val_loss: 0.5752 - val_accuracy: 0.8341\n",
            "Epoch 48/50\n",
            "100/100 [==============================] - 102s 1s/step - loss: 0.5837 - accuracy: 0.8300 - val_loss: 0.5759 - val_accuracy: 0.8344\n",
            "Epoch 49/50\n",
            "100/100 [==============================] - 102s 1s/step - loss: 0.5693 - accuracy: 0.8425 - val_loss: 0.5768 - val_accuracy: 0.8360\n",
            "Epoch 50/50\n",
            "100/100 [==============================] - 102s 1s/step - loss: 0.5594 - accuracy: 0.8406 - val_loss: 0.5763 - val_accuracy: 0.8350\n"
          ],
          "name": "stdout"
        }
      ]
    },
    {
      "cell_type": "code",
      "metadata": {
        "id": "4Y48tjdM9--z",
        "colab_type": "code",
        "colab": {
          "base_uri": "https://localhost:8080/",
          "height": 34
        },
        "outputId": "5777a6a7-e570-435e-e8c7-e322456c427e"
      },
      "source": [
        "net.metrics_names"
      ],
      "execution_count": null,
      "outputs": [
        {
          "output_type": "execute_result",
          "data": {
            "text/plain": [
              "['loss', 'accuracy']"
            ]
          },
          "metadata": {
            "tags": []
          },
          "execution_count": 107
        }
      ]
    },
    {
      "cell_type": "code",
      "metadata": {
        "id": "YnIhzc88-Fph",
        "colab_type": "code",
        "colab": {
          "base_uri": "https://localhost:8080/",
          "height": 67
        },
        "outputId": "968330de-5c04-459f-da8a-eb4841679c3d"
      },
      "source": [
        "evaluation = net.evaluate(test_generator)\n",
        "print('accuracy:', evaluation[1])\n",
        "print('loss:', evaluation[0])"
      ],
      "execution_count": null,
      "outputs": [
        {
          "output_type": "stream",
          "text": [
            "102/102 [==============================] - 25s 241ms/step - loss: 0.5763 - accuracy: 0.8350\n",
            "accuracy: 0.8350324630737305\n",
            "loss: 0.57626873254776\n"
          ],
          "name": "stdout"
        }
      ]
    },
    {
      "cell_type": "code",
      "metadata": {
        "id": "fCmeJM9p-Q5S",
        "colab_type": "code",
        "colab": {
          "base_uri": "https://localhost:8080/",
          "height": 67
        },
        "outputId": "26758608-00e4-42c8-fb8c-f54e65792762"
      },
      "source": [
        "evaluation = net.evaluate(train_generator)\n",
        "print('accuracy:', evaluation[1])\n",
        "print('loss:', evaluation[0])"
      ],
      "execution_count": null,
      "outputs": [
        {
          "output_type": "stream",
          "text": [
            "405/405 [==============================] - 205s 507ms/step - loss: 0.3040 - accuracy: 0.9198\n",
            "accuracy: 0.9197559356689453\n",
            "loss: 0.3039795160293579\n"
          ],
          "name": "stdout"
        }
      ]
    },
    {
      "cell_type": "code",
      "metadata": {
        "id": "pyxQ_TVj_McE",
        "colab_type": "code",
        "colab": {
          "base_uri": "https://localhost:8080/",
          "height": 312
        },
        "outputId": "66c24e77-28ca-4810-fb33-29945ef4f65c"
      },
      "source": [
        "plt.figure()\n",
        "plt.plot(history.history['accuracy'])\n",
        "plt.plot(history.history['val_accuracy'])\n",
        "plt.xlabel(\"epoch number\")\n",
        "plt.ylabel(\"accuracy\")\n",
        "plt.legend(['Training','Validation'])\n",
        "plt.title(\"Car Classification using ResNet152 V2\")"
      ],
      "execution_count": null,
      "outputs": [
        {
          "output_type": "execute_result",
          "data": {
            "text/plain": [
              "Text(0.5, 1.0, 'Car Classification using ResNet152 V2')"
            ]
          },
          "metadata": {
            "tags": []
          },
          "execution_count": 132
        },
        {
          "output_type": "display_data",
          "data": {
            "image/png": "[encoded data removed]",
            "text/plain": [
              "<Figure size 432x288 with 1 Axes>"
            ]
          },
          "metadata": {
            "tags": [],
            "needs_background": "light"
          }
        }
      ]
    },
    {
      "cell_type": "code",
      "metadata": {
        "id": "F2Y0gwUx_fjQ",
        "colab_type": "code",
        "colab": {
          "base_uri": "https://localhost:8080/",
          "height": 312
        },
        "outputId": "4c076a9a-f787-4076-8876-8358965d23c6"
      },
      "source": [
        "plt.figure()\n",
        "plt.plot(history.history['loss'])\n",
        "plt.plot(history.history['val_loss'])\n",
        "plt.xlabel(\"epoch number\")\n",
        "plt.ylabel(\"loss\")\n",
        "plt.legend(['Training','Validation'])\n",
        "plt.title(\"Car Classification using ResNet152 V2\")"
      ],
      "execution_count": null,
      "outputs": [
        {
          "output_type": "execute_result",
          "data": {
            "text/plain": [
              "Text(0.5, 1.0, 'Car Classification using ResNet152 V2')"
            ]
          },
          "metadata": {
            "tags": []
          },
          "execution_count": 115
        },
        {
          "output_type": "display_data",
          "data": {
            "image/png": "[encoded data removed]",
            "text/plain": [
              "<Figure size 432x288 with 1 Axes>"
            ]
          },
          "metadata": {
            "tags": [],
            "needs_background": "light"
          }
        }
      ]
    },
    {
      "cell_type": "code",
      "metadata": {
        "id": "2BAUF6Lp_5yw",
        "colab_type": "code",
        "colab": {
          "base_uri": "https://localhost:8080/",
          "height": 34
        },
        "outputId": "ba50e4d4-a65d-4bed-eb1f-64f4fe4774c5"
      },
      "source": [
        "print(test_generator)"
      ],
      "execution_count": null,
      "outputs": [
        {
          "output_type": "stream",
          "text": [
            "<tensorflow.python.keras.preprocessing.image.DirectoryIterator object at 0x7fad47ac72e8>\n"
          ],
          "name": "stdout"
        }
      ]
    },
    {
      "cell_type": "code",
      "metadata": {
        "id": "zvIIH-Iw_8KM",
        "colab_type": "code",
        "colab": {
          "base_uri": "https://localhost:8080/",
          "height": 34
        },
        "outputId": "c58f9e02-5867-48bb-9520-b7228f5871bb"
      },
      "source": [
        "test_generator2 = test_datagen.flow_from_directory('/tmp/car_ims/valid/', target_size=(224, 224), class_mode='categorical', batch_size=3237)\n",
        "X, y = next(test_generator2)"
      ],
      "execution_count": null,
      "outputs": [
        {
          "output_type": "stream",
          "text": [
            "Found 3237 images belonging to 196 classes.\n"
          ],
          "name": "stdout"
        }
      ]
    },
    {
      "cell_type": "code",
      "metadata": {
        "id": "tiDa1IyX_-b9",
        "colab_type": "code",
        "colab": {}
      },
      "source": [
        "yhat = net.predict(X)\n",
        "max_yhat = np.argmax(yhat, axis = -1)"
      ],
      "execution_count": null,
      "outputs": []
    },
    {
      "cell_type": "code",
      "metadata": {
        "id": "VZLRcZ6uAA2a",
        "colab_type": "code",
        "colab": {}
      },
      "source": [
        "y_true = np.argmax(y, axis = -1)"
      ],
      "execution_count": null,
      "outputs": []
    },
    {
      "cell_type": "code",
      "metadata": {
        "id": "lp_6YOXDAE06",
        "colab_type": "code",
        "colab": {
          "base_uri": "https://localhost:8080/",
          "height": 84
        },
        "outputId": "939a4133-eb2b-4425-f7b1-e1190bd6634c"
      },
      "source": [
        "print(max_yhat[:20])\n",
        "print(y_true[:20])"
      ],
      "execution_count": null,
      "outputs": [
        {
          "output_type": "stream",
          "text": [
            "[ 14 186 150  62   5 187 155 180 157  90 160 190 155  84  27 148 152  80\n",
            " 108 113]\n",
            "[ 14 133 150  62   5 187 155 180 157  90 160 190 155  84  27 148 152  80\n",
            " 108 113]\n"
          ],
          "name": "stdout"
        }
      ]
    },
    {
      "cell_type": "code",
      "metadata": {
        "id": "TpmW3X4-AHRM",
        "colab_type": "code",
        "colab": {}
      },
      "source": [
        "from sklearn.metrics import confusion_matrix\n",
        "cm = confusion_matrix(y_true, max_yhat)"
      ],
      "execution_count": null,
      "outputs": []
    },
    {
      "cell_type": "code",
      "metadata": {
        "id": "D7ZThMCyAKA3",
        "colab_type": "code",
        "colab": {
          "base_uri": "https://localhost:8080/",
          "height": 134
        },
        "outputId": "4de475f9-8748-416a-8f48-09358b01e62b"
      },
      "source": [
        "cm"
      ],
      "execution_count": null,
      "outputs": [
        {
          "output_type": "execute_result",
          "data": {
            "text/plain": [
              "array([[13,  0,  0, ...,  0,  0,  0],\n",
              "       [ 0, 10,  3, ...,  0,  0,  0],\n",
              "       [ 0,  0, 13, ...,  0,  0,  0],\n",
              "       ...,\n",
              "       [ 0,  0,  0, ..., 19,  0,  0],\n",
              "       [ 0,  0,  0, ...,  0, 13,  0],\n",
              "       [ 0,  0,  0, ...,  0,  0, 15]])"
            ]
          },
          "metadata": {
            "tags": []
          },
          "execution_count": 123
        }
      ]
    },
    {
      "cell_type": "code",
      "metadata": {
        "id": "69yreB0LAOTU",
        "colab_type": "code",
        "colab": {
          "base_uri": "https://localhost:8080/",
          "height": 1000
        },
        "outputId": "5988e6eb-cf1a-49b2-eeaa-0160eed782fc"
      },
      "source": [
        "column_sums = np.sum(cm, axis=1)\n",
        "row_sums = np.sum(cm, axis=0)\n",
        "full_sum = np.sum(cm)\n",
        "\n",
        "for i in range(196):\n",
        "  correct = cm[i][i]\n",
        "  total = column_sums[i]\n",
        "  accuracy = correct/total\n",
        "  print('class',i,':',accuracy)"
      ],
      "execution_count": null,
      "outputs": [
        {
          "output_type": "stream",
          "text": [
            "class 0 : 0.9285714285714286\n",
            "class 1 : 0.7142857142857143\n",
            "class 2 : 0.8666666666666667\n",
            "class 3 : 0.75\n",
            "class 4 : 0.5\n",
            "class 5 : 0.8823529411764706\n",
            "class 6 : 0.8461538461538461\n",
            "class 7 : 0.65\n",
            "class 8 : 0.7058823529411765\n",
            "class 9 : 0.6666666666666666\n",
            "class 10 : 0.7692307692307693\n",
            "class 11 : 0.6875\n",
            "class 12 : 0.75\n",
            "class 13 : 0.5333333333333333\n",
            "class 14 : 0.9375\n",
            "class 15 : 0.5714285714285714\n",
            "class 16 : 0.36363636363636365\n",
            "class 17 : 0.6842105263157895\n",
            "class 18 : 0.7619047619047619\n",
            "class 19 : 0.9333333333333333\n",
            "class 20 : 0.3888888888888889\n",
            "class 21 : 0.5217391304347826\n",
            "class 22 : 0.7333333333333333\n",
            "class 23 : 0.95\n",
            "class 24 : 0.7\n",
            "class 25 : 0.9\n",
            "class 26 : 0.6153846153846154\n",
            "class 27 : 0.8823529411764706\n",
            "class 28 : 0.7222222222222222\n",
            "class 29 : 0.9090909090909091\n",
            "class 30 : 0.75\n",
            "class 31 : 1.0\n",
            "class 32 : 0.8421052631578947\n",
            "class 33 : 0.6666666666666666\n",
            "class 34 : 1.0\n",
            "class 35 : 0.875\n",
            "class 36 : 0.8571428571428571\n",
            "class 37 : 0.9166666666666666\n",
            "class 38 : 0.7368421052631579\n",
            "class 39 : 0.8947368421052632\n",
            "class 40 : 1.0\n",
            "class 41 : 0.6666666666666666\n",
            "class 42 : 0.8\n",
            "class 43 : 0.6842105263157895\n",
            "class 44 : 0.9285714285714286\n",
            "class 45 : 0.7\n",
            "class 46 : 0.7333333333333333\n",
            "class 47 : 0.8571428571428571\n",
            "class 48 : 0.6363636363636364\n",
            "class 49 : 0.8181818181818182\n",
            "class 50 : 0.9444444444444444\n",
            "class 51 : 0.8571428571428571\n",
            "class 52 : 0.8461538461538461\n",
            "class 53 : 0.5263157894736842\n",
            "class 54 : 0.6666666666666666\n",
            "class 55 : 0.8095238095238095\n",
            "class 56 : 0.9090909090909091\n",
            "class 57 : 1.0\n",
            "class 58 : 0.7857142857142857\n",
            "class 59 : 0.9333333333333333\n",
            "class 60 : 0.7857142857142857\n",
            "class 61 : 0.5\n",
            "class 62 : 0.9047619047619048\n",
            "class 63 : 0.4375\n",
            "class 64 : 0.6111111111111112\n",
            "class 65 : 0.782608695652174\n",
            "class 66 : 0.8333333333333334\n",
            "class 67 : 0.9285714285714286\n",
            "class 68 : 0.8461538461538461\n",
            "class 69 : 0.9\n",
            "class 70 : 0.5\n",
            "class 71 : 0.8823529411764706\n",
            "class 72 : 0.5238095238095238\n",
            "class 73 : 0.6190476190476191\n",
            "class 74 : 0.7916666666666666\n",
            "class 75 : 1.0\n",
            "class 76 : 0.9444444444444444\n",
            "class 77 : 1.0\n",
            "class 78 : 0.8636363636363636\n",
            "class 79 : 0.7777777777777778\n",
            "class 80 : 1.0\n",
            "class 81 : 0.9411764705882353\n",
            "class 82 : 0.75\n",
            "class 83 : 0.75\n",
            "class 84 : 0.9411764705882353\n",
            "class 85 : 0.9285714285714286\n",
            "class 86 : 0.9\n",
            "class 87 : 0.7142857142857143\n",
            "class 88 : 1.0\n",
            "class 89 : 0.9166666666666666\n",
            "class 90 : 0.95\n",
            "class 91 : 0.9090909090909091\n",
            "class 92 : 1.0\n",
            "class 93 : 1.0\n",
            "class 94 : 0.8461538461538461\n",
            "class 95 : 0.8\n",
            "class 96 : 0.8235294117647058\n",
            "class 97 : 0.9090909090909091\n",
            "class 98 : 1.0\n",
            "class 99 : 1.0\n",
            "class 100 : 0.875\n",
            "class 101 : 0.8666666666666667\n",
            "class 102 : 0.45454545454545453\n",
            "class 103 : 0.6875\n",
            "class 104 : 0.7692307692307693\n",
            "class 105 : 0.9230769230769231\n",
            "class 106 : 1.0\n",
            "class 107 : 1.0\n",
            "class 108 : 0.8888888888888888\n",
            "class 109 : 0.8461538461538461\n",
            "class 110 : 0.7647058823529411\n",
            "class 111 : 0.9333333333333333\n",
            "class 112 : 0.8823529411764706\n",
            "class 113 : 0.8846153846153846\n",
            "class 114 : 1.0\n",
            "class 115 : 1.0\n",
            "class 116 : 0.9583333333333334\n",
            "class 117 : 0.9\n",
            "class 118 : 0.7272727272727273\n",
            "class 119 : 0.6666666666666666\n",
            "class 120 : 1.0\n",
            "class 121 : 0.8421052631578947\n",
            "class 122 : 1.0\n",
            "class 123 : 0.8333333333333334\n",
            "class 124 : 0.8333333333333334\n",
            "class 125 : 0.9333333333333333\n",
            "class 126 : 0.9047619047619048\n",
            "class 127 : 0.7692307692307693\n",
            "class 128 : 1.0\n",
            "class 129 : 0.7857142857142857\n",
            "class 130 : 0.9411764705882353\n",
            "class 131 : 1.0\n",
            "class 132 : 0.8125\n",
            "class 133 : 0.6923076923076923\n",
            "class 134 : 0.7777777777777778\n",
            "class 135 : 0.8333333333333334\n",
            "class 136 : 0.8125\n",
            "class 137 : 0.9444444444444444\n",
            "class 138 : 0.9545454545454546\n",
            "class 139 : 0.8571428571428571\n",
            "class 140 : 0.7142857142857143\n",
            "class 141 : 1.0\n",
            "class 142 : 0.9333333333333333\n",
            "class 143 : 0.9230769230769231\n",
            "class 144 : 0.7272727272727273\n",
            "class 145 : 0.8\n",
            "class 146 : 0.8421052631578947\n",
            "class 147 : 0.875\n",
            "class 148 : 0.8333333333333334\n",
            "class 149 : 0.9166666666666666\n",
            "class 150 : 0.9\n",
            "class 151 : 0.9285714285714286\n",
            "class 152 : 0.8947368421052632\n",
            "class 153 : 0.8947368421052632\n",
            "class 154 : 1.0\n",
            "class 155 : 0.9411764705882353\n",
            "class 156 : 1.0\n",
            "class 157 : 0.8571428571428571\n",
            "class 158 : 0.75\n",
            "class 159 : 1.0\n",
            "class 160 : 0.8333333333333334\n",
            "class 161 : 0.8095238095238095\n",
            "class 162 : 1.0\n",
            "class 163 : 0.9285714285714286\n",
            "class 164 : 0.9411764705882353\n",
            "class 165 : 0.875\n",
            "class 166 : 0.6363636363636364\n",
            "class 167 : 1.0\n",
            "class 168 : 1.0\n",
            "class 169 : 0.875\n",
            "class 170 : 0.9090909090909091\n",
            "class 171 : 1.0\n",
            "class 172 : 0.8846153846153846\n",
            "class 173 : 0.75\n",
            "class 174 : 0.9090909090909091\n",
            "class 175 : 0.7\n",
            "class 176 : 0.8095238095238095\n",
            "class 177 : 0.8461538461538461\n",
            "class 178 : 0.8888888888888888\n",
            "class 179 : 0.6666666666666666\n",
            "class 180 : 0.7222222222222222\n",
            "class 181 : 0.9130434782608695\n",
            "class 182 : 0.9545454545454546\n",
            "class 183 : 0.45454545454545453\n",
            "class 184 : 1.0\n",
            "class 185 : 0.8571428571428571\n",
            "class 186 : 0.75\n",
            "class 187 : 0.8571428571428571\n",
            "class 188 : 0.9230769230769231\n",
            "class 189 : 0.9333333333333333\n",
            "class 190 : 1.0\n",
            "class 191 : 1.0\n",
            "class 192 : 0.9090909090909091\n",
            "class 193 : 1.0\n",
            "class 194 : 0.9285714285714286\n",
            "class 195 : 1.0\n"
          ],
          "name": "stdout"
        }
      ]
    },
    {
      "cell_type": "code",
      "metadata": {
        "id": "EYk7SKSeD6ly",
        "colab_type": "code",
        "colab": {
          "base_uri": "https://localhost:8080/",
          "height": 286
        },
        "outputId": "53986c9f-4117-4639-aae4-d7aab048f537"
      },
      "source": [
        "plt.imshow(cm)"
      ],
      "execution_count": null,
      "outputs": [
        {
          "output_type": "execute_result",
          "data": {
            "text/plain": [
              "<matplotlib.image.AxesImage at 0x7fa9a89dae10>"
            ]
          },
          "metadata": {
            "tags": []
          },
          "execution_count": 131
        },
        {
          "output_type": "display_data",
          "data": {
            "image/png": "[encoded data removed]",
            "text/plain": [
              "<Figure size 432x288 with 1 Axes>"
            ]
          },
          "metadata": {
            "tags": [],
            "needs_background": "light"
          }
        }
      ]
    },
    {
      "cell_type": "markdown",
      "metadata": {
        "id": "isTwOlB_IuWe",
        "colab_type": "text"
      },
      "source": [
        "## Sources\n",
        "\n",
        "Stanford Dataset:\n",
        "3D Object Representations for Fine-Grained Categorization Jonathan Krause, \n",
        "    Michael Stark, Jia Deng, Li Fei-Fei 4th IEEE Workshop on 3D Representation \n",
        "    and Recognition, at ICCV 2013 3D (3dRR-13). Sydney, Australia. Dec. 8, 2013.\n",
        "\n",
        "ResNet152 V2:\n",
        "[Identity Mappings in Deep Residual Networks] (https://arxiv.org/abs/1603.\n",
        "    05027) (CVPR 2016)\n",
        "\n",
        "\n",
        "\n"
      ]
    }
  ]
}