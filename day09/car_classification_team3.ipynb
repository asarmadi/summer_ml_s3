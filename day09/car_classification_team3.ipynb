{
  "nbformat": 4,
  "nbformat_minor": 0,
  "metadata": {
    "accelerator": "GPU",
    "colab": {
      "name": "Group 3's Copy of car_keras.ipynb",
      "provenance": [],
      "collapsed_sections": []
    },
    "kernelspec": {
      "display_name": "Python 3",
      "language": "python",
      "name": "python3"
    },
    "language_info": {
      "codemirror_mode": {
        "name": "ipython",
        "version": 3
      },
      "file_extension": ".py",
      "mimetype": "text/x-python",
      "name": "python",
      "nbconvert_exporter": "python",
      "pygments_lexer": "ipython3",
      "version": "3.7.0"
    }
  },
  "cells": [
    {
      "cell_type": "code",
      "metadata": {
        "colab_type": "code",
        "id": "NTwNZcxOOU6W",
        "colab": {}
      },
      "source": [
        "import tensorflow as tf\n",
        "from tensorflow.keras.preprocessing.image import ImageDataGenerator\n",
        "from tensorflow.keras.applications import ResNet50\n",
        "import os\n",
        "import tarfile\n",
        "import scipy.io as sio\n",
        "import numpy as np\n",
        "import random\n",
        "import cv2\n",
        "import keras\n",
        "\n",
        "import numpy as np\n",
        "from tensorflow.keras.layers import Dense, Conv2D, Flatten, MaxPooling2D, Dropout, BatchNormalization, Activation, AveragePooling2D\n",
        "from tensorflow.keras.models import Sequential"
      ],
      "execution_count": null,
      "outputs": []
    },
    {
      "cell_type": "code",
      "metadata": {
        "colab_type": "code",
        "id": "QC3espG8Ddmx",
        "colab": {}
      },
      "source": [
        "def save_train_data(fnames, labels, bboxes):\n",
        "    src_folder ='/tmp/car_ims'\n",
        "    num_samples = len(fnames)\n",
        "\n",
        "    train_split = 0.8\n",
        "    num_train = int(round(num_samples * train_split))\n",
        "    train_indexes = random.sample(range(num_samples), num_train)\n",
        "\n",
        "    for i in range(num_samples):\n",
        "        fname = fnames[i][8:]\n",
        "        label = labels[i]\n",
        "        (x1, y1, x2, y2) = bboxes[i]\n",
        "        src_path = os.path.join(src_folder, fname)\n",
        "\n",
        "        src_image = cv2.imread(src_path)\n",
        "        height, width = src_image.shape[:2]\n",
        "\n",
        "        # margins of 16 pixels (Crop image according to a given bounding box)\n",
        "        margin = 16\n",
        "        x1 = max(0, x1 - margin)\n",
        "        y1 = max(0, y1 - margin)\n",
        "        x2 = min(x2 + margin, width)\n",
        "        y2 = min(y2 + margin, height)\n",
        "\n",
        "        if i in train_indexes:\n",
        "            dst_folder = '/tmp/car_ims/train/'\n",
        "        else:\n",
        "            dst_folder = '/tmp/car_ims/valid/'\n",
        "\n",
        "        dst_path = os.path.join(dst_folder, label)\n",
        "        if not os.path.exists(dst_path):\n",
        "            os.makedirs(dst_path)\n",
        "        dst_path = os.path.join(dst_path, fname)\n",
        "        dst_image = src_image[y1:y2, x1:x2]\n",
        "        cv2.imwrite(dst_path, dst_image)"
      ],
      "execution_count": null,
      "outputs": []
    },
    {
      "cell_type": "markdown",
      "metadata": {
        "colab_type": "text",
        "id": "L_hlq2krB2wL"
      },
      "source": [
        "### Download and Separate Data\n",
        "\n",
        "We first need to download the data from a remote server and seperate the data into training and testing sets. Note that you only need to download the data once, if you have downloaded the data before do not run the code in this section."
      ]
    },
    {
      "cell_type": "code",
      "metadata": {
        "colab_type": "code",
        "id": "PbQqVEvLB1SZ",
        "colab": {
          "base_uri": "https://localhost:8080/",
          "height": 208
        },
        "outputId": "4942e546-5854-4860-bbfb-894495f725fe"
      },
      "source": [
        "!wget --no-check-certificate \\\n",
        "  http://imagenet.stanford.edu/internal/car196/car_ims.tgz \\\n",
        "  -O /tmp/car_ims.tgz"
      ],
      "execution_count": null,
      "outputs": [
        {
          "output_type": "stream",
          "text": [
            "--2020-08-14 14:40:11--  http://imagenet.stanford.edu/internal/car196/car_ims.tgz\n",
            "Resolving imagenet.stanford.edu (imagenet.stanford.edu)... 171.64.68.16\n",
            "Connecting to imagenet.stanford.edu (imagenet.stanford.edu)|171.64.68.16|:80... connected.\n",
            "HTTP request sent, awaiting response... 200 OK\n",
            "Length: 1956628579 (1.8G) [application/x-gzip]\n",
            "Saving to: ‘/tmp/car_ims.tgz’\n",
            "\n",
            "/tmp/car_ims.tgz    100%[===================>]   1.82G  43.7MB/s    in 48s     \n",
            "\n",
            "2020-08-14 14:40:59 (39.1 MB/s) - ‘/tmp/car_ims.tgz’ saved [1956628579/1956628579]\n",
            "\n"
          ],
          "name": "stdout"
        }
      ]
    },
    {
      "cell_type": "code",
      "metadata": {
        "colab_type": "code",
        "id": "BthGtb7KCYND",
        "colab": {
          "base_uri": "https://localhost:8080/",
          "height": 208
        },
        "outputId": "a4c61874-a377-40f0-a692-ebc8d04d1a5f"
      },
      "source": [
        "!wget --no-check-certificate \\\n",
        "  http://imagenet.stanford.edu/internal/car196/cars_annos.mat \\\n",
        "  -O /tmp/cars_annos.mat"
      ],
      "execution_count": null,
      "outputs": [
        {
          "output_type": "stream",
          "text": [
            "--2020-08-14 14:40:59--  http://imagenet.stanford.edu/internal/car196/cars_annos.mat\n",
            "Resolving imagenet.stanford.edu (imagenet.stanford.edu)... 171.64.68.16\n",
            "Connecting to imagenet.stanford.edu (imagenet.stanford.edu)|171.64.68.16|:80... connected.\n",
            "HTTP request sent, awaiting response... 200 OK\n",
            "Length: 394471 (385K) [text/plain]\n",
            "Saving to: ‘/tmp/cars_annos.mat’\n",
            "\n",
            "/tmp/cars_annos.mat 100%[===================>] 385.23K   653KB/s    in 0.6s    \n",
            "\n",
            "2020-08-14 14:41:00 (653 KB/s) - ‘/tmp/cars_annos.mat’ saved [394471/394471]\n",
            "\n"
          ],
          "name": "stdout"
        }
      ]
    },
    {
      "cell_type": "code",
      "metadata": {
        "colab_type": "code",
        "id": "Jy23994RCZ-B",
        "colab": {
          "base_uri": "https://localhost:8080/",
          "height": 208
        },
        "outputId": "56de49a7-a5f8-49f5-dc94-60b5a91633a7"
      },
      "source": [
        "!wget --no-check-certificate \\\n",
        "  http://imagenet.stanford.edu/internal/car196/cars_test_annos_withlabels.mat \\\n",
        "  -O /tmp/cars_test_annos.mat"
      ],
      "execution_count": null,
      "outputs": [
        {
          "output_type": "stream",
          "text": [
            "--2020-08-14 14:41:00--  http://imagenet.stanford.edu/internal/car196/cars_test_annos_withlabels.mat\n",
            "Resolving imagenet.stanford.edu (imagenet.stanford.edu)... 171.64.68.16\n",
            "Connecting to imagenet.stanford.edu (imagenet.stanford.edu)|171.64.68.16|:80... connected.\n",
            "HTTP request sent, awaiting response... 200 OK\n",
            "Length: 185758 (181K) [text/plain]\n",
            "Saving to: ‘/tmp/cars_test_annos.mat’\n",
            "\n",
            "/tmp/cars_test_anno 100%[===================>] 181.40K   569KB/s    in 0.3s    \n",
            "\n",
            "2020-08-14 14:41:01 (569 KB/s) - ‘/tmp/cars_test_annos.mat’ saved [185758/185758]\n",
            "\n"
          ],
          "name": "stdout"
        }
      ]
    },
    {
      "cell_type": "code",
      "metadata": {
        "colab_type": "code",
        "id": "OCVPIypoCu5p",
        "colab": {}
      },
      "source": [
        "!rm -rf /tmp/car_ims/train/\n",
        "!rm -rf /tmp/car_ims/test/\n",
        "!rm -rf /tmp/car_ims/valid/"
      ],
      "execution_count": null,
      "outputs": []
    },
    {
      "cell_type": "markdown",
      "metadata": {
        "colab_type": "text",
        "id": "yeu2slZpDOr5"
      },
      "source": [
        "Unzip the compressed data. (You do not need to understand how this works)"
      ]
    },
    {
      "cell_type": "code",
      "metadata": {
        "colab_type": "code",
        "id": "AXO1W3XyDFBI",
        "colab": {}
      },
      "source": [
        "local_tar = '/tmp/car_ims.tgz'\n",
        "my_tar = tarfile.open(local_tar)\n",
        "my_tar.extractall('/tmp')\n",
        "my_tar.close()"
      ],
      "execution_count": null,
      "outputs": []
    },
    {
      "cell_type": "code",
      "metadata": {
        "colab_type": "code",
        "id": "9DEM73RDDZXZ",
        "colab": {
          "base_uri": "https://localhost:8080/",
          "height": 225
        },
        "outputId": "7f62f467-6439-4d90-b116-dc6c34915715"
      },
      "source": [
        "car_annotation= sio.loadmat('/tmp/cars_annos.mat')\n",
        "\n",
        "annotations = car_annotation['annotations']\n",
        "annotations = np.transpose(annotations)\n",
        "\n",
        "fnames = []\n",
        "class_ids = []\n",
        "labels = []\n",
        "bboxes  = []\n",
        "for annotation in annotations:\n",
        "  bbox_x1 = annotation[0][1][0][0]\n",
        "  bbox_y1 = annotation[0][2][0][0]\n",
        "  bbox_x2 = annotation[0][3][0][0]\n",
        "  bbox_y2 = annotation[0][4][0][0]\n",
        "\n",
        "  class_id = annotation[0][5][0][0]\n",
        "  bboxes.append((bbox_x1, bbox_y1, bbox_x2, bbox_y2))\n",
        "  labels.append(f'{class_id:06}')\n",
        "\n",
        "  file_name = annotation[0][0][0]\n",
        "  class_ids.append(class_id)\n",
        "  fnames.append(file_name)\n",
        "\n",
        "labels_count = np.unique(class_ids).shape[0]\n",
        "print(np.unique(class_ids))\n",
        "print('The number of different cars is %d' % labels_count)\n",
        "\n",
        "save_train_data(fnames, labels, bboxes)"
      ],
      "execution_count": null,
      "outputs": [
        {
          "output_type": "stream",
          "text": [
            "[  1   2   3   4   5   6   7   8   9  10  11  12  13  14  15  16  17  18\n",
            "  19  20  21  22  23  24  25  26  27  28  29  30  31  32  33  34  35  36\n",
            "  37  38  39  40  41  42  43  44  45  46  47  48  49  50  51  52  53  54\n",
            "  55  56  57  58  59  60  61  62  63  64  65  66  67  68  69  70  71  72\n",
            "  73  74  75  76  77  78  79  80  81  82  83  84  85  86  87  88  89  90\n",
            "  91  92  93  94  95  96  97  98  99 100 101 102 103 104 105 106 107 108\n",
            " 109 110 111 112 113 114 115 116 117 118 119 120 121 122 123 124 125 126\n",
            " 127 128 129 130 131 132 133 134 135 136 137 138 139 140 141 142 143 144\n",
            " 145 146 147 148 149 150 151 152 153 154 155 156 157 158 159 160 161 162\n",
            " 163 164 165 166 167 168 169 170 171 172 173 174 175 176 177 178 179 180\n",
            " 181 182 183 184 185 186 187 188 189 190 191 192 193 194 195 196]\n",
            "The number of different cars is 196\n"
          ],
          "name": "stdout"
        }
      ]
    },
    {
      "cell_type": "markdown",
      "metadata": {
        "colab_type": "text",
        "id": "e7Wx92qVDv6T"
      },
      "source": [
        "### Create a data generator"
      ]
    },
    {
      "cell_type": "code",
      "metadata": {
        "colab_type": "code",
        "id": "9gJN7b7FOU6f",
        "colab": {
          "base_uri": "https://localhost:8080/",
          "height": 86
        },
        "outputId": "05ed51d8-eadc-4eb3-f277-f3ab50a86ff4"
      },
      "source": [
        "datagen = ImageDataGenerator()\n",
        "train_iter = datagen.flow_from_directory('/tmp/car_ims/train/', target_size = (160, 160), class_mode='categorical', batch_size=64)\n",
        "datagen2 = ImageDataGenerator(horizontal_flip = True)\n",
        "train_iter2 = datagen2.flow_from_directory('/tmp/car_ims/train/', target_size = (160, 160), class_mode='categorical', batch_size=64)\n",
        "datagen3 = ImageDataGenerator(rotation_range = 90)\n",
        "train_iter3 = datagen3.flow_from_directory('/tmp/car_ims/train/', target_size = (160, 160), class_mode='categorical', batch_size=64)\n",
        "test_iter = datagen.flow_from_directory('/tmp/car_ims/valid/', target_size = (160, 160), class_mode='categorical', batch_size=64)"
      ],
      "execution_count": null,
      "outputs": [
        {
          "output_type": "stream",
          "text": [
            "Found 12948 images belonging to 196 classes.\n",
            "Found 12948 images belonging to 196 classes.\n",
            "Found 12948 images belonging to 196 classes.\n",
            "Found 3237 images belonging to 196 classes.\n"
          ],
          "name": "stdout"
        }
      ]
    },
    {
      "cell_type": "code",
      "metadata": {
        "id": "scpP3bMjOQ18",
        "colab_type": "code",
        "colab": {}
      },
      "source": [
        ""
      ],
      "execution_count": null,
      "outputs": []
    },
    {
      "cell_type": "markdown",
      "metadata": {
        "id": "C2LesepKGBWD",
        "colab_type": "text"
      },
      "source": [
        "### Build Model"
      ]
    },
    {
      "cell_type": "code",
      "metadata": {
        "colab_type": "code",
        "id": "H8mAz2MuOU6k",
        "colab": {
          "base_uri": "https://localhost:8080/",
          "height": 624
        },
        "outputId": "64acfa50-de59-4d8d-94ea-31591cc35dc2"
      },
      "source": [
        "model = Sequential([\n",
        "    Conv2D(32, (10, 10), input_shape = (160, 160, 3)),\n",
        "    BatchNormalization(),\n",
        "    Activation('relu'),\n",
        "    MaxPooling2D((3, 3)),\n",
        "    Dropout(0.5),\n",
        "    Conv2D(64, (5, 5)),\n",
        "    BatchNormalization(),\n",
        "    Activation('relu'),\n",
        "    MaxPooling2D((3, 3)),\n",
        "    Dropout(0.5),\n",
        "    # Conv2D(128, (5, 5)),\n",
        "    # BatchNormalization(),\n",
        "    # Activation('relu'),\n",
        "    # MaxPooling2D((2, 2)),\n",
        "    # Dropout(0.5),\n",
        "    # Conv2D(64, (5, 5)),\n",
        "    # BatchNormalization(),\n",
        "    # Activation('relu'),\n",
        "    # MaxPooling2D((2, 2)),\n",
        "    Flatten(),\n",
        "    Dense(256, activation = 'relu'),\n",
        "    Dense(196, activation = 'softmax')\n",
        "\n",
        "])\n",
        "\n",
        "print(model.summary())"
      ],
      "execution_count": null,
      "outputs": [
        {
          "output_type": "stream",
          "text": [
            "Model: \"sequential\"\n",
            "_________________________________________________________________\n",
            "Layer (type)                 Output Shape              Param #   \n",
            "=================================================================\n",
            "conv2d (Conv2D)              (None, 151, 151, 32)      9632      \n",
            "_________________________________________________________________\n",
            "batch_normalization (BatchNo (None, 151, 151, 32)      128       \n",
            "_________________________________________________________________\n",
            "activation (Activation)      (None, 151, 151, 32)      0         \n",
            "_________________________________________________________________\n",
            "max_pooling2d (MaxPooling2D) (None, 50, 50, 32)        0         \n",
            "_________________________________________________________________\n",
            "dropout (Dropout)            (None, 50, 50, 32)        0         \n",
            "_________________________________________________________________\n",
            "conv2d_1 (Conv2D)            (None, 46, 46, 64)        51264     \n",
            "_________________________________________________________________\n",
            "batch_normalization_1 (Batch (None, 46, 46, 64)        256       \n",
            "_________________________________________________________________\n",
            "activation_1 (Activation)    (None, 46, 46, 64)        0         \n",
            "_________________________________________________________________\n",
            "max_pooling2d_1 (MaxPooling2 (None, 15, 15, 64)        0         \n",
            "_________________________________________________________________\n",
            "dropout_1 (Dropout)          (None, 15, 15, 64)        0         \n",
            "_________________________________________________________________\n",
            "flatten (Flatten)            (None, 14400)             0         \n",
            "_________________________________________________________________\n",
            "dense (Dense)                (None, 256)               3686656   \n",
            "_________________________________________________________________\n",
            "dense_1 (Dense)              (None, 196)               50372     \n",
            "=================================================================\n",
            "Total params: 3,798,308\n",
            "Trainable params: 3,798,116\n",
            "Non-trainable params: 192\n",
            "_________________________________________________________________\n",
            "None\n"
          ],
          "name": "stdout"
        }
      ]
    },
    {
      "cell_type": "code",
      "metadata": {
        "id": "pK0e18dlJU35",
        "colab_type": "code",
        "colab": {}
      },
      "source": [
        "model.compile(\n",
        "    optimizer = 'Adam',\n",
        "    loss = 'categorical_crossentropy',\n",
        "    metrics = ['accuracy']\n",
        ")\n"
      ],
      "execution_count": null,
      "outputs": []
    },
    {
      "cell_type": "code",
      "metadata": {
        "id": "5S0tleQlKfQC",
        "colab_type": "code",
        "colab": {}
      },
      "source": [
        "\n",
        "# history = model.fit(train_iter, epochs = 100, validation_data = test_iter)"
      ],
      "execution_count": null,
      "outputs": []
    },
    {
      "cell_type": "code",
      "metadata": {
        "id": "FNlMBKeDHKTg",
        "colab_type": "code",
        "colab": {
          "base_uri": "https://localhost:8080/",
          "height": 450
        },
        "outputId": "70e07b7b-f369-419c-8132-91cc6e02b5ff"
      },
      "source": [
        "import tensorflow as tf\n",
        "import keras\n",
        "\n",
        "base_model = tf.keras.applications.ResNet50(input_shape=(160, 160, 3),\n",
        "                                               include_top=False,\n",
        "                                               weights='imagenet')\n",
        "base_model.trainable = False\n",
        "\n",
        "inputs = keras.Input(shape=(160, 160, 3))\n",
        "x = base_model(inputs, training=False)\n",
        "x = Conv2D(64, (3, 3))(x)\n",
        "x = BatchNormalization()(x)\n",
        "x = Activation('relu')(x)\n",
        "x = keras.layers.GlobalAveragePooling2D()(x)\n",
        "outputs = keras.layers.Dense(196, activation = 'softmax')(x)\n",
        "model = keras.Model(inputs, outputs)\n",
        "model.compile(\n",
        "    optimizer = 'Adam',\n",
        "    loss = 'categorical_crossentropy',\n",
        "    metrics = ['accuracy']\n",
        ")\n",
        "print(model.summary())\n",
        "model.compile(\n",
        "    optimizer = 'Adam',\n",
        "    loss = 'categorical_crossentropy',\n",
        "    metrics = ['accuracy']\n",
        ")"
      ],
      "execution_count": null,
      "outputs": [
        {
          "output_type": "stream",
          "text": [
            "Downloading data from https://storage.googleapis.com/tensorflow/keras-applications/resnet/resnet50_weights_tf_dim_ordering_tf_kernels_notop.h5\n",
            "94773248/94765736 [==============================] - 1s 0us/step\n",
            "Model: \"functional_1\"\n",
            "_________________________________________________________________\n",
            "Layer (type)                 Output Shape              Param #   \n",
            "=================================================================\n",
            "input_2 (InputLayer)         [(None, 160, 160, 3)]     0         \n",
            "_________________________________________________________________\n",
            "resnet50 (Functional)        (None, 5, 5, 2048)        23587712  \n",
            "_________________________________________________________________\n",
            "conv2d_2 (Conv2D)            (None, 3, 3, 64)          1179712   \n",
            "_________________________________________________________________\n",
            "batch_normalization_2 (Batch (None, 3, 3, 64)          256       \n",
            "_________________________________________________________________\n",
            "activation_2 (Activation)    (None, 3, 3, 64)          0         \n",
            "_________________________________________________________________\n",
            "global_average_pooling2d (Gl (None, 64)                0         \n",
            "_________________________________________________________________\n",
            "dense_2 (Dense)              (None, 196)               12740     \n",
            "=================================================================\n",
            "Total params: 24,780,420\n",
            "Trainable params: 1,192,580\n",
            "Non-trainable params: 23,587,840\n",
            "_________________________________________________________________\n",
            "None\n"
          ],
          "name": "stdout"
        }
      ]
    },
    {
      "cell_type": "code",
      "metadata": {
        "id": "dZbmdfs4MpBo",
        "colab_type": "code",
        "colab": {
          "base_uri": "https://localhost:8080/",
          "height": 52
        },
        "outputId": "3d029c4e-809c-4391-a984-4b636a9379f6"
      },
      "source": [
        "with tf.device(\"GPU:0\"):\n",
        "  history = model.fit(train_iter, epochs = 25, validation_data=test_iter)\n",
        "  history = model.fit(train_iter2, epochs = 25, validation_data=test_iter)\n",
        "  #history = model.fit(train_iter3, epochs = 25, validation_data=test_iter)\n"
      ],
      "execution_count": null,
      "outputs": [
        {
          "output_type": "stream",
          "text": [
            "Epoch 1/25\n",
            "203/203 [==============================] - ETA: 0s - loss: 0.1422 - accuracy: 0.9670"
          ],
          "name": "stdout"
        }
      ]
    },
    {
      "cell_type": "code",
      "metadata": {
        "id": "OXmCZr-rYQhT",
        "colab_type": "code",
        "colab": {
          "base_uri": "https://localhost:8080/",
          "height": 754
        },
        "outputId": "65987fcd-b07a-4d0c-8d3e-adf2f7bcf5e8"
      },
      "source": [
        "dot_img_file = '/tmp/model_1.png'\n",
        "keras.utils.plot_model(model, to_file = dot_img_file, show_shapes = True)"
      ],
      "execution_count": null,
      "outputs": [
        {
          "output_type": "execute_result",
          "data": {
            "image/png": "[encoded data removed]",
            "text/plain": [
              "<IPython.core.display.Image object>"
            ]
          },
          "metadata": {
            "tags": []
          },
          "execution_count": 16
        }
      ]
    }
  ]
}