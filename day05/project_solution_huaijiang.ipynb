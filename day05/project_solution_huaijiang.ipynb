{
  "nbformat": 4,
  "nbformat_minor": 0,
  "metadata": {
    "colab": {
      "name": "project_solution.ipynb",
      "provenance": [],
      "collapsed_sections": []
    },
    "kernelspec": {
      "display_name": "Python 3",
      "language": "python",
      "name": "python3"
    },
    "language_info": {
      "codemirror_mode": {
        "name": "ipython",
        "version": 3
      },
      "file_extension": ".py",
      "mimetype": "text/x-python",
      "name": "python",
      "nbconvert_exporter": "python",
      "pygments_lexer": "ipython3",
      "version": "3.7.0"
    }
  },
  "cells": [
    {
      "cell_type": "code",
      "metadata": {
        "colab_type": "code",
        "id": "EjOoKJazwe0W",
        "colab": {}
      },
      "source": [
        "import numpy as np\n",
        "import pandas as pd\n",
        "import matplotlib.pyplot as plt\n",
        "\n",
        "plt.rc_context({'axes.edgecolor':'white', 'xtick.color':'white', 'axes.labelcolor':'white', 'ytick.color':'white'});"
      ],
      "execution_count": 1,
      "outputs": []
    },
    {
      "cell_type": "markdown",
      "metadata": {
        "id": "Dserfn81WCS2",
        "colab_type": "text"
      },
      "source": [
        "# Machine Learning Pipeline\n",
        "## Collect, visualize, and split the data"
      ]
    },
    {
      "cell_type": "code",
      "metadata": {
        "id": "atRCB2bSWBfV",
        "colab_type": "code",
        "colab": {
          "base_uri": "https://localhost:8080/",
          "height": 279
        },
        "outputId": "932e118c-abb8-4889-fa53-8d68d357f9c4"
      },
      "source": [
        "feature = pd.read_csv('https://raw.githubusercontent.com/asarmadi/summer_ml_s3/master/day05/fish_market_feature.csv')\n",
        "label = pd.read_csv('https://raw.githubusercontent.com/asarmadi/summer_ml_s3/master/day05/fish_market_label.csv')\n",
        "X = feature.values\n",
        "y = label.values\n",
        "\n",
        "plt.plot(X, y, 'o')\n",
        "plt.xlabel('Features')\n",
        "plt.ylabel('Label')\n",
        "plt.grid()"
      ],
      "execution_count": 2,
      "outputs": [
        {
          "output_type": "display_data",
          "data": {
            "image/png": "[encoded data removed]",
            "text/plain": [
              "<Figure size 432x288 with 1 Axes>"
            ]
          },
          "metadata": {
            "tags": [],
            "needs_background": "dark"
          }
        }
      ]
    },
    {
      "cell_type": "markdown",
      "metadata": {
        "id": "q26r9-nrW2hD",
        "colab_type": "text"
      },
      "source": [
        "## Which model and which loss to use?"
      ]
    },
    {
      "cell_type": "code",
      "metadata": {
        "id": "7Z7E8koVWxAO",
        "colab_type": "code",
        "colab": {}
      },
      "source": [
        "from sklearn.linear_model import LinearRegression, Ridge, Lasso"
      ],
      "execution_count": 3,
      "outputs": []
    },
    {
      "cell_type": "markdown",
      "metadata": {
        "id": "p9Jtr_JiW8Qb",
        "colab_type": "text"
      },
      "source": [
        "## Data preprocessing and feature transformation"
      ]
    },
    {
      "cell_type": "code",
      "metadata": {
        "id": "IWS2ajXlOvxz",
        "colab_type": "code",
        "colab": {}
      },
      "source": [
        "feature = pd.read_csv('https://raw.githubusercontent.com/asarmadi/summer_ml_s3/master/day05/fish_market_feature.csv')\n",
        "label = pd.read_csv('https://raw.githubusercontent.com/asarmadi/summer_ml_s3/master/day05/fish_market_label.csv')\n",
        "X = feature.values\n",
        "y = label.values\n",
        "\n",
        "'''\n",
        "Since we are predicting the weight, it might be useful to include a column of volumn estimates.\n",
        "Because weight = 9.81 * density * volume\n",
        "'''\n",
        "# Vol = X[:, 1:2] * X[:, 3:4] * X[:, 4:5]\n",
        "# X = np.hstack((X, X ** 2))\n",
        "\n",
        "'''\n",
        "We can also use the PolynomialFeatures class provide by sklearn\n",
        "'''\n",
        "from sklearn.preprocessing import PolynomialFeatures\n",
        "\n",
        "poly = PolynomialFeatures(3)\n",
        "X = poly.fit_transform(X)"
      ],
      "execution_count": 4,
      "outputs": []
    },
    {
      "cell_type": "markdown",
      "metadata": {
        "id": "W-iY8haXXxuH",
        "colab_type": "text"
      },
      "source": [
        "## Split the dataset"
      ]
    },
    {
      "cell_type": "code",
      "metadata": {
        "id": "HyF_CIqpXwlJ",
        "colab_type": "code",
        "colab": {}
      },
      "source": [
        "from sklearn.model_selection import train_test_split\n",
        "X_train, X_val, y_train, y_val = train_test_split(X, y, test_size=0.2, random_state=42)"
      ],
      "execution_count": 5,
      "outputs": []
    },
    {
      "cell_type": "markdown",
      "metadata": {
        "id": "bpNoPyDEX6w8",
        "colab_type": "text"
      },
      "source": [
        "## Find the best hyper-parameter by checking the validation error"
      ]
    },
    {
      "cell_type": "code",
      "metadata": {
        "id": "gpwJ_yf7PJqi",
        "colab_type": "code",
        "colab": {}
      },
      "source": [
        "from sklearn.linear_model import Ridge\n",
        "\n",
        "alpha_range = np.arange(1000, 0, -1)\n",
        "mae_history = []\n",
        "regr = Ridge()\n",
        "\n",
        "for a in alpha_range:\n",
        "    regr.set_params(alpha=a)\n",
        "    regr.fit(X_train, y_train)\n",
        "\n",
        "    yhat_val = regr.predict(X_val)\n",
        "    mae = np.mean(np.abs(yhat_val - y_val))\n",
        "    mae_history.append(mae)"
      ],
      "execution_count": 6,
      "outputs": []
    },
    {
      "cell_type": "code",
      "metadata": {
        "id": "yt0_ZH8wPOK0",
        "colab_type": "code",
        "colab": {}
      },
      "source": [
        "best_alpha_index = np.argmin(mae_history)\n",
        "best_alpha = alpha_range[best_alpha_index]"
      ],
      "execution_count": 7,
      "outputs": []
    },
    {
      "cell_type": "code",
      "metadata": {
        "id": "9ZJrLGodS2DL",
        "colab_type": "code",
        "colab": {
          "base_uri": "https://localhost:8080/",
          "height": 34
        },
        "outputId": "7363a7fa-dee9-481d-eefd-189e8e73191f"
      },
      "source": [
        "regr.set_params(alpha=best_alpha)\n",
        "regr.fit(X_train, y_train)\n",
        "\n",
        "yhat_val = regr.predict(X_val)\n",
        "MAE_val = np.mean(np.abs(yhat_val - y_val))\n",
        "\n",
        "print (MAE_val)"
      ],
      "execution_count": 8,
      "outputs": [
        {
          "output_type": "stream",
          "text": [
            "44.7871187090506\n"
          ],
          "name": "stdout"
        }
      ]
    },
    {
      "cell_type": "markdown",
      "metadata": {
        "id": "pnlKZ-j1Yddc",
        "colab_type": "text"
      },
      "source": [
        "## Evaluate the model on the test set"
      ]
    },
    {
      "cell_type": "code",
      "metadata": {
        "id": "izeve2AETjYV",
        "colab_type": "code",
        "colab": {
          "base_uri": "https://localhost:8080/",
          "height": 34
        },
        "outputId": "ba6d7b08-0efd-452e-bfb8-c6c08342a1ba"
      },
      "source": [
        "''' \n",
        "The test set will be released on Sunday night\n",
        "'''\n",
        "X_test = pd.read_csv('https://raw.githubusercontent.com/asarmadi/summer_ml_s3/master/day05/fish_market_test_feature.csv').values\n",
        "y_test = pd.read_csv('https://raw.githubusercontent.com/asarmadi/summer_ml_s3/master/day05/fish_market_test_label.csv').values\n",
        "\n",
        "## Do not forget to apply the same feature transformation on the test set\n",
        "poly = PolynomialFeatures(3)\n",
        "X_test = poly.fit_transform(X_test)\n",
        "\n",
        "yhat_test = regr.predict(X_test)\n",
        "mae_test = np.mean(np.abs(yhat_test - y_test))\n",
        "\n",
        "print (mae_test)"
      ],
      "execution_count": 9,
      "outputs": [
        {
          "output_type": "stream",
          "text": [
            "38.76824801233426\n"
          ],
          "name": "stdout"
        }
      ]
    },
    {
      "cell_type": "code",
      "metadata": {
        "id": "ySyjYsDES27w",
        "colab_type": "code",
        "colab": {
          "base_uri": "https://localhost:8080/",
          "height": 279
        },
        "outputId": "69702106-2168-4b22-a16c-b29c9f08930f"
      },
      "source": [
        "plt.plot(yhat_test, 'o', label='Predicted')\n",
        "plt.plot(y_test, 'o', label='Ground truth')\n",
        "plt.xlabel('Sample index')\n",
        "plt.ylabel('Label')\n",
        "plt.legend()\n",
        "plt.grid()"
      ],
      "execution_count": 10,
      "outputs": [
        {
          "output_type": "display_data",
          "data": {
            "image/png": "[encoded data removed]",
            "text/plain": [
              "<Figure size 432x288 with 1 Axes>"
            ]
          },
          "metadata": {
            "tags": [],
            "needs_background": "dark"
          }
        }
      ]
    },
    {
      "cell_type": "markdown",
      "metadata": {
        "id": "k-1Vd-adS8Gr",
        "colab_type": "text"
      },
      "source": [
        "## Bonus: Leave-one-out cross validation\n",
        "The vailidation error also depends on how the validation set is chosen. It is possible that the model performs well on a specific choice of the validation set but still poorly on the test set. To alleviate this problem, we can use cross validation. Here we show an extreeme case of cross validation: leave-one-out cross validation.\n",
        "\n",
        "It can be summarized as follows:\n",
        "- Choose only one sample as the validation set, and use the rest samples for training.\n",
        "- Compute the metrics (eg. MAE) for this single sample.\n",
        "- Do this for every sample in the dataset.\n",
        "- The validation error is the mean of the single-sample error."
      ]
    },
    {
      "cell_type": "code",
      "metadata": {
        "id": "e_eiiFXJTFuj",
        "colab_type": "code",
        "colab": {}
      },
      "source": [
        "def leave_one_out_validation(X, y, regr, a):\n",
        "    N = X.shape[0] # get number of samples\n",
        "    validation_error = 0\n",
        "    regr.set_params(alpha=a)\n",
        "\n",
        "    for n in range(N):\n",
        "        X_val = X[n:n+1, :]\n",
        "        y_val = y[n:n+1, :]\n",
        "        X_train = np.delete(X, n, 0)\n",
        "        y_train = np.delete(y, n, 0)\n",
        "\n",
        "        regr.fit(X_train, y_train)\n",
        "        y_hat = regr.predict(X_val)\n",
        "\n",
        "        validation_error += np.mean(np.abs(y_hat - y_val))\n",
        "\n",
        "    validation_error = validation_error/N\n",
        "    return validation_error"
      ],
      "execution_count": 13,
      "outputs": []
    },
    {
      "cell_type": "code",
      "metadata": {
        "id": "G6hbezfDVVNT",
        "colab_type": "code",
        "colab": {}
      },
      "source": [
        "feature = pd.read_csv('https://raw.githubusercontent.com/asarmadi/summer_ml_s3/master/day05/fish_market_feature.csv')\n",
        "label = pd.read_csv('https://raw.githubusercontent.com/asarmadi/summer_ml_s3/master/day05/fish_market_label.csv')\n",
        "X = feature.values\n",
        "y = label.values\n",
        "poly = PolynomialFeatures(3)\n",
        "X = poly.fit_transform(X)\n",
        "\n",
        "# loop over possible alphas\n",
        "alpha_range = np.arange(1000, 0, -1)\n",
        "val_error_history = []\n",
        "regr = Ridge()\n",
        "\n",
        "for a in alpha_range:\n",
        "    val_error = leave_one_out_validation(X, y, regr, a)\n",
        "    val_error_history.append(val_error)"
      ],
      "execution_count": 19,
      "outputs": []
    },
    {
      "cell_type": "code",
      "metadata": {
        "id": "_n3dGdXbVjFX",
        "colab_type": "code",
        "colab": {
          "base_uri": "https://localhost:8080/",
          "height": 51
        },
        "outputId": "16495738-429b-4d78-83a7-2aece24677e1"
      },
      "source": [
        "best_alpha_index = np.argmin(val_error_history)\n",
        "best_alpha = alpha_range[best_alpha_index]\n",
        "regr.set_params(alpha=best_alpha)"
      ],
      "execution_count": 20,
      "outputs": [
        {
          "output_type": "execute_result",
          "data": {
            "text/plain": [
              "Ridge(alpha=311, copy_X=True, fit_intercept=True, max_iter=None,\n",
              "      normalize=False, random_state=None, solver='auto', tol=0.001)"
            ]
          },
          "metadata": {
            "tags": []
          },
          "execution_count": 20
        }
      ]
    },
    {
      "cell_type": "code",
      "metadata": {
        "id": "mhN9zEbCXReT",
        "colab_type": "code",
        "colab": {
          "base_uri": "https://localhost:8080/",
          "height": 34
        },
        "outputId": "90577aea-dc69-4bb3-b068-07e8a38680dc"
      },
      "source": [
        "''' \n",
        "The test set will be released on Sunday night\n",
        "'''\n",
        "X_test = pd.read_csv('https://raw.githubusercontent.com/asarmadi/summer_ml_s3/master/day05/fish_market_test_feature.csv').values\n",
        "y_test = pd.read_csv('https://raw.githubusercontent.com/asarmadi/summer_ml_s3/master/day05/fish_market_test_label.csv').values\n",
        "\n",
        "## Do not forget to apply the same feature transformation on the test set\n",
        "poly = PolynomialFeatures(3)\n",
        "X_test = poly.fit_transform(X_test)\n",
        "\n",
        "yhat_test = regr.predict(X_test)\n",
        "mae_test = np.mean(np.abs(yhat_test - y_test))\n",
        "\n",
        "print (mae_test)"
      ],
      "execution_count": 21,
      "outputs": [
        {
          "output_type": "stream",
          "text": [
            "38.913858313562244\n"
          ],
          "name": "stdout"
        }
      ]
    },
    {
      "cell_type": "code",
      "metadata": {
        "id": "tigyTumvYGLv",
        "colab_type": "code",
        "colab": {}
      },
      "source": [
        ""
      ],
      "execution_count": null,
      "outputs": []
    }
  ]
}