{
  "nbformat": 4,
  "nbformat_minor": 0,
  "metadata": {
    "colab": {
      "name": "ML Team 2: fish_market.ipynb",
      "provenance": [],
      "collapsed_sections": []
    },
    "kernelspec": {
      "display_name": "Python 3",
      "language": "python",
      "name": "python3"
    },
    "language_info": {
      "codemirror_mode": {
        "name": "ipython",
        "version": 3
      },
      "file_extension": ".py",
      "mimetype": "text/x-python",
      "name": "python",
      "nbconvert_exporter": "python",
      "pygments_lexer": "ipython3",
      "version": "3.7.0"
    }
  },
  "cells": [
    {
      "cell_type": "markdown",
      "metadata": {
        "id": "0JJBcKS8iBh4",
        "colab_type": "text"
      },
      "source": [
        "Team 2!"
      ]
    },
    {
      "cell_type": "code",
      "metadata": {
        "colab_type": "code",
        "id": "EjOoKJazwe0W",
        "colab": {}
      },
      "source": [
        "import numpy as np\n",
        "import pandas as pd\n",
        "import matplotlib.pyplot as plt\n",
        "plt.rc_context({'axes.edgecolor':'white', 'xtick.color':'white', 'axes.labelcolor':'white', 'ytick.color':'white'});"
      ],
      "execution_count": null,
      "outputs": []
    },
    {
      "cell_type": "code",
      "metadata": {
        "colab_type": "code",
        "id": "KR-q6CIawe0a",
        "colab": {}
      },
      "source": [
        "feature = pd.read_csv('https://raw.githubusercontent.com/asarmadi/summer_ml_s3/master/day05/fish_market_feature.csv')\n",
        "label = pd.read_csv('https://raw.githubusercontent.com/asarmadi/summer_ml_s3/master/day05/fish_market_label.csv')\n",
        "X = feature.values # [Length1, Length2, Length3, Height, Width]\n",
        "y = label.values    #[Weight]"
      ],
      "execution_count": null,
      "outputs": []
    },
    {
      "cell_type": "code",
      "metadata": {
        "id": "5MpamsTQ6eH6",
        "colab_type": "code",
        "colab": {}
      },
      "source": [
        "''' \n",
        "The test set will be released on Sunday night\n",
        "'''\n",
        "X_test = pd.read_csv('https://raw.githubusercontent.com/asarmadi/summer_ml_s3/master/day05/fish_market_test_feature.csv').values\n",
        "y_test = pd.read_csv('https://raw.githubusercontent.com/asarmadi/summer_ml_s3/master/day05/fish_market_test_label.csv').values"
      ],
      "execution_count": null,
      "outputs": []
    },
    {
      "cell_type": "code",
      "metadata": {
        "id": "UxEszNybI4A7",
        "colab_type": "code",
        "colab": {
          "base_uri": "https://localhost:8080/",
          "height": 34
        },
        "outputId": "13c03de4-612e-4cb6-8cfd-4cc58f46df4e"
      },
      "source": [
        "# 0. Remove missing values (by checking the shapes we found that there weren't any, but it's good practice to check)\n",
        "\n",
        "feature = feature.dropna()\n",
        "label = label.dropna()\n",
        "\n",
        "print(f\"The shape of the features is {feature.shape} and the shape of labels is {label.shape}.\")"
      ],
      "execution_count": null,
      "outputs": [
        {
          "output_type": "stream",
          "text": [
            "The shape of the features is (124, 5) and the shape of labels is (124, 1).\n"
          ],
          "name": "stdout"
        }
      ]
    },
    {
      "cell_type": "code",
      "metadata": {
        "id": "fFHpRfRXhIz_",
        "colab_type": "code",
        "colab": {
          "base_uri": "https://localhost:8080/",
          "height": 500
        },
        "outputId": "bee792f1-a3e6-4dec-ee3f-7bfc49b04128"
      },
      "source": [
        "# 1. Graph/plot the data (includes training and validation data)\n",
        "\n",
        "print(feature.head(3))\n",
        "print(\"\\n---------------------\")\n",
        "\n",
        "X_1 = X[:,0]\n",
        "X_2 = X[: ,1]\n",
        "X_3 = X[: ,2]\n",
        "X_4 = X[: ,3]\n",
        "X_5 = X[: ,4]\n",
        "\n",
        "plt.scatter(X_1,y)\n",
        "plt.xlabel('Features')\n",
        "plt.ylabel('labels/weight')\n",
        "plt.grid()\n",
        "\n",
        "plt.scatter(X_2,y)\n",
        "plt.ylabel('labels/weight')\n",
        "plt.grid()\n",
        "\n",
        "plt.scatter(X_3,y)\n",
        "plt.ylabel('labels/weight')\n",
        "plt.grid()\n",
        "\n",
        "plt.scatter(X_4,y)\n",
        "plt.ylabel('labels/weight')\n",
        "plt.grid()\n",
        "\n",
        "plt.scatter(X_5,y)\n",
        "plt.ylabel('labels/weight')\n",
        "plt.grid()\n",
        "\n",
        "print(\"\\n Blue points: Length1 \\n Orange points: Length2 \\n Green points: Length3 \\n Red points: Height \\n Purple points: Width \\n\")"
      ],
      "execution_count": null,
      "outputs": [
        {
          "output_type": "stream",
          "text": [
            "   Length1  Length2  Length3   Height   Width\n",
            "0     11.7     12.4     13.5   2.4300  1.2690\n",
            "1     19.0     20.7     23.2   9.3960  3.4104\n",
            "2     38.0     41.0     46.5  17.6235  6.3705\n",
            "\n",
            "---------------------\n",
            "\n",
            " Blue points: Length1 \n",
            " Orange points: Length2 \n",
            " Green points: Length3 \n",
            " Red points: Height \n",
            " Purple points: Width \n",
            "\n"
          ],
          "name": "stdout"
        },
        {
          "output_type": "display_data",
          "data": {
            "image/png": "[encoded data removed]",
            "text/plain": [
              "<Figure size 432x288 with 1 Axes>"
            ]
          },
          "metadata": {
            "tags": [],
            "needs_background": "dark"
          }
        }
      ]
    },
    {
      "cell_type": "code",
      "metadata": {
        "id": "oQ364N08iWNG",
        "colab_type": "code",
        "colab": {
          "base_uri": "https://localhost:8080/",
          "height": 102
        },
        "outputId": "e88667e9-662f-4155-bab4-b8191861364d"
      },
      "source": [
        "# 2. Create training & validation set\n",
        "import sklearn.model_selection as ms\n",
        "X_train, X_val, y_train, y_val = ms.train_test_split(X, y, test_size=0.5, random_state=42)\n",
        "# we chose 0.5 by brute force because weirdly enough the larger the validation set, the lower the MSE/MAE on our val set (no matter the random_state)\n",
        "\n",
        "print(f\"X (features) training set shape: {X_train.shape}\")\n",
        "print(f\"Y (labels) training set shape: {y_train.shape} \\n\")\n",
        "print(f\"X (features) validation set shape: {X_val.shape}\")\n",
        "print(f\"Y (labels) validation set shape: {y_val.shape}\")"
      ],
      "execution_count": null,
      "outputs": [
        {
          "output_type": "stream",
          "text": [
            "X (features) training set shape: (62, 5)\n",
            "Y (labels) training set shape: (62, 1) \n",
            "\n",
            "X (features) validation set shape: (62, 5)\n",
            "Y (labels) validation set shape: (62, 1)\n"
          ],
          "name": "stdout"
        }
      ]
    },
    {
      "cell_type": "code",
      "metadata": {
        "id": "8HiIVXfY_Oqq",
        "colab_type": "code",
        "colab": {}
      },
      "source": [
        "# MSE and MAE\n",
        "def MSE(y, yhat):\n",
        "  ''' Returns the MSE of two numpy arrays\n",
        "  type y: numpy.array()\n",
        "  type yhat: numpy.array()\n",
        "  return type: int/float '''\n",
        "  return np.mean((yhat.reshape((-1, 1)) - y.reshape((-1, 1))) ** 2)\n",
        "\n",
        "def MAE(y, yhat):\n",
        "  ''' Returns the MAE of two numpy arrays\n",
        "  type y: numpy.array()\n",
        "  type yhat: numpy.array()\n",
        "  return type: int/float '''\n",
        "  return np.mean(np.abs(yhat.reshape((-1, 1)) - y.reshape((-1, 1))))"
      ],
      "execution_count": null,
      "outputs": []
    },
    {
      "cell_type": "code",
      "metadata": {
        "id": "_ndK9Z_9-yF5",
        "colab_type": "code",
        "colab": {}
      },
      "source": [
        "# Another way to remove the negative values (produces lower MSEs & MAEs)\n",
        "\n",
        "def removeNeg(yhat):\n",
        "\n",
        "  '''Sets all of the negative values\n",
        "  in a dataset to zero to minimize MSE & MAE\n",
        "  type yhat: list\n",
        "  return type: list'''\n",
        "\n",
        "  for i in range(len(yhat)):\n",
        "    if yhat[i] < 0:\n",
        "      yhat[i] = 0\n",
        "\n",
        "  return yhat"
      ],
      "execution_count": null,
      "outputs": []
    },
    {
      "cell_type": "code",
      "metadata": {
        "id": "_1MHPW8jiYC_",
        "colab_type": "code",
        "colab": {
          "base_uri": "https://localhost:8080/",
          "height": 187
        },
        "outputId": "e6a9cfd0-88e0-4552-e25d-9f13f0b9c721"
      },
      "source": [
        "# Set up a Ridge Model\n",
        "from sklearn.linear_model import Ridge\n",
        "\n",
        "# Arrays to store the MSE for each value of a\n",
        "train_MSE_ridge = []\n",
        "val_MSE_ridge = []\n",
        "\n",
        "alphas_ridge = np.arange(200, 0, -.01)\n",
        "ridge = Ridge(fit_intercept=True)\n",
        "\n",
        "for a in alphas_ridge:\n",
        "  ridge.set_params(alpha=a) # Set up the model with the current alpha value\n",
        "  ridge.fit(X_train, y_train) # Fit the model to the training data\n",
        "  yhat_train = ridge.predict(X_train) # Predict for the training data\n",
        "  yhat_val = ridge.predict(X_val) # Predict for the validation data\n",
        "\n",
        "  train_MSE_ridge.append(np.mean((yhat_train - y_train) ** 2))\n",
        "  val_MSE_ridge.append(MSE(y_val, yhat_val))\n",
        "\n",
        "index_best_alpha_ridge = np.argmin(val_MSE_ridge)\n",
        "best_alpha_ridge = alphas_ridge[index_best_alpha_ridge]\n",
        "print(f\"Best Alpha Value: {best_alpha_ridge}\")\n",
        "print(f\"Minimum MSE: {val_MSE_ridge[index_best_alpha_ridge]}\")\n",
        "print(f\"Minimum MSE for training: {train_MSE_ridge[index_best_alpha_ridge]}\")\n",
        "print(f\"Minimum MAE: {MAE(y_val, yhat_val)}\")\n",
        "print(f\"Minimum MAE for training: {MAE(y_train, yhat_train)}\")\n",
        "\n",
        "print(\"\\nafter removing negatives...\")\n",
        "yhat_train = removeNeg(yhat_train)\n",
        "yhat_val = removeNeg(yhat_val)\n",
        "print(f\"MSE training: {MSE(y_train, yhat_train)}\")\n",
        "print(f\"MSE validation: {MSE(y_val, yhat_val)}\")\n",
        "\n",
        "w = ridge.coef_\n",
        "print(f\"w: {w}\")"
      ],
      "execution_count": null,
      "outputs": [
        {
          "output_type": "stream",
          "text": [
            "Best Alpha Value: 19.200000000164437\n",
            "Minimum MSE: 20878.455641798482\n",
            "Minimum MSE for training: 7803.972307055852\n",
            "Minimum MAE: 101.43910597910666\n",
            "Minimum MAE for training: 67.60309004036631\n",
            "\n",
            "after removing negatives...\n",
            "MSE training: 4828.4217404800465\n",
            "MSE validation: 20436.063350071952\n",
            "w: [[ 68.30020324 -33.39490649 -22.14501489  22.93115821  97.01752962]]\n"
          ],
          "name": "stdout"
        }
      ]
    },
    {
      "cell_type": "code",
      "metadata": {
        "id": "L3oD9FM0iYV-",
        "colab_type": "code",
        "colab": {
          "base_uri": "https://localhost:8080/",
          "height": 122
        },
        "outputId": "a1ac5786-022b-4f48-f20f-6c34a6ea2034"
      },
      "source": [
        "# Set up a Lasso Model\n",
        "from sklearn.linear_model import Lasso\n",
        "\n",
        "# Arrays to store the MSE for each value of a\n",
        "train_MSE_lasso = []\n",
        "val_MSE_lasso = []\n",
        "\n",
        "alphas_lasso = np.arange(100, 0.1, -.1)\n",
        "lasso = Lasso(fit_intercept=True, random_state=42, max_iter = 40000)\n",
        "\n",
        "for a in alphas_lasso:\n",
        "  lasso.set_params(alpha = a)\n",
        "  lasso.fit(X_train, y_train) # Fit the model to the training data\n",
        "  yhat_train = lasso.predict(X_train) # Predict for the training data\n",
        "  yhat_val = lasso.predict(X_val) # Predict for the validation data\n",
        "\n",
        "  train_MSE_lasso.append(MSE(y_train, yhat_train))\n",
        "  val_MSE_lasso.append(MSE(y_val, yhat_val))\n",
        "\n",
        "print(val_MSE_lasso)\n",
        "index_best_alpha_lasso = np.argmin(val_MSE_lasso)\n",
        "best_alpha_lasso = alphas_lasso[index_best_alpha_lasso]\n",
        "print(f\"Best Alpha Value: {best_alpha_lasso}\")\n",
        "print(f\"Minimum MSE: {val_MSE_lasso[index_best_alpha_lasso]}\")\n",
        "print(f\"Minimum MSE for training: {train_MSE_lasso[index_best_alpha_lasso]}\")\n",
        "\n",
        "\n",
        "w = lasso.coef_\n",
        "print(f\"w: {w}\")"
      ],
      "execution_count": null,
      "outputs": [
        {
          "output_type": "stream",
          "text": [
            "[24757.393146000366, 24755.491734309202, 24753.591507593024, 24751.13610380894, 24749.16483856068, 24747.259230685715, 24745.36440980794, 24743.470766333256, 24741.578323249123, 24739.102972795212, 24737.161863344063, 24735.273606352956, 24733.386547556835, 24731.500661559025, 24729.61597425484, 24727.114984759617, 24725.219269084148, 24723.338764583, 24721.459441646195, 24719.581308708108, 24717.122725529825, 24715.20132435502, 24713.3273713765, 24711.45459608014, 24709.583013435193, 24707.712603655593, 24705.219725854, 24703.35232161157, 24701.486090266277, 24699.62104195103, 24697.757179702232, 24695.294920486962, 24693.41356866803, 24691.553883290733, 24689.69537084341, 24687.83803132603, 24685.403879847414, 24683.511100442065, 24681.65793689376, 24679.805954140375, 24677.955157841134, 24675.544525460435, 24673.644865001672, 24671.798233898102, 24669.95278499172, 24668.108509079902, 24666.265406162573, 24663.814856337875, 24661.97475391964, 24660.135824527777, 24658.29806816229, 24656.461486664066, 24654.021051733824, 24652.18746795695, 24650.355057238332, 24648.523819577935, 24646.693762186584, 24644.263426466812, 24642.436360489737, 24640.610467602775, 24638.785747805938, 24636.962206650114, 24634.541965006196, 24632.72141598709, 24630.902040090037, 24629.083837315025, 24627.266807662072, 24624.856651810416, 24623.042618907217, 24621.22975915802, 24619.418072562847, 24617.607559121712, 24615.207473662926, 24613.399953697273, 24611.59360925363, 24609.788437996012, 24607.415644783876, 24605.59443390759, 24603.79341476676, 24601.99357481216, 24600.194918049507, 24597.813180984103, 24596.01750286323, 24594.222997991717, 24592.429666369557, 24590.637507996766, 24588.265829695265, 24586.476664970312, 24584.688673526816, 24582.901855364795, 24581.116210484277, 24578.754593009482, 24576.97192626832, 24575.19043284014, 24573.41012025658, 24571.056758458915, 24569.279430769828, 24567.50327642583, 24565.728295427, 24563.95448777335, 24561.611167569772, 24559.84033752644, 24558.07068085982, 24556.3022108017, 24553.967137811058, 24552.20164572904, 24550.437327056057, 24548.67418179211, 24546.912209937193, 24544.587170204042, 24542.82817543506, 24541.070354106818, 24539.31371244099, 24536.996911505285, 24535.24325361072, 24533.490769189255, 24531.739458240958, 24529.430879210606, 24527.682544796637, 24525.93538388759, 24524.189396483467, 24522.44458258431, 24520.146024551563, 24518.40419840072, 24516.663546820306, 24514.924068777313, 24512.63373747822, 24510.897235454308, 24509.16190699974, 24507.427752114556, 24505.145631406693, 24503.414452272107, 24501.684446738866, 24499.95561480701, 24497.681702199778, 24495.955857535177, 24494.231186504545, 24492.50768910796, 24490.241990425486, 24488.521468238672, 24486.802119717944, 24485.08394486333, 24482.826445841652, 24481.111245931268, 24479.397219719223, 24477.684367205427, 24475.435064230776, 24473.725186396612, 24472.01649084442, 24470.308971554605, 24468.067872084932, 24466.363327204763, 24464.65995608799, 24462.957758734625, 24460.72484807509, 24459.025624868715, 24457.327575458054, 24455.630699843172, 24453.405974405792, 24451.712072676193, 24450.019344774704, 24448.327790701413, 24446.111246906694, 24444.42267302721, 24442.73527681428, 24441.04905446254, 24438.840699090346, 24437.15745009742, 24435.475374998223, 24433.794473792655, 24431.594292896774, 24429.9163647913, 24428.23961061203, 24426.566446911802, 24424.372020385497, 24422.699412974678, 24421.027979522798, 24418.842338332317, 24417.173877432957, 24415.5065905252, 24413.840480383256, 24411.66301298088, 24409.99988202353, 24408.337925091102, 24406.67714218356, 24404.50783534929, 24402.8500244776, 24401.193387663658, 24399.030440184997, 24397.37677511992, 24395.724284145424, 24394.072967261545, 24391.918173602888, 24390.26982821462, 24388.622656949825, 24386.474216518967, 24384.830016464493, 24383.186990566526, 24381.54513882517, 24379.404845496043, 24377.76596662438, 24376.128268982116, 24373.994331717327, 24372.359604745136, 24370.726051996175, 24369.09367347038, 24366.967876590697, 24365.338468485377, 24363.710234636404, 24361.590778785612, 24359.965515075153, 24358.34142565429, 24356.22830796197, 24354.6071883985, 24352.987243157928, 24351.36847224021, 24349.263485095853, 24347.64768378858, 24346.033056837514, 24343.934401815255, 24342.3227441952, 24340.712260964712, 24338.61993521216, 24337.012421033996, 24335.406087179872, 24333.800930078956, 24331.716733317404, 24330.114545019802, 24328.51353117929, 24326.43565766861, 24324.837612354462, 24323.240741530888, 24321.1691884367, 24319.575285863346, 24317.98255781421, 24315.917322307763, 24314.327562233473, 24312.738976717083, 24310.680055975357, 24309.09443815921, 24307.509994934728, 24305.45738614032, 24303.87591034229, 24302.29560916974, 24300.716482622604, 24298.671975491827, 24297.095816132023, 24295.520831431564, 24293.482630324237, 24291.910612538933, 24290.33976944686, 24288.307871563353, 24286.740001441623, 24285.173307225883, 24283.147717263597, 24281.583989416944, 24280.02143633191, 24278.002143992027, 24276.442557006285, 24274.884144816213, 24272.871147315916, 24271.31570095616, 24269.307204820063, 24267.75472398825, 24266.203418020395, 24264.201211476575, 24262.652870769194, 24261.105704960053, 24259.10978524159, 24257.565584426233, 24256.02255854334, 24254.03292288897, 24252.49286173395, 24250.953975545803, 24248.97062119968, 24247.43469947422, 24245.89995275006, 24243.92287696194, 24242.39109443612, 24240.418505596685, 24238.88968697107, 24237.362043415742, 24235.39572794761, 24233.871048029654, 24232.347543216463, 24230.387500060933, 24228.866965394944, 24227.34760586878, 24225.393835703304, 24223.8774392873, 24221.92814664879, 24220.414713047678, 24218.902454655752, 24216.959424761044, 24215.45012892415, 24213.94200833123, 24212.005238466947, 24210.50008016998, 24208.567780904308, 24207.065584610027, 24205.564563629487, 24203.63851927625, 24202.14046004077, 24200.218881797573, 24198.723784015336, 24197.22986161676, 24195.31453318682, 24193.823571985304, 24192.34164537003, 24190.424704898047, 24188.937880056932, 24187.033257997482, 24185.549393808193, 24184.073046129357, 24182.168325103554, 24180.68859680111, 24178.794671594205, 24177.317903401203, 24175.428430935415, 24173.954622564066, 24172.481989787444, 24170.598751949652, 24169.129078742862, 24167.250289221953, 24165.783575298483, 24164.318037040553, 24162.44547712303, 24160.982903789143, 24159.114793804343, 24157.65517935555, 24155.791511229883, 24154.334855241108, 24152.879375024786, 24151.021929127084, 24149.56940712246, 24147.71639869871, 24146.26683462267, 24144.41826164537, 24142.971655215308, 24141.526224664714, 24139.68386659423, 24138.241393443514, 24136.403466457265, 24134.96395042513, 24133.13045250619, 24131.69389331205, 24129.864822446703, 24128.431219810635, 24126.99879319738, 24125.175927631073, 24123.74645733249, 24121.92801448768, 24120.501500225044, 24118.687478098487, 24117.26391959379, 24115.45431618563, 24114.033713161396, 24112.22852647495, 24110.810878654403, 24109.010106696387, 24107.5954138033, 24106.181897149723, 24104.387316342436, 24102.976754377047, 24101.186584010018, 24099.778976457917, 24097.99321454816, 24096.588561135057, 24094.807205702833, 24093.40550615505, 24091.628555223822, 24090.229809268294, 24088.457260864812, 24087.061468229113, 24085.293320383298, 24083.900480795583, 24082.13673154067, 24080.74684472975, 24078.987492541037, 24077.600563512933, 24075.84561082185, 24074.461634027022, 24072.71107403583, 24071.330049204953, 24069.58387995964, 24068.20580682385, 24066.464026373676, 24065.08890466484, 24063.351511062152, 24061.979340512655, 24060.24633181302, 24058.877112155897, 24057.148486418082, 24055.792453957674, 24054.057972672843, 24052.336333852945, 24050.974788376578, 24049.25752701538, 24047.898931332376, 24046.186045500697, 24044.83039934691, 24043.121887118723, 24041.769190230745, 24040.06504968322, 24038.715301798184, 24037.015531011468, 24035.318356713964, 24033.97332892455, 24032.280520856217, 24030.938441247286, 24029.249997497107, 24027.910865808157, 24026.226784468316, 24024.545293507523, 24023.210879605074, 24021.533747544563, 24020.202280746398, 24018.529505687056, 24017.200985734882, 24015.53256578066, 24013.866730132268, 24012.542925674807, 24010.881441643, 24009.56058322252, 24007.903448919933, 24006.24889447518, 24004.93274982281, 24003.282541634468, 24001.969342214965, 24000.323478404312, 23998.680190023377, 23997.371702654782, 23995.732755194374, 23994.42721225954, 23992.79260384951, 23991.160566460698, 23989.85973386902, 23988.23203208908, 23986.606898511418, 23985.3107751041, 23983.68997370371, 23982.400191564175, 23980.780322317005, 23979.16641506379, 23977.877942248284, 23976.26836190013, 23974.661346708766, 23973.3775847348, 23971.77489340314, 23970.174760303136, 23968.89570352274, 23967.299890517075, 23965.706632960726, 23964.432280233068, 23962.843339384617, 23961.25695121102, 23959.987301399255, 23958.405226556904, 23956.82570162292, 23955.56075359413, 23953.98553862448, 23952.412870804597, 23950.842748918192, 23949.584262217122, 23948.01844540334, 23946.45517177582, 23945.201384003463, 23943.642412105524, 23942.085980654254, 23940.84511746747, 23939.284757636204, 23937.7351622961, 23936.18810346667, 23934.94546875932, 23933.402703482625, 23931.862471996086, 23930.32477310032, 23929.08859103358, 23927.55518086722, 23926.024300582245, 23924.4959489842, 23923.266216955384, 23921.742149283447, 23920.220607600095, 23918.70159071577, 23917.478306134566, 23915.963568392926, 23914.451352762986, 23912.941658060074, 23911.434483100827, 23910.219398024532, 23908.716495951365, 23907.21611094896, 23905.718241838887, 23904.22288744414, 23903.015997211634, 23901.52490948007, 23900.03633380517, 23898.55026901469, 23897.06671393799, 23895.868013916195, 23894.38871931323, 23892.91193177944, 23891.437650148895, 23889.96587325709, 23888.496599940998, 23887.307836266325, 23885.84281580031, 23884.38029628274, 23882.920276555324, 23881.46275546112, 23880.0077318447, 23878.555204552096, 23877.39103742734, 23875.929838234722, 23874.484095008564, 23873.040844292977, 23871.60014913631, 23870.161971499052, 23868.726345240288, 23867.29326896611, 23865.862679212816, 23864.43457483997, 23863.00906218832, 23861.851165490956, 23860.430125991395, 23859.011765375883, 23857.595896432176, 23856.182714927854, 23854.77211596211, 23853.364191537523, 23851.959023917683, 23850.55668314781, 23849.157381023182, 23847.761599300917, 23846.372151421878, 23845.00230405461, 23843.65820671438, 23842.08723741377, 23840.802272441648, 23839.41370179089, 23824.024445525247, 23806.922597743927, 23789.88567540177, 23772.91358039196, 23756.080059428463, 23739.238071581683, 23722.461146883845, 23705.749296899125, 23689.102533179048, 23672.520867262578, 23656.004310676024, 23639.551958041393, 23623.16408247024, 23606.841290670633, 23590.651994947206, 23574.460436379733, 23558.334060245048, 23542.271678782858, 23526.273672627816, 23510.34083712797, 23494.538900695905, 23478.737818199323, 23462.999758275888, 23447.326928234128, 23431.782028022848, 23416.240822271753, 23400.76296528962, 23385.350397118433, 23370.06437230818, 23354.781798402415, 23339.564399741423, 23324.471367575217, 23309.383926793944, 23294.361848068955, 23279.46188048629, 23264.569847551804, 23249.743238571027, 23235.036514327196, 23220.34005563711, 23205.76201521499, 23191.195779581853, 23176.746516501542, 23162.310576471627, 23147.99018394143, 23133.684611841454, 23119.493182758746, 23105.31805069639, 23091.25567764822, 23077.211057512683, 23063.277832776705, 23049.36289784589, 23035.559811784482, 23021.820136522783, 23008.101296043595, 22994.49148542143, 22980.945581315133, 22967.422175746895, 22954.00657481461, 22940.654596622106, 22927.326166624152, 22914.10487208656, 22900.94798075679, 22887.854792597816, 22874.82620648221, 22861.8242876649, 22848.926147128248, 22836.092584455135, 22823.323632187472, 22810.619322799113, 22797.979688695534, 22785.404762214413, 22772.894575625614, 22760.44916113097, 22748.068550864886, 22735.752776894165, 22723.501871218115, 22711.315865768745, 22699.194792410814, 22687.138682941986, 22675.147569092922, 22663.250568504984, 22651.38891358391, 22639.592354975506, 22627.860924126202, 22616.194707337072, 22604.619567654656, 22593.083110514694, 22581.63670769317, 22570.23021337597, 22558.889188868165, 22547.636280835286, 22536.425472345527, 22525.280380487486, 22514.221297198634, 22503.206742422088, 22492.277034331877, 22481.395247127253, 22470.593185276062, 22459.85747893872, 22449.173470356738, 22438.566550089978, 22428.02010220261, 22417.54173811642, 22407.20356940261, 22396.85342116362, 22386.574905329944, 22376.36808842389, 22366.159485063064, 22356.08334407262, 22346.075216715228, 22336.13517632475, 22326.263296018755, 22316.401866282857, 22306.666349422172, 22297.004114843112, 22287.34230553535, 22277.81348056507, 22268.291837378798, 22258.840115979376, 22249.515613366562, 22240.201161027035, 22230.955438340352, 22221.77853910272, 22212.73443117414, 22203.691192596925, 22194.72221015209, 22185.827561741822, 22176.92965189116, 22168.16764258924, 22159.475103089066, 22150.85524962644, 22142.239699289883, 22133.756125381944, 22125.283365393527, 22116.948757345428, 22108.606903256532, 22100.344456681538, 22092.15235327426, 22084.03070138134, 22075.979608814414, 22067.999182852214, 22060.089530241887, 22052.262491465506, 22044.424920347377, 22036.734685221345, 22029.045256799316, 22021.433793158518, 22013.894087035853, 22006.49575560693, 21999.03043021627, 21991.706719153357, 21984.45524488172, 21977.28276544609, 21970.11341631364, 21963.023792252272, 21956.070659148554, 21949.12415463438, 21942.25983106575, 21935.39876057882, 21928.67651428412, 21921.974069981658, 21915.40503222563, 21908.846563870513, 21902.370744350734, 21895.9118690755, 21889.58389354968, 21883.27926156474, 21877.113046221002, 21870.962638959427, 21864.823007559076, 21858.823936495814, 21852.851666675077, 21846.957113018307, 21841.140417556675, 21835.353136208127, 21829.698113863793, 21824.06986049875, 21818.466195684745, 21813.000085908774, 21807.561074200137, 21802.21706276699, 21796.882927743252, 21791.64471626808, 21786.50171461008, 21781.375165711543, 21776.348629842436, 21771.345576986518, 21766.43821665684, 21761.57477179382, 21756.797677090737, 21752.11259168138, 21747.473730111375, 21742.869877927737, 21738.37585982641, 21733.92197983231, 21729.512331602367, 21725.21707453274, 21720.971096910558, 21716.778184479415, 21712.64225171702, 21708.56719554756, 21704.561708838373, 21700.672961249264, 21696.80208222997, 21693.007524458117, 21689.242924904254, 21685.609500774102, 21682.016151040192, 21678.46741444107, 21675.018332462907, 21671.358664897634, 21666.739240484978, 21662.240285000105, 21657.826290945202, 21653.515068718963, 21649.289731266905, 21645.167568854922, 21641.132215401172, 21637.216450847194, 21633.372122254546, 21629.647194305922, 21625.995166056873, 21622.462313569267, 21619.018428654, 21615.664239682934, 21612.41448775227, 21609.25528949293, 21606.200770845215, 21603.237627998617, 21600.366565661003, 21597.600754560193, 21594.92777981409, 21592.360144108712, 21589.87452926852, 21587.494908128658, 21585.210076626405, 21583.031140960687, 21580.937341821995, 21578.94007391523, 21577.03986455877, 21575.24632443117, 21573.541316998493, 21571.934719234698, 21570.426887836096, 21569.010443674437, 21567.69403243189, 21566.470883598417, 21565.34844311369, 21564.412521873393, 21563.599437203266, 21562.84314094365, 21562.281843093824, 21561.902781728906, 21561.58848724575, 21561.33895964443, 21561.154198924938, 21561.034205087228, 21560.97897813135, 21560.988518057264, 21561.062824864985, 21561.20189855452, 21561.405739125876, 21561.674346579017, 21562.007720914, 21562.405862130756, 21562.868770229325, 21563.396445209724, 21563.988887071922, 21564.646095815926, 21565.368071441746, 21566.15481394937, 21567.006323338814, 21567.92259961005, 21568.903666174825, 21569.94951615857, 21571.060133717205, 21572.235518850786, 21573.475671559314, 21574.78059184278, 21576.15027970116, 21577.584735134496, 21579.08395814275, 21580.647948725953, 21582.276706884095, 21583.970232617154, 21585.728525925166, 21587.5515868081, 21589.13700773676, 21590.678532664904, 21592.447013012392, 21593.549948966378, 21595.282009843668, 21597.034131320463, 21598.96285718267, 21600.99713680715, 21602.838923656273, 21604.927753786797, 21607.012126451817, 21609.27520088926, 21611.48036882479, 21613.842664223757, 21616.351214038954, 21618.758340565997, 21621.29208756433, 21623.70785751364, 21626.460210889618, 21629.094110007878, 21631.82361148848, 21634.64717607786, 21637.565151382223, 21640.577743704205, 21643.68494299615, 21646.61230735213, 21649.890406239523, 21652.98164653328, 21656.159737339112, 21659.411095004078, 21663.001414191775, 21666.40400608778, 21669.87824442692, 21673.423456986617, 21677.038633880577, 21680.722523155608, 21684.473584401494, 21688.289890045275, 21692.169042592115, 21696.10800338762, 21700.118124589262, 21704.185321057616, 21708.302031369058, 21712.464905195022, 21716.694217292094, 21720.951689114718, 21725.57339919561, 21729.89745701472, 21734.59700286015, 21738.937127878962, 21743.823371199287, 21747.478286090707, 21751.26898698453, 21755.303065658387, 21759.418564092284, 21763.99732977808, 21768.81903149831, 21773.86631874894, 21779.01763720036, 21783.955647743, 21789.323764870493, 21794.43323400036, 21799.965718958112, 21805.238251563464, 21810.572486520316, 21816.330388821316, 21821.81242324837, 21827.355181153132, 21832.97018163949, 21838.635546456106, 21844.73569711167, 21850.544315472016, 21856.405378072526, 21862.32667640578, 21868.67835939572, 21874.728371762754, 21880.83997624603, 21887.000999273736, 21893.214162325476, 21899.87645649819, 21906.213915000706, 21912.605207185534, 21919.04002895483, 21925.921053882885, 21932.445809082812, 21939.40100426815, 21945.999797282562, 21953.023455661645, 21959.66572083176, 21966.74023372624, 21973.815460975773, 21980.905234699967, 21987.966275951705, 21995.415351750205, 22002.812496466926, 22010.150173559912, 22017.412631541534, 22024.978758217258, 22032.393967652362, 22040.0219187525, 22047.793144449704, 22055.56128220771, 22063.168012407423, 22071.19319311089, 22079.140864688994, 22060.640801796362, 22059.52481607005, 22063.25545724403, 22073.657257645085, 22084.238677307607, 22094.989261509236, 22106.227874861605, 22117.291823238822, 22116.68630702234, 22114.048894026408, 22111.62176181711, 22109.414519165555, 22107.41296145821, 22105.622196334753, 22104.05225068075, 22102.71556252401, 22101.583334880346, 22100.647232515297, 22099.94746883731, 22099.440495880295, 22099.160202770992, 22099.086323137562, 22099.248603998545, 22099.600358647658, 22100.169814336634, 22100.959170631013, 22101.970136048894, 22103.180811125025, 22104.593271182137, 22106.231721879747, 22108.096597498872, 22110.166495063346, 22112.442611305538, 22114.946971763828, 22117.638265645026, 22120.558862985377, 22123.708404671597, 22127.047585352666, 22130.597250844774, 22134.376597065937, 22138.366745503117, 22142.55031284169, 22146.963821915244, 22151.589434926365, 22156.410915043645, 22161.46219220713, 22166.710844920024, 22172.173747032666, 22177.851142256637, 22183.728973760983, 22189.822673226387, 22196.132373711425, 22202.64525150017, 22209.35948275027, 22216.292968737704, 22223.42860013822, 22230.763334297062, 22242.552919180132, 22262.17110507874, 22285.06737213312, 22314.261221484452, 22359.748100499026, 22409.732923970038, 22462.377978291006, 22517.69709190412, 22575.70950701409]\n",
            "Best Alpha Value: 20.200000000004536\n",
            "Minimum MSE: 21560.97897813135\n",
            "Minimum MSE for training: 8104.4873474745045\n",
            "w: [ 60.44859017 -25.67204893 -22.29066888  22.67593548  95.83724744]\n"
          ],
          "name": "stdout"
        }
      ]
    },
    {
      "cell_type": "code",
      "metadata": {
        "id": "Bs0mmSrG92aF",
        "colab_type": "code",
        "colab": {
          "base_uri": "https://localhost:8080/",
          "height": 51
        },
        "outputId": "5c738f80-2ffd-4f4d-f23c-405d3d137e13"
      },
      "source": [
        "# Print out what the model computes using the ridge model\n",
        "\n",
        "ridge.set_params(alpha = best_alpha_ridge)\n",
        "ridge.fit(X_train, y_train)\n",
        "yhat_test = ridge.predict(X_test) # This will predict for the test data (yet to be released)\n",
        "\n",
        "print(f\"MSE: {MSE(y_test, yhat_test)}\")\n",
        "print(f\"MAE: {MAE(y_test, yhat_test)}\")"
      ],
      "execution_count": null,
      "outputs": [
        {
          "output_type": "stream",
          "text": [
            "MSE: 11805.51507597222\n",
            "MAE: 85.0328371877648\n"
          ],
          "name": "stdout"
        }
      ]
    },
    {
      "cell_type": "code",
      "metadata": {
        "id": "UUfKjGei8kCi",
        "colab_type": "code",
        "colab": {
          "base_uri": "https://localhost:8080/",
          "height": 51
        },
        "outputId": "fd76e4f6-976f-4074-8a84-908565189fb7"
      },
      "source": [
        "# UPDATED 08/10: Model performance on test data after setting negative weight values to 0:\n",
        "\n",
        "yhat_test[yhat_test < 0] = 0\n",
        "\n",
        "print(f\"new MSE: {MSE(y_test, yhat_test)}\")\n",
        "print(f\"new MAE: {MAE(y_test, yhat_test)}\")"
      ],
      "execution_count": null,
      "outputs": [
        {
          "output_type": "stream",
          "text": [
            "new MSE: 8937.691782183409\n",
            "new MAE: 69.00127969819499\n"
          ],
          "name": "stdout"
        }
      ]
    },
    {
      "cell_type": "code",
      "metadata": {
        "id": "ldCA4swuiYj1",
        "colab_type": "code",
        "colab": {
          "base_uri": "https://localhost:8080/",
          "height": 296
        },
        "outputId": "3c7576b2-e233-4015-d4bb-f10a87c06679"
      },
      "source": [
        "#graph scatter plot of the real result vs our prediction (training data):\n",
        "yhat_train = removeNeg(yhat_train)\n",
        "y_train = removeNeg(y_train)\n",
        "plt.scatter(y_train,yhat_train, color = '#F45E61')\n",
        "plt.grid()\n",
        "\n",
        "#graph a y=x line:\n",
        "x_line = np.linspace(0,1000,10)\n",
        "y_line = x_line\n",
        "plt.plot(x_line, y_line, color = '#83D061', label = \"y=x\")\n",
        "\n",
        "#graph labels:\n",
        "plt.legend()\n",
        "plt.axis('square')\n",
        "plt.title('Real Training Data Labels vs Our Predicted Training Data Labels', color = 'white')\n",
        "plt.xlabel('Real labels (y_train)', color = 'white')\n",
        "plt.ylabel('Predicted labels (yhat_train)', color = 'white')\n",
        "plt.show()"
      ],
      "execution_count": null,
      "outputs": [
        {
          "output_type": "display_data",
          "data": {
            "image/png": "[encoded data removed]",
            "text/plain": [
              "<Figure size 432x288 with 1 Axes>"
            ]
          },
          "metadata": {
            "tags": [],
            "needs_background": "dark"
          }
        }
      ]
    },
    {
      "cell_type": "code",
      "metadata": {
        "id": "ygkape6IWz3Y",
        "colab_type": "code",
        "colab": {
          "base_uri": "https://localhost:8080/",
          "height": 296
        },
        "outputId": "165b29c8-12a5-48bb-933c-ce2ce7fecfa1"
      },
      "source": [
        "#graph scatter plot of the real result vs our prediction (validation data):\n",
        "yhat_val = removeNeg(yhat_val)\n",
        "y_val = removeNeg(y_val)\n",
        "plt.scatter(y_val,yhat_val, color = '#F45E61')\n",
        "plt.grid()\n",
        "\n",
        "#graph a y=x line:\n",
        "x_line = np.linspace(0,1650,10)\n",
        "y_line = x_line\n",
        "plt.plot(x_line, y_line, color = '#83D061', label = \"y=x\")\n",
        "\n",
        "#graph labels:\n",
        "plt.legend()\n",
        "plt.axis('square')\n",
        "plt.title('Real Validation Data Labels vs Our Predicted Validation Data Labels', color = 'white')\n",
        "plt.xlabel('Real labels (y_val)', color = 'white')\n",
        "plt.ylabel('Predicted labels (yhat_val)', color = 'white')\n",
        "plt.show()"
      ],
      "execution_count": null,
      "outputs": [
        {
          "output_type": "display_data",
          "data": {
            "image/png": "[encoded data removed]",
            "text/plain": [
              "<Figure size 432x288 with 1 Axes>"
            ]
          },
          "metadata": {
            "tags": [],
            "needs_background": "dark"
          }
        }
      ]
    },
    {
      "cell_type": "code",
      "metadata": {
        "id": "6Tcaw_2WUE2x",
        "colab_type": "code",
        "colab": {
          "base_uri": "https://localhost:8080/",
          "height": 296
        },
        "outputId": "98aac5c9-748f-4401-e2ab-9ddab2dd4101"
      },
      "source": [
        "#graph scatter plot of the real result vs our prediction (test data):\n",
        "yhat_test = removeNeg(yhat_test)\n",
        "y_test = removeNeg(y_test)\n",
        "plt.scatter(y_test,yhat_test, color = '#F45E61')\n",
        "plt.grid()\n",
        "\n",
        "#graph a y=x line:\n",
        "x_line = np.linspace(0,1200,10)\n",
        "y_line = x_line\n",
        "plt.plot(x_line, y_line, color = '#83D061', label = \"y=x\")\n",
        "\n",
        "#graph labels:\n",
        "plt.legend()\n",
        "plt.axis('square')\n",
        "plt.title('Real Test Data Labels vs Our Predicted Test Data Labels', color = 'white')\n",
        "plt.xlabel('Real labels (y_test)', color = 'white')\n",
        "plt.ylabel('Predicted labels (yhat_test)', color = 'white')\n",
        "plt.show()"
      ],
      "execution_count": null,
      "outputs": [
        {
          "output_type": "display_data",
          "data": {
            "image/png": "[encoded data removed]",
            "text/plain": [
              "<Figure size 432x288 with 1 Axes>"
            ]
          },
          "metadata": {
            "tags": [],
            "needs_background": "dark"
          }
        }
      ]
    }
  ]
}