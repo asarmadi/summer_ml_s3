{
  "nbformat": 4,
  "nbformat_minor": 0,
  "metadata": {
    "colab": {
      "name": "fish market v2.ipynb",
      "provenance": [],
      "collapsed_sections": []
    },
    "kernelspec": {
      "name": "python3",
      "display_name": "Python 3"
    }
  },
  "cells": [
    {
      "cell_type": "code",
      "metadata": {
        "id": "84NiyIEDYw3R",
        "colab_type": "code",
        "colab": {}
      },
      "source": [
        "import numpy as np\n",
        "import pandas as pd\n",
        "import matplotlib.pyplot as plt\n",
        "from sklearn.model_selection import train_test_split\n",
        "from sklearn import linear_model\n",
        "from sklearn.preprocessing import MinMaxScaler, PowerTransformer\n",
        "from sklearn.metrics import  mean_squared_error, r2_score, mean_absolute_error"
      ],
      "execution_count": null,
      "outputs": []
    },
    {
      "cell_type": "code",
      "metadata": {
        "id": "3PE972JvYy0q",
        "colab_type": "code",
        "colab": {
          "base_uri": "https://localhost:8080/",
          "height": 35
        },
        "outputId": "930a2208-82d4-40e3-8b1f-ad3548e4a9af"
      },
      "source": [
        "feature = pd.read_csv('https://raw.githubusercontent.com/asarmadi/summer_ml_s3/master/day05/fish_market_feature.csv')\n",
        "label = pd.read_csv('https://raw.githubusercontent.com/asarmadi/summer_ml_s3/master/day05/fish_market_label.csv')\n",
        "X = feature.values\n",
        "y = label.values\n",
        "X_train, X_val, y_train, y_val = train_test_split(X, y, test_size = 0.33, random_state = 42)\n",
        "print(f\"X_train: {X_train.shape}, y_train: {y_train.shape}, X_val: {X_val.shape}, y_val: {y_val.shape}\")"
      ],
      "execution_count": null,
      "outputs": [
        {
          "output_type": "stream",
          "text": [
            "X_train: (83, 5), y_train: (83, 1), X_val: (41, 5), y_val: (41, 1)\n"
          ],
          "name": "stdout"
        }
      ]
    },
    {
      "cell_type": "code",
      "metadata": {
        "id": "Veq7FmzQnX4W",
        "colab_type": "code",
        "colab": {
          "base_uri": "https://localhost:8080/",
          "height": 223
        },
        "outputId": "9c259f57-0506-49b9-d9ec-c9972acbfa69"
      },
      "source": [
        "ydf=y.reshape(-1,1)\n",
        "data = np.hstack([ydf,X])\n",
        "df = pd.DataFrame({'weight': data[:, 0], 'length 1': data[:, 1], 'length 2': data[:, 2],'length 3': data[:, 3],'height': data[:, 4], 'width': data[:, 5]})\n",
        "df.corr()"
      ],
      "execution_count": null,
      "outputs": [
        {
          "output_type": "execute_result",
          "data": {
            "text/html": [
              "<div>\n",
              "<style scoped>\n",
              "    .dataframe tbody tr th:only-of-type {\n",
              "        vertical-align: middle;\n",
              "    }\n",
              "\n",
              "    .dataframe tbody tr th {\n",
              "        vertical-align: top;\n",
              "    }\n",
              "\n",
              "    .dataframe thead th {\n",
              "        text-align: right;\n",
              "    }\n",
              "</style>\n",
              "<table border=\"1\" class=\"dataframe\">\n",
              "  <thead>\n",
              "    <tr style=\"text-align: right;\">\n",
              "      <th></th>\n",
              "      <th>weight</th>\n",
              "      <th>length 1</th>\n",
              "      <th>length 2</th>\n",
              "      <th>length 3</th>\n",
              "      <th>height</th>\n",
              "      <th>width</th>\n",
              "    </tr>\n",
              "  </thead>\n",
              "  <tbody>\n",
              "    <tr>\n",
              "      <th>weight</th>\n",
              "      <td>1.000000</td>\n",
              "      <td>0.896701</td>\n",
              "      <td>0.901190</td>\n",
              "      <td>0.907433</td>\n",
              "      <td>0.752397</td>\n",
              "      <td>0.905430</td>\n",
              "    </tr>\n",
              "    <tr>\n",
              "      <th>length 1</th>\n",
              "      <td>0.896701</td>\n",
              "      <td>1.000000</td>\n",
              "      <td>0.999453</td>\n",
              "      <td>0.991086</td>\n",
              "      <td>0.624927</td>\n",
              "      <td>0.863386</td>\n",
              "    </tr>\n",
              "    <tr>\n",
              "      <th>length 2</th>\n",
              "      <td>0.901190</td>\n",
              "      <td>0.999453</td>\n",
              "      <td>1.000000</td>\n",
              "      <td>0.993447</td>\n",
              "      <td>0.641460</td>\n",
              "      <td>0.870278</td>\n",
              "    </tr>\n",
              "    <tr>\n",
              "      <th>length 3</th>\n",
              "      <td>0.907433</td>\n",
              "      <td>0.991086</td>\n",
              "      <td>0.993447</td>\n",
              "      <td>1.000000</td>\n",
              "      <td>0.707648</td>\n",
              "      <td>0.874232</td>\n",
              "    </tr>\n",
              "    <tr>\n",
              "      <th>height</th>\n",
              "      <td>0.752397</td>\n",
              "      <td>0.624927</td>\n",
              "      <td>0.641460</td>\n",
              "      <td>0.707648</td>\n",
              "      <td>1.000000</td>\n",
              "      <td>0.784274</td>\n",
              "    </tr>\n",
              "    <tr>\n",
              "      <th>width</th>\n",
              "      <td>0.905430</td>\n",
              "      <td>0.863386</td>\n",
              "      <td>0.870278</td>\n",
              "      <td>0.874232</td>\n",
              "      <td>0.784274</td>\n",
              "      <td>1.000000</td>\n",
              "    </tr>\n",
              "  </tbody>\n",
              "</table>\n",
              "</div>"
            ],
            "text/plain": [
              "            weight  length 1  length 2  length 3    height     width\n",
              "weight    1.000000  0.896701  0.901190  0.907433  0.752397  0.905430\n",
              "length 1  0.896701  1.000000  0.999453  0.991086  0.624927  0.863386\n",
              "length 2  0.901190  0.999453  1.000000  0.993447  0.641460  0.870278\n",
              "length 3  0.907433  0.991086  0.993447  1.000000  0.707648  0.874232\n",
              "height    0.752397  0.624927  0.641460  0.707648  1.000000  0.784274\n",
              "width     0.905430  0.863386  0.870278  0.874232  0.784274  1.000000"
            ]
          },
          "metadata": {
            "tags": []
          },
          "execution_count": 4
        }
      ]
    },
    {
      "cell_type": "code",
      "metadata": {
        "id": "gh6ePiNwY6Xv",
        "colab_type": "code",
        "colab": {
          "base_uri": "https://localhost:8080/",
          "height": 279
        },
        "outputId": "0dd3f2b8-4861-4f59-c1c5-c77955439c95"
      },
      "source": [
        "plt.plot(X_train[:, 0],y_train,'ob',markeredgecolor='black', markerfacecolor=(1,0,0,1)) #Red | Length1\n",
        "plt.plot(X_train[:, 1],y_train,'ob',markeredgecolor='black', markerfacecolor=(1,1,0,0)) #White | Length2\n",
        "plt.plot(X_train[:, 2],y_train,'ob',markeredgecolor='black', markerfacecolor=(1,0,1,1)) #Pink | Length3\n",
        "plt.plot(X_train[:, 3],y_train,'ob',markeredgecolor='black', markerfacecolor=(0,1,0,1)) #Green | height\n",
        "plt.plot(X_train[:, 4],y_train,'ob',markeredgecolor='black', markerfacecolor=(0,0,1,1)) #Blue | Width\n",
        "\n",
        "plt.xlabel('Legnth1, Legnth2, Legnth3, Height, Width')\n",
        "plt.ylabel('Y')\n",
        "\n",
        "\n",
        "plt.grid()"
      ],
      "execution_count": null,
      "outputs": [
        {
          "output_type": "display_data",
          "data": {
            "image/png": "[encoded data removed]",
            "text/plain": [
              "<Figure size 432x288 with 1 Axes>"
            ]
          },
          "metadata": {
            "tags": [],
            "needs_background": "light"
          }
        }
      ]
    },
    {
      "cell_type": "code",
      "metadata": {
        "id": "xZseMmRngZi5",
        "colab_type": "code",
        "colab": {
          "base_uri": "https://localhost:8080/",
          "height": 106
        },
        "outputId": "01834d18-5369-4540-a7fa-a0887f9d3de3"
      },
      "source": [
        "print(X_train[0:5, :])\n",
        "#the range of the values differs a lot (first three columns have a larger range + higher, but last two are much smaller) so we should normalise to make sure that the actual size of the variables\n",
        "#doesn't influence the model wrongly"
      ],
      "execution_count": null,
      "outputs": [
        {
          "output_type": "stream",
          "text": [
            "[[18.6    20.     22.2     6.216   3.5742]\n",
            " [33.7    36.4    39.6    11.7612  6.5736]\n",
            " [22.6    24.6    26.2     6.7334  4.1658]\n",
            " [28.4    31.     36.2    14.2628  5.1042]\n",
            " [17.5    18.8    21.2     5.5756  2.9044]]\n"
          ],
          "name": "stdout"
        }
      ]
    },
    {
      "cell_type": "code",
      "metadata": {
        "id": "pkyHg8U1Y-UW",
        "colab_type": "code",
        "colab": {
          "base_uri": "https://localhost:8080/",
          "height": 279
        },
        "outputId": "a6018921-1e3a-410b-9ffd-a60d3c64571b"
      },
      "source": [
        "#normalise x and y cause it supposedly helps the model perform better???\n",
        "\n",
        "scaler = MinMaxScaler()\n",
        "transformer = PowerTransformer()\n",
        "\n",
        "X_train = scaler.fit_transform(X_train)\n",
        "X_val = scaler.transform(X_val)\n",
        "\n",
        "y_train = y_train.reshape(-1,1)\n",
        "y_val = y_val.reshape(-1,1)\n",
        "\n",
        "y_train = transformer.fit_transform(y_train)\n",
        "y_val = transformer.transform(y_val)\n",
        "\n",
        "#plot again once normalised, it looks like a straight line now :)\n",
        "plt.plot(X_train[:, 0],y_train,'ob',markeredgecolor='black', markerfacecolor=(1,0,0,1)) #Red | Length1\n",
        "plt.plot(X_train[:, 1],y_train,'ob',markeredgecolor='black', markerfacecolor=(1,1,0,0)) #White | Length2\n",
        "plt.plot(X_train[:, 2],y_train,'ob',markeredgecolor='black', markerfacecolor=(1,0,1,1)) #Pink | Length3\n",
        "plt.plot(X_train[:, 3],y_train,'ob',markeredgecolor='black', markerfacecolor=(0,1,0,1)) #Green | height\n",
        "plt.plot(X_train[:, 4],y_train,'ob',markeredgecolor='black', markerfacecolor=(0,0,1,1)) #Blue | Width\n",
        "\n",
        "plt.xlabel('Length1, Legnth2, Legnth3, Height, Width')\n",
        "plt.ylabel('Y')\n",
        "\n",
        "\n",
        "plt.grid()"
      ],
      "execution_count": null,
      "outputs": [
        {
          "output_type": "display_data",
          "data": {
            "image/png": "[encoded data removed]",
            "text/plain": [
              "<Figure size 432x288 with 1 Axes>"
            ]
          },
          "metadata": {
            "tags": [],
            "needs_background": "light"
          }
        }
      ]
    },
    {
      "cell_type": "code",
      "metadata": {
        "id": "4JQvUpJSZBq_",
        "colab_type": "code",
        "colab": {}
      },
      "source": [
        "# test LinearRegression(), weirdly this worked the best? did i make a mistake?\n",
        "\n",
        "#reg_lin = linear_model.LinearRegression()\n",
        "#reg_lin.fit(X_train, y_train)\n",
        "#y_hat_train = reg_lin.predict(X_train)\n",
        "#mse = np.sqrt(mean_squared_error(y_train, y_hat_train))\n",
        "#r2 = r2_score(y_hat_train, y_train)\n",
        "#print('mse:',mse)\n",
        "#print('r2:', r2)\n",
        "\n",
        "#print(' ')\n",
        "\n",
        "#y_hat_val = reg_lin.predict(X_val)\n",
        "#mse = mean_squared_error(y_val, y_hat_val)\n",
        "#mae = mean_absolute_error(y_val, y_hat_val)\n",
        "#r2 = r2_score(y_val, y_hat_val)\n",
        "#print('mse:',mse)\n",
        "#print('mae:',mae)\n",
        "#print('r2:', r2)\n",
        "#print(' ')"
      ],
      "execution_count": null,
      "outputs": []
    },
    {
      "cell_type": "code",
      "metadata": {
        "id": "fLUX6EWwdwPN",
        "colab_type": "code",
        "colab": {}
      },
      "source": [
        "#plt.plot(y_val)\n",
        "#plt.plot(y_hat_val)"
      ],
      "execution_count": null,
      "outputs": []
    },
    {
      "cell_type": "code",
      "metadata": {
        "id": "sjiMpx60aw60",
        "colab_type": "code",
        "colab": {
          "base_uri": "https://localhost:8080/",
          "height": 177
        },
        "outputId": "f573efaf-8511-466b-a0c9-f79565a13aec"
      },
      "source": [
        "# test Ridge\n",
        "def bestAlphaRidge(Max, Min):\n",
        "  validation_error = []\n",
        "  alpha_range = np.arange(Max, Min, -0.01)\n",
        "  for a in alpha_range:\n",
        "    regr = linear_model.Ridge(alpha=a, fit_intercept=True)\n",
        "    regr.fit(X_train, y_train)\n",
        "\n",
        "    # calculate the validation error MSE\n",
        "    yhat_val = regr.predict(X_val)\n",
        "    MSE_val = np.mean((yhat_val - y_val)**2)\n",
        "    validation_error.append(MSE_val)\n",
        "    bestalpha = alpha_range[np.argmin(validation_error)]\n",
        "  return bestalpha\n",
        "\n",
        "bestalpha = bestAlphaRidge(10,0)\n",
        "print('ridge')\n",
        "print('alpha:', bestalpha)\n",
        "reg_ridge = linear_model.Ridge(alpha=bestalpha, fit_intercept=True)\n",
        "reg_ridge.fit(X_train, y_train)\n",
        "y_hat_trainr = reg_ridge.predict(X_train)\n",
        "mse = mean_squared_error(y_train, y_hat_trainr)\n",
        "r2 = r2_score(y_train, y_hat_trainr)\n",
        "print('train mse:',mse)\n",
        "print('train r2:', r2)\n",
        "print(' ')\n",
        "\n",
        "y_hat_valr = reg_ridge.predict(X_val)\n",
        "mse = mean_squared_error(y_val, y_hat_valr)\n",
        "r2 = r2_score(y_val, y_hat_valr)\n",
        "mae = mean_absolute_error(y_val, y_hat_valr)\n",
        "print('val mse:',mse)\n",
        "print('val mae:',mae)\n",
        "print('val r2:', r2)\n",
        "print(' ')"
      ],
      "execution_count": null,
      "outputs": [
        {
          "output_type": "stream",
          "text": [
            "ridge\n",
            "alpha: 0.16000000000020975\n",
            "train mse: 0.009969619302499781\n",
            "train r2: 0.9900303806975003\n",
            " \n",
            "val mse: 0.080172317017997\n",
            "val mae: 0.13447605666630966\n",
            "val r2: 0.9495840836389885\n",
            " \n"
          ],
          "name": "stdout"
        }
      ]
    },
    {
      "cell_type": "code",
      "metadata": {
        "id": "1PoG1_VVdnG_",
        "colab_type": "code",
        "colab": {
          "base_uri": "https://localhost:8080/",
          "height": 283
        },
        "outputId": "cdd96fdf-4fde-4adc-9146-d60495eedb6f"
      },
      "source": [
        "\n",
        "plt.plot(y_val, 'o')\n",
        "\n",
        "plt.plot(y_hat_valr, 'o')"
      ],
      "execution_count": null,
      "outputs": [
        {
          "output_type": "execute_result",
          "data": {
            "text/plain": [
              "[<matplotlib.lines.Line2D at 0x7f10dc4ffda0>]"
            ]
          },
          "metadata": {
            "tags": []
          },
          "execution_count": 11
        },
        {
          "output_type": "display_data",
          "data": {
            "image/png": "[encoded data removed]",
            "text/plain": [
              "<Figure size 432x288 with 1 Axes>"
            ]
          },
          "metadata": {
            "tags": [],
            "needs_background": "light"
          }
        }
      ]
    },
    {
      "cell_type": "code",
      "metadata": {
        "id": "pi5KaNM2bVlR",
        "colab_type": "code",
        "colab": {
          "base_uri": "https://localhost:8080/",
          "height": 195
        },
        "outputId": "80abf835-61cd-468c-9fc8-aaedd0bf71a8"
      },
      "source": [
        "#test Lasso\n",
        "def bestAlphaLasso(Max, Min):\n",
        "  validation_error = []\n",
        "  alpha_range = np.arange(Max, Min, -0.001)\n",
        "  for a in alpha_range:\n",
        "    regr = linear_model.Lasso(alpha=a, fit_intercept=True)\n",
        "    regr.fit(X_train, y_train)\n",
        "\n",
        "    # calculate the validation error MSE\n",
        "    yhat_val = regr.predict(X_val)\n",
        "    MSE_val = np.mean((yhat_val - y_val)**2)\n",
        "    validation_error.append(MSE_val)\n",
        "    bestalpha = alpha_range[np.argmin(validation_error)]\n",
        "  return bestalpha\n",
        "\n",
        "bestalphalasso = bestAlphaLasso(1,0)\n",
        "print('lasso')\n",
        "print('alpha:', bestalphalasso)\n",
        "reg_lasso = linear_model.Lasso(alpha=bestalphalasso, fit_intercept=True)\n",
        "reg_lasso.fit(X_train, y_train)\n",
        "y_hat_trainl = reg_lasso.predict(X_train)\n",
        "mse = mean_squared_error(y_train, y_hat_trainl)\n",
        "r2 = r2_score(y_train, y_hat_trainl)\n",
        "print('train mse:',mse)\n",
        "print('train r2:', r2)\n",
        "print(' ')\n",
        "\n",
        "y_hat_vall = reg_lasso.predict(X_val)\n",
        "mse = mean_squared_error(y_val, y_hat_vall)\n",
        "r2 = r2_score(y_val, y_hat_vall)\n",
        "mae = mean_absolute_error(y_val, y_hat_vall)\n",
        "print('val mse:',mse)\n",
        "print('val mae:',mae)\n",
        "print('val r2:', r2)\n",
        "print(' ')\n",
        "print(y_hat_vall[1])"
      ],
      "execution_count": null,
      "outputs": [
        {
          "output_type": "stream",
          "text": [
            "lasso\n",
            "alpha: 0.2189999999999993\n",
            "train mse: 0.9804919609046195\n",
            "train r2: 0.019508039095380347\n",
            " \n",
            "val mse: 1.57161043958492\n",
            "val mae: 1.0896712096641887\n",
            "val r2: 0.011701502197828506\n",
            " \n",
            "-0.004945854040216602\n"
          ],
          "name": "stdout"
        }
      ]
    },
    {
      "cell_type": "code",
      "metadata": {
        "id": "ubiJ0nnhd1UR",
        "colab_type": "code",
        "colab": {
          "base_uri": "https://localhost:8080/",
          "height": 283
        },
        "outputId": "8992477e-e7ca-4837-fd07-6c9c8f1315e4"
      },
      "source": [
        "\n",
        "plt.plot(y_val, 'o')\n",
        "plt.plot(y_hat_vall, 'o') \n",
        "#i'm a bit confused on this, anyone know what i did wrong?\n"
      ],
      "execution_count": null,
      "outputs": [
        {
          "output_type": "execute_result",
          "data": {
            "text/plain": [
              "[<matplotlib.lines.Line2D at 0x7f10dc4954e0>]"
            ]
          },
          "metadata": {
            "tags": []
          },
          "execution_count": 14
        },
        {
          "output_type": "display_data",
          "data": {
            "image/png": "[encoded data removed]",
            "text/plain": [
              "<Figure size 432x288 with 1 Axes>"
            ]
          },
          "metadata": {
            "tags": [],
            "needs_background": "light"
          }
        }
      ]
    },
    {
      "cell_type": "code",
      "metadata": {
        "id": "vvZ14ds6eaAS",
        "colab_type": "code",
        "colab": {
          "base_uri": "https://localhost:8080/",
          "height": 35
        },
        "outputId": "3c3d6547-ae90-4eb5-e477-a36bd79cd8ad"
      },
      "source": [
        "#finding coefficients\n",
        "w  = reg_ridge.coef_\n",
        "w = np.insert(w, 0, reg_ridge.intercept_)\n",
        "print(w)"
      ],
      "execution_count": null,
      "outputs": [
        {
          "output_type": "stream",
          "text": [
            "[-2.10407365  0.73026667  0.71139288  0.5161813   0.94000851  1.71742823]\n"
          ],
          "name": "stdout"
        }
      ]
    },
    {
      "cell_type": "code",
      "metadata": {
        "colab_type": "code",
        "id": "CuYi4jwAENxI",
        "colab": {
          "base_uri": "https://localhost:8080/",
          "height": 336
        },
        "outputId": "88426220-3c02-40c4-fbd9-9778d4bc7452"
      },
      "source": [
        "''' \n",
        "The test set will be released on Sunday night\n",
        "'''\n",
        "\n",
        "X_test = pd.read_csv('https://raw.githubusercontent.com/asarmadi/summer_ml_s3/master/day05/fish_market_test_feature.csv').values\n",
        "y_test = pd.read_csv('https://raw.githubusercontent.com/asarmadi/summer_ml_s3/master/day05/fish_market_test_label.csv').values\n",
        "\n",
        "X_test = scaler.transform(X_test)\n",
        "\n",
        "y_test = y_test.reshape(-1,1)\n",
        "y_pred = reg_ridge.predict(X_test)\n",
        "y_pred = transformer.inverse_transform(y_pred)\n",
        "mse = mean_squared_error(y_test, y_pred)\n",
        "r2 = r2_score(y_test, y_pred)\n",
        "mae = mean_absolute_error(y_test, y_pred)\n",
        "#print('val mse:',mse)\n",
        "print('test mae:',mae)\n",
        "print('test r2:', r2)\n",
        "print(' ')\n",
        "plt.plot(y_test, 'o')\n",
        "plt.plot(y_pred, 'o') "
      ],
      "execution_count": null,
      "outputs": [
        {
          "output_type": "stream",
          "text": [
            "test mae: 31.33848191318338\n",
            "test r2: 0.9677853846917062\n",
            " \n"
          ],
          "name": "stdout"
        },
        {
          "output_type": "execute_result",
          "data": {
            "text/plain": [
              "[<matplotlib.lines.Line2D at 0x7f10dc3fedd8>]"
            ]
          },
          "metadata": {
            "tags": []
          },
          "execution_count": 16
        },
        {
          "output_type": "display_data",
          "data": {
            "image/png": "[encoded data removed]",
            "text/plain": [
              "<Figure size 432x288 with 1 Axes>"
            ]
          },
          "metadata": {
            "tags": [],
            "needs_background": "light"
          }
        }
      ]
    },
    {
      "cell_type": "code",
      "metadata": {
        "id": "UdZ3Z3X_qtkC",
        "colab_type": "code",
        "colab": {}
      },
      "source": [
        ""
      ],
      "execution_count": null,
      "outputs": []
    }
  ]
}