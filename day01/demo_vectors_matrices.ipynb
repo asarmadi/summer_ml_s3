{
  "nbformat": 4,
  "nbformat_minor": 0,
  "metadata": {
    "colab": {
      "name": "demo_vectors_matrices.ipynb",
      "provenance": []
    },
    "kernelspec": {
      "display_name": "Python 3",
      "language": "python",
      "name": "python3"
    },
    "language_info": {
      "codemirror_mode": {
        "name": "ipython",
        "version": 3
      },
      "file_extension": ".py",
      "mimetype": "text/x-python",
      "name": "python",
      "nbconvert_exporter": "python",
      "pygments_lexer": "ipython3",
      "version": "3.6.9"
    }
  },
  "cells": [
    {
      "cell_type": "markdown",
      "metadata": {
        "colab_type": "text",
        "id": "3d768K37k4Th"
      },
      "source": [
        "# Vectors and Matrices\n",
        "## In NumPy"
      ]
    },
    {
      "cell_type": "markdown",
      "metadata": {
        "colab_type": "text",
        "id": "ykbMIef0lVP4"
      },
      "source": [
        "- Add two Python list together does not do vector addition..."
      ]
    },
    {
      "cell_type": "code",
      "metadata": {
        "colab_type": "code",
        "id": "V-mDUGZznueI",
        "colab": {
          "base_uri": "https://localhost:8080/",
          "height": 34
        },
        "outputId": "173fccea-3029-4998-eb00-95d6a6135ea4"
      },
      "source": [
        "u = [1,5,2,9] \n",
        "v = [3,6,0,-5]\n",
        "print(\"v + u = \", v + u)"
      ],
      "execution_count": 1,
      "outputs": [
        {
          "output_type": "stream",
          "text": [
            "v + u =  [3, 6, 0, -5, 1, 5, 2, 9]\n"
          ],
          "name": "stdout"
        }
      ]
    },
    {
      "cell_type": "markdown",
      "metadata": {
        "colab_type": "text",
        "id": "gVUUa1xOk4Tn"
      },
      "source": [
        "- Fortunately, people have provided open-source packages for linear algebra operations in Python"
      ]
    },
    {
      "cell_type": "code",
      "metadata": {
        "colab_type": "code",
        "id": "Uy7T_75KoFuc",
        "colab": {
          "base_uri": "https://localhost:8080/",
          "height": 34
        },
        "outputId": "4cdcc893-955a-4f59-b553-651325341bf5"
      },
      "source": [
        "import numpy as np"
      ],
      "execution_count": 4,
      "outputs": [
        {
          "output_type": "execute_result",
          "data": {
            "text/plain": [
              "14"
            ]
          },
          "metadata": {
            "tags": []
          },
          "execution_count": 4
        }
      ]
    },
    {
      "cell_type": "markdown",
      "metadata": {
        "colab_type": "text",
        "id": "6ZEPCF7Hk4Tq"
      },
      "source": [
        "## Vectors"
      ]
    },
    {
      "cell_type": "code",
      "metadata": {
        "id": "nL6zF0_A9sol",
        "colab_type": "code",
        "colab": {
          "base_uri": "https://localhost:8080/",
          "height": 34
        },
        "outputId": "417a8437-5c23-4799-d571-d2eddb65e474"
      },
      "source": [
        "v = np.array([1,5,2,9])\n",
        "u = np.array([3,6,0,-5])"
      ],
      "execution_count": 11,
      "outputs": [
        {
          "output_type": "execute_result",
          "data": {
            "text/plain": [
              "10.535653752852738"
            ]
          },
          "metadata": {
            "tags": []
          },
          "execution_count": 11
        }
      ]
    },
    {
      "cell_type": "code",
      "metadata": {
        "colab_type": "code",
        "id": "WJnQAOAJk4Tr",
        "colab": {
          "base_uri": "https://localhost:8080/",
          "height": 119
        },
        "outputId": "e6116fd4-e838-4fcb-9d3e-47093833c055"
      },
      "source": [
        "# vector addition\n",
        "print(\"v+u = \", v+u)\n",
        "\n",
        "# vector scaling\n",
        "print(\"3v = \", 3*v)\n",
        "\n",
        "# Dot-Product\n",
        "print(\"u dot v = \", np.dot(u,v))\n",
        "print('Or u dot v = ', u.dot(v))\n",
        "\n",
        "# Length / L2 Norm of a vector\n",
        "print(\"sqrt(v dot v) = %.2f\" % np.sqrt(np.dot(v,v)))\n",
        "print(\"||v|| = %.2f\" % np.linalg.norm(v))"
      ],
      "execution_count": null,
      "outputs": [
        {
          "output_type": "stream",
          "text": [
            "v+u =  [ 4 11  2  4]\n",
            "3v =  [ 3 15  6 27]\n",
            "u dot v =  -12\n",
            "Or u dot v =  -12\n",
            "sqrt(v dot v) = 10.54\n",
            "||v|| = 10.54\n"
          ],
          "name": "stdout"
        }
      ]
    },
    {
      "cell_type": "markdown",
      "metadata": {
        "colab_type": "text",
        "id": "ULJ0MNmkk4Tu"
      },
      "source": [
        "## Matrices"
      ]
    },
    {
      "cell_type": "code",
      "metadata": {
        "colab_type": "code",
        "id": "f-o8cWNck4Tv",
        "colab": {
          "base_uri": "https://localhost:8080/",
          "height": 170
        },
        "outputId": "95c2af1c-36ba-476c-8dfc-d341722029a4"
      },
      "source": [
        "M = np.array([ [1,9,-12], [15, -2, 0] ])\n",
        "print(\"M = \", M.shape)\n",
        "print(M)\n",
        "\n",
        "# matrix addition\n",
        "A = np.array([ [1, 1], [2, 1] ])\n",
        "B = np.array([ [0, 8], [7, 11] ])\n",
        "print(\"A+B = \\n\", A+B) # '\\n' is the newline character\n",
        "\n",
        "# matrix scaling\n",
        "a = 5\n",
        "print(\"aB = \\n\", a*B)"
      ],
      "execution_count": 16,
      "outputs": [
        {
          "output_type": "stream",
          "text": [
            "M =  (2, 3)\n",
            "[[  1   9 -12]\n",
            " [ 15  -2   0]]\n",
            "A+B = \n",
            " [[ 1  9]\n",
            " [ 9 12]]\n",
            "aB = \n",
            " [[ 0 40]\n",
            " [35 55]]\n"
          ],
          "name": "stdout"
        }
      ]
    },
    {
      "cell_type": "markdown",
      "metadata": {
        "colab_type": "text",
        "id": "VvKPUxQAk4Tx"
      },
      "source": [
        "## More about Matrices"
      ]
    },
    {
      "cell_type": "code",
      "metadata": {
        "id": "q1BmUy36A-zo",
        "colab_type": "code",
        "colab": {
          "base_uri": "https://localhost:8080/",
          "height": 68
        },
        "outputId": "6097dc20-5fdf-4f87-8618-9ec37a296670"
      },
      "source": [
        "print(\"shapes of A and M:\", A.shape, M.shape)\n",
        "# A multiplied by M is permitted\n",
        "\n",
        "print (A.dot(M))"
      ],
      "execution_count": 18,
      "outputs": [
        {
          "output_type": "stream",
          "text": [
            "shapes of A and M: (2, 2) (2, 3)\n",
            "[[ 16   7 -12]\n",
            " [ 17  16 -24]]\n"
          ],
          "name": "stdout"
        }
      ]
    },
    {
      "cell_type": "code",
      "metadata": {
        "colab_type": "code",
        "id": "0lMpTVk8k4Ty",
        "colab": {
          "base_uri": "https://localhost:8080/",
          "height": 374
        },
        "outputId": "31da34c9-491b-4f10-bf2f-212712ec378c"
      },
      "source": [
        "# matrix multiplicaiton\n",
        "print(\"shapes of A and M:\", A.shape, M.shape)\n",
        "C1 = np.matmul(A, M)\n",
        "C2 = A.dot(M)\n",
        "C3 = A@M\n",
        "print(\"C1 = \\n\", C1)\n",
        "print(\"C2 = \\n\", C2)\n",
        "print(\"C3 = \\n\", C3)\n",
        "\n",
        "# matrix transpose\n",
        "print(\"M^T = \\n\", np.transpose(M))\n",
        "print(\"M^T = \\n\", M.transpose())\n",
        "\n",
        "# matrix inverse\n",
        "print(\"A^-1 = \\n\", np.linalg.inv(A))"
      ],
      "execution_count": 20,
      "outputs": [
        {
          "output_type": "stream",
          "text": [
            "shapes of A and M: (2, 2) (2, 3)\n",
            "C1 = \n",
            " [[ 16   7 -12]\n",
            " [ 17  16 -24]]\n",
            "C2 = \n",
            " [[ 16   7 -12]\n",
            " [ 17  16 -24]]\n",
            "C3 = \n",
            " [[ 16   7 -12]\n",
            " [ 17  16 -24]]\n",
            "M^T = \n",
            " [[  1  15]\n",
            " [  9  -2]\n",
            " [-12   0]]\n",
            "M^T = \n",
            " [[  1  15]\n",
            " [  9  -2]\n",
            " [-12   0]]\n",
            "A^-1 = \n",
            " [[-1.  1.]\n",
            " [ 2. -1.]]\n"
          ],
          "name": "stdout"
        }
      ]
    },
    {
      "cell_type": "markdown",
      "metadata": {
        "colab_type": "text",
        "id": "5LnHpZF2k4T0"
      },
      "source": [
        "## Vectors and Matrices"
      ]
    },
    {
      "cell_type": "code",
      "metadata": {
        "id": "LEFBVtCjCYQQ",
        "colab_type": "code",
        "colab": {
          "base_uri": "https://localhost:8080/",
          "height": 170
        },
        "outputId": "a9f82b4e-7578-42c4-b60b-c61f815adc05"
      },
      "source": [
        "A = np.array([[2,0],[0,1],[1,1]])\n",
        "u = np.array([1,2])\n",
        "\n",
        "print(\"A\", A.shape, \" = \\n\", A)\n",
        "print(\"u\", u.shape, \" = \\n\", u)\n",
        "\n",
        "A.dot(u.reshape(-1, 1))"
      ],
      "execution_count": 30,
      "outputs": [
        {
          "output_type": "stream",
          "text": [
            "A (3, 2)  = \n",
            " [[2 0]\n",
            " [0 1]\n",
            " [1 1]]\n",
            "u (2,)  = \n",
            " [1 2]\n"
          ],
          "name": "stdout"
        },
        {
          "output_type": "execute_result",
          "data": {
            "text/plain": [
              "array([[2],\n",
              "       [2],\n",
              "       [3]])"
            ]
          },
          "metadata": {
            "tags": []
          },
          "execution_count": 30
        }
      ]
    },
    {
      "cell_type": "code",
      "metadata": {
        "colab_type": "code",
        "id": "9bU1KEexk4T0",
        "colab": {
          "base_uri": "https://localhost:8080/",
          "height": 425
        },
        "outputId": "b0057220-3e9c-4f25-9f95-37cd4d5736a3"
      },
      "source": [
        "v = np.array([1,5,2,9])\n",
        "\n",
        "# v\n",
        "print(\"v\", v.shape, \" = \", v)\n",
        "\n",
        "# row vector v\n",
        "v = v.reshape(1,-1) # shape -1 in np.reshape means value is infered\n",
        "print(\"row vector v\", v.shape, \" = \",  v) \n",
        "\n",
        "# column vector v\n",
        "v = v.reshape(-1,1)\n",
        "print(\"col vector v\", v.shape, \" = \\n\",  v) \n",
        "\n",
        "# matrix vector multiplication\n",
        "A = np.array([[2,0],[0,1],[1,1]])\n",
        "u = np.array([1,2])\n",
        "print(\"u\", u.shape, \" = \\n\", u)\n",
        "print(\"A\", A.shape, \" = \\n\", A)\n",
        "\n",
        "print(\"Au = \\n\", A.dot(u))\n",
        "\n",
        "u = u.reshape(-1,1)\n",
        "print(\"u\", u.shape, \" = \\n\", u)\n",
        "print(\"Au = \\n\", A.dot(u))\n",
        "\n",
        "# inner product as matrix multiplication\n",
        "vdotv = np.matmul(np.transpose(v), v)\n",
        "print(\"v dot v =\", vdotv)\n",
        "print(\"shape of vdotv\", vdotv.shape)"
      ],
      "execution_count": null,
      "outputs": [
        {
          "output_type": "stream",
          "text": [
            "v (4,)  =  [1 5 2 9]\n",
            "row vector v (1, 4)  =  [[1 5 2 9]]\n",
            "col vector v (4, 1)  = \n",
            " [[1]\n",
            " [5]\n",
            " [2]\n",
            " [9]]\n",
            "u (2,)  = \n",
            " [1 2]\n",
            "A (3, 2)  = \n",
            " [[2 0]\n",
            " [0 1]\n",
            " [1 1]]\n",
            "Au = \n",
            " [2 2 3]\n",
            "u (2, 1)  = \n",
            " [[1]\n",
            " [2]]\n",
            "Au = \n",
            " [[2]\n",
            " [2]\n",
            " [3]]\n",
            "v dot v = [[111]]\n",
            "shape of vdotv (1, 1)\n"
          ],
          "name": "stdout"
        }
      ]
    },
    {
      "cell_type": "markdown",
      "metadata": {
        "colab_type": "text",
        "id": "ZvdTCz-GqBMs"
      },
      "source": [
        "## Calculate the exercises done previously, compare the results!\n"
      ]
    },
    {
      "cell_type": "markdown",
      "metadata": {
        "id": "GKe2TFGV8H-d",
        "colab_type": "text"
      },
      "source": [
        "$X =\\begin{bmatrix}\n",
        "        1 & 2 & -1 \\\\ 1 & 0 & 1\n",
        "        \\end{bmatrix}$ $Y =\\begin{bmatrix}\n",
        "        3 & 1 \\\\ 0 & -1 \\\\ -2 & 3\n",
        "        \\end{bmatrix}$ $Z = \\begin{bmatrix}1\\\\4\\\\6\\end{bmatrix}$ $A = \\begin{bmatrix}\n",
        "        1 & 2\\\\\n",
        "        3 & 5\n",
        "        \\end{bmatrix}$ $ b= \\begin{bmatrix}\n",
        "        5 \\\\\n",
        "        13\n",
        "        \\end{bmatrix}$\n",
        "\n",
        "\n",
        "Calculate $XY$,  $YX$, $Z^TY$ and $A^{-1}b$"
      ]
    },
    {
      "cell_type": "code",
      "metadata": {
        "colab_type": "code",
        "id": "VQ2ZVtKbnij9",
        "colab": {
          "base_uri": "https://localhost:8080/",
          "height": 323
        },
        "outputId": "7196ebcb-f094-4fc6-c39f-d688fc937efa"
      },
      "source": [
        "\n",
        "X = np.array([[1,2,-1],[1,0,1]])\n",
        "Y = np.array([[3,1],[0,-1],[-2,3]])\n",
        "Z = np.array([[1],[4],[6]])\n",
        "\n",
        "X.dot(Y)\n",
        "Y.dot(X)\n",
        "Z.transpose().dot(Y)\n",
        "\n",
        "print ('XY = \\n', X.dot(Y))\n",
        "print ('\\n')\n",
        "print ('YX = \\n', Y.dot(X))\n",
        "print ('\\n')\n",
        "print ('Z^T Y = \\n', (Z.transpose()).dot(Y))\n",
        "print ('\\n')\n",
        "\n",
        "A = np.array([[1,2], [3,5]])\n",
        "b = np.array([[5],[13]])\n",
        "\n",
        "print ('A^(-1) b = \\n', (np.linalg.inv(A)).dot(b))"
      ],
      "execution_count": 32,
      "outputs": [
        {
          "output_type": "stream",
          "text": [
            "XY = \n",
            " [[ 5 -4]\n",
            " [ 1  4]]\n",
            "\n",
            "\n",
            "YX = \n",
            " [[ 4  6 -2]\n",
            " [-1  0 -1]\n",
            " [ 1 -4  5]]\n",
            "\n",
            "\n",
            "Z^T Y = \n",
            " [[-9 15]]\n",
            "\n",
            "\n",
            "A^(-1) b = \n",
            " [[1.]\n",
            " [2.]]\n"
          ],
          "name": "stdout"
        }
      ]
    },
    {
      "cell_type": "code",
      "metadata": {
        "id": "xU9vXTXzGoAY",
        "colab_type": "code",
        "colab": {}
      },
      "source": [
        ""
      ],
      "execution_count": null,
      "outputs": []
    }
  ]
}