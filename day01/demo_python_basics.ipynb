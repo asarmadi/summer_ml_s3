{
  "nbformat": 4,
  "nbformat_minor": 0,
  "metadata": {
    "colab": {
      "name": "demo_python_basics.ipynb",
      "provenance": []
    },
    "kernelspec": {
      "display_name": "Python 3",
      "language": "python",
      "name": "python3"
    },
    "language_info": {
      "codemirror_mode": {
        "name": "ipython",
        "version": 3
      },
      "file_extension": ".py",
      "mimetype": "text/x-python",
      "name": "python",
      "nbconvert_exporter": "python",
      "pygments_lexer": "ipython3",
      "version": "3.6.9"
    }
  },
  "cells": [
    {
      "cell_type": "markdown",
      "metadata": {
        "colab_type": "text",
        "id": "66ZZ59uiIjl-"
      },
      "source": [
        "## Variables\n",
        "We'll use integers for now, but there exist many more data-types.\n",
        "Variables are ways we deal with data, assign values, and allow interaction in the computer.\n",
        "Notice that re-assigning ```a``` variable does not change the value of ```c``` becuase **code is executed sequentially**"
      ]
    },
    {
      "cell_type": "code",
      "metadata": {
        "colab_type": "code",
        "id": "VDF6wc3IIjl-",
        "colab": {
          "base_uri": "https://localhost:8080/",
          "height": 136
        },
        "outputId": "39fe0f5b-1dac-44d2-af4b-181acbf1765d"
      },
      "source": [
        "a = 5\n",
        "b = 2\n",
        "\n",
        "print('a = ', a)\n",
        "print('b = ', b)\n",
        "\n",
        "c = a + b\n",
        "print('c = ', c)\n",
        "\n",
        "a = 3\n",
        "\n",
        "print('a = ', a)\n",
        "print('b = ', b)\n",
        "print('c = ', c)\n",
        "\n",
        "c = a + b\n",
        "print('c = ', c)"
      ],
      "execution_count": 1,
      "outputs": [
        {
          "output_type": "stream",
          "text": [
            "a =  5\n",
            "b =  2\n",
            "c =  7\n",
            "a =  3\n",
            "b =  2\n",
            "c =  7\n",
            "c =  5\n"
          ],
          "name": "stdout"
        }
      ]
    },
    {
      "cell_type": "markdown",
      "metadata": {
        "colab_type": "text",
        "id": "22na4BBNIjmF"
      },
      "source": [
        "## If-Statements\n",
        "Basic inequality statements: ```==, !=, >=, <=, >, <```. If statements are used to conditionally execute a line of code. Inequality statements return **boolean** variables types: ```True``` or ```False```. Contents of an if-statement are only evaluated when the condition is ```True```. *Extra: look into elseif statements.*\n"
      ]
    },
    {
      "cell_type": "code",
      "metadata": {
        "colab_type": "code",
        "id": "Yct3wpGNIjmF",
        "colab": {
          "base_uri": "https://localhost:8080/",
          "height": 85
        },
        "outputId": "50413178-b6be-447a-b3c2-463288219d18"
      },
      "source": [
        "if True:                             ## True, implement the code, print('Booleans are great!')\n",
        "    print('Booleans are great!')\n",
        "    \n",
        "if False:                            ## False, don't implement the code\n",
        "    print('This will never be printed!')\n",
        "\n",
        "print('Is a greater than 0?', a > 0)    ## a = 3 in our last block, a > 0 is True\n",
        "\n",
        "if a > 0:                            ## True, implement the code,\n",
        "    print('a is greater than 0!')\n",
        "    \n",
        "if a + b == c:                         ## a = 3, b = 2, c = 5 in our last block, a+b = c\n",
        "    print('Yep, a + b = ', a + b)           \n",
        "else:                                 ## else means not (a+b == c), means (a+b != c), \n",
        "    print('Nope, a + b = ', a + b)         "
      ],
      "execution_count": 2,
      "outputs": [
        {
          "output_type": "stream",
          "text": [
            "Booleans are great!\n",
            "Is a greater than 0? True\n",
            "a is greater than 0!\n",
            "Yep, a + b =  5\n"
          ],
          "name": "stdout"
        }
      ]
    },
    {
      "cell_type": "markdown",
      "metadata": {
        "colab_type": "text",
        "id": "Xjn9uTS2IjmI"
      },
      "source": [
        "## Functions\n",
        "Functions are used to define lines of code we wish to execute later or reuse. Functions may return a variable from being called, which is signified by their return statement. A return statement is optional. Functions can take in parameters with and/or without key-word arguments (kwargs).\n",
        "\n",
        "Functions are very powerful. If find yourself copying and pasting code in multiple places, consider writing a function instead."
      ]
    },
    {
      "cell_type": "code",
      "metadata": {
        "colab_type": "code",
        "id": "wGZ0WTqZIjmJ",
        "colab": {
          "base_uri": "https://localhost:8080/",
          "height": 51
        },
        "outputId": "8d56a332-6f6b-47db-9c10-74f0c0a8c16a"
      },
      "source": [
        "def myPrintFunc(x):               ## This is how you define you function\n",
        "    print('var = ', x)\n",
        "    \n",
        "def myFunc(x, y):                ## What's this function doing?\n",
        "    return x + y\n",
        "\n",
        "a = myFunc(a, b)                  ## a = a + b = 3 + 2 = 5\n",
        "\n",
        "def myFunc2(x, y, show=True):     ## what's this function doing?\n",
        "    w = myFunc(x, y)              ## w = a + b\n",
        "    if show:                      ## show = True\n",
        "        myPrintFunc(w)            ## print w, which is w = a + b\n",
        "    return w\n",
        "    \n",
        "a = myFunc2(a,b)                  ## a = a + b = 5 + 2 = 7\n",
        "a = myFunc2(a,b, show=False)      ## a = a + b = 7 + 2 = 9\n",
        "print(a)"
      ],
      "execution_count": 3,
      "outputs": [
        {
          "output_type": "stream",
          "text": [
            "var =  7\n",
            "9\n"
          ],
          "name": "stdout"
        }
      ]
    },
    {
      "cell_type": "markdown",
      "metadata": {
        "colab_type": "text",
        "id": "99l7ApjuIjmP"
      },
      "source": [
        "## Lists\n",
        "Python has a datatype of lists, which stores an ordered array of objects. Objects in the list may be accessed and altered by indexing. *Extra: dictionaries*."
      ]
    },
    {
      "cell_type": "code",
      "metadata": {
        "colab_type": "code",
        "id": "qCa2HCKoIjmQ",
        "colab": {
          "base_uri": "https://localhost:8080/",
          "height": 102
        },
        "outputId": "8f130061-435a-4bfa-bb25-d186702049f7"
      },
      "source": [
        "list_x = [2, -5, 6, False, 56] ## empty list = []\n",
        "\n",
        "print(list_x)                  ## print the whole list\n",
        "\n",
        "# indexing\n",
        "print(list_x[0])               ## print the first element, 2\n",
        "print(list_x[2])               ## print the third element, 6\n",
        "print(list_x[-1])              ## print the last element, 56\n",
        "\n",
        "# Alternatively, create an empty list and add new elements as needed\n",
        "list_y = []\n",
        "list_y.append(8)\n",
        "list_y.append(3)\n",
        "list_y.append('yay!')\n",
        "\n",
        "print(list_y)"
      ],
      "execution_count": 4,
      "outputs": [
        {
          "output_type": "stream",
          "text": [
            "[2, -5, 6, False, 56]\n",
            "2\n",
            "6\n",
            "56\n",
            "[8, 3, 'yay!']\n"
          ],
          "name": "stdout"
        }
      ]
    },
    {
      "cell_type": "markdown",
      "metadata": {
        "colab_type": "text",
        "id": "ivzeEkDVIjmT"
      },
      "source": [
        "## Loops\n",
        "While-loops execute the same lines of code until a condition is broken.\n",
        "For-loops iterate over an object while executing the same lines of code, until the iteration reaches its end.\n",
        "All for-loops may be equivalently written with while-loops."
      ]
    },
    {
      "cell_type": "code",
      "metadata": {
        "colab_type": "code",
        "id": "5mwPCL-oIjmT",
        "colab": {
          "base_uri": "https://localhost:8080/",
          "height": 493
        },
        "outputId": "f8281efb-172a-4396-bd42-854807a3e7c0"
      },
      "source": [
        "# while loop example\n",
        "# initialize the variable\n",
        "\n",
        "print(\"---- while loop 1 ----\")\n",
        "i = 0\n",
        "while i < 5:                     ## implement the inner code as long as the statement is True\n",
        "    print(i)\n",
        "    i = i + 1\n",
        "\n",
        "print(\"---- while loop 2 ----\")\n",
        "i=0\n",
        "while i < len(list_x):           ## len(), the number of elements in total\n",
        "    print(f\"list_x[{i}] = {list_x[i]}\")\n",
        "    i += 1      # equivalent to : i = i + 1\n",
        "    \n",
        "print(\"---- for loop 1 ----\")\n",
        "# equivalent for loop\n",
        "for i in range(len(list_x)):\n",
        "    print(f\"list_x[{i}] = {list_x[i]}\")\n",
        "\n",
        "print(\"---- for loop 2 ----\")\n",
        "# equivalent for loop\n",
        "for i, value in enumerate(list_x):\n",
        "    print(f\"list_x[{i}] = {value}\")\n",
        "    \n",
        "print(\"---- for loop 3 ----\")\n",
        "# breaking out of a for loop\n",
        "for i in range(len(list_x)):\n",
        "    if(list_x[i] == False):\n",
        "        break                          ## escape the for loop\n",
        "    print(f\"list_x[{i}] = {list_x[i]}\")"
      ],
      "execution_count": 5,
      "outputs": [
        {
          "output_type": "stream",
          "text": [
            "---- while loop 1 ----\n",
            "0\n",
            "1\n",
            "2\n",
            "3\n",
            "4\n",
            "---- while loop 2 ----\n",
            "list_x[0] = 2\n",
            "list_x[1] = -5\n",
            "list_x[2] = 6\n",
            "list_x[3] = False\n",
            "list_x[4] = 56\n",
            "---- for loop 1 ----\n",
            "list_x[0] = 2\n",
            "list_x[1] = -5\n",
            "list_x[2] = 6\n",
            "list_x[3] = False\n",
            "list_x[4] = 56\n",
            "---- for loop 2 ----\n",
            "list_x[0] = 2\n",
            "list_x[1] = -5\n",
            "list_x[2] = 6\n",
            "list_x[3] = False\n",
            "list_x[4] = 56\n",
            "---- for loop 3 ----\n",
            "list_x[0] = 2\n",
            "list_x[1] = -5\n",
            "list_x[2] = 6\n"
          ],
          "name": "stdout"
        }
      ]
    },
    {
      "cell_type": "code",
      "metadata": {
        "id": "_2bop4hAz6nZ",
        "colab_type": "code",
        "colab": {
          "base_uri": "https://localhost:8080/",
          "height": 119
        },
        "outputId": "dae856c1-defe-4b05-a3ec-59af54c8dff5"
      },
      "source": [
        "# If you don't care about the index\n",
        "print(\"---- for loop without indices ----\")\n",
        "# equivalent for loop\n",
        "for value in list_x:\n",
        "    print(f\"{value}\")"
      ],
      "execution_count": 6,
      "outputs": [
        {
          "output_type": "stream",
          "text": [
            "---- for loop without indices ----\n",
            "2\n",
            "-5\n",
            "6\n",
            "False\n",
            "56\n"
          ],
          "name": "stdout"
        }
      ]
    },
    {
      "cell_type": "markdown",
      "metadata": {
        "colab_type": "text",
        "id": "jaSj0e63IjmZ"
      },
      "source": [
        "## Strings\n",
        "Strings in python are treated as lists of characters. There are a bunch of built-in functions dealing with strings that you should look up. *Extra: ```find()```"
      ]
    },
    {
      "cell_type": "code",
      "metadata": {
        "colab_type": "code",
        "id": "OGpzTTF3IjmZ",
        "colab": {
          "base_uri": "https://localhost:8080/",
          "height": 51
        },
        "outputId": "95b321e5-aef0-46b3-ac94-03c13dba9c9a"
      },
      "source": [
        "this_string = \"hello everyone\"        ## consider it as a list\n",
        "\n",
        "print(this_string[4])                 ## The fifth element is o\n",
        "print(this_string[2:8])               ## Elemtns from the third to the nineth"
      ],
      "execution_count": 7,
      "outputs": [
        {
          "output_type": "stream",
          "text": [
            "o\n",
            "llo ev\n"
          ],
          "name": "stdout"
        }
      ]
    },
    {
      "cell_type": "markdown",
      "metadata": {
        "colab_type": "text",
        "id": "f_8Bl2vpIjmc"
      },
      "source": [
        "## Classes\n",
        "So far we've seen the data types of integers, floats (non-integer numbers), booleans, strings. Most modern programming languages allow us to basically define our own data types in the form of a **class**. \n",
        "\n",
        "We instiate a class by callling the name of the class, which automatically calls the initialization function. These class objects then have values and functions associated with them, that can be accessed by the \"dot\": ```my_object.my_value``` or ```my_object.my_function```. \n",
        "\n",
        "Though you may not need to make a class for this course, it makes life easier when we understand why we're writing code the way we are."
      ]
    },
    {
      "cell_type": "code",
      "metadata": {
        "colab_type": "code",
        "id": "5gKykQHkIjmc",
        "colab": {
          "base_uri": "https://localhost:8080/",
          "height": 255
        },
        "outputId": "88a63aeb-4b58-45e9-b307-36b0f3cf2afd"
      },
      "source": [
        "class Dog:                                   ## just a special data type, like def\n",
        "    # init function must be called __init__\n",
        "    def __init__(self, name, breed):   ## class always needs such __init__ function, \n",
        "        self.name = name                      ## always put self in each function, self means the class itself\n",
        "        self.breed = breed\n",
        "        self.tricks = []\n",
        "        \n",
        "    # all other functions can be called whatever you like\n",
        "    def show_info(self):\n",
        "        print(f\"My name is {self.name} and I am a {self.breed}.\")\n",
        "        if len(self.tricks) > 0:\n",
        "            print(f\"Currently, I know how to {self.tricks}.\")\n",
        "        else:\n",
        "            print(f\"Currently, I don't know any tricks.\")\n",
        "\n",
        "    def learn_tricks(self, trick):\n",
        "        self.tricks.append(trick)\n",
        "        print(f\"I can {trick} now!\")\n",
        "    \n",
        "        \n",
        "my_dog = Dog(\"Lucky\", \"Husky\")              ## when call the class, it implements __init__ function\n",
        "\n",
        "print(my_dog.name)\n",
        "print(my_dog.breed)\n",
        "\n",
        "print(\"--------------------\")\n",
        "\n",
        "my_dog.show_info()\n",
        "\n",
        "print(\"--------------------\")\n",
        "\n",
        "my_dog.learn_tricks('sit')\n",
        "my_dog.learn_tricks('roll over')\n",
        "\n",
        "print(\"--------------------\")\n",
        "\n",
        "my_dog.show_info()\n",
        "\n",
        "print(\"--------------------\")\n",
        "\n",
        "another_dog = Dog(\"Bella\", \"Chihuahua\")\n",
        "another_dog.show_info()"
      ],
      "execution_count": 8,
      "outputs": [
        {
          "output_type": "stream",
          "text": [
            "Lucky\n",
            "Husky\n",
            "--------------------\n",
            "My name is Lucky and I am a Husky.\n",
            "Currently, I don't know any tricks.\n",
            "--------------------\n",
            "I can sit now!\n",
            "I can roll over now!\n",
            "--------------------\n",
            "My name is Lucky and I am a Husky.\n",
            "Currently, I know how to ['sit', 'roll over'].\n",
            "--------------------\n",
            "My name is Bella and I am a Chihuahua.\n",
            "Currently, I don't know any tricks.\n"
          ],
          "name": "stdout"
        }
      ]
    },
    {
      "cell_type": "markdown",
      "metadata": {
        "colab_type": "text",
        "id": "vf-c0S3RMTmQ"
      },
      "source": [
        "# Lab \n",
        "\n",
        "\n",
        "### Exercise 1\n",
        "Write a function to find the second largest number in a list (Hint: use sort())\n",
        "\n"
      ]
    },
    {
      "cell_type": "code",
      "metadata": {
        "id": "ZaRTz2pryg5C",
        "colab_type": "code",
        "colab": {}
      },
      "source": [
        "def second_largest(l):\n",
        "  unique_count = len(set(l))\n",
        "\n",
        "  if (unique_count < 2):\n",
        "    return None\n",
        "  \n",
        "  l.sort()\n",
        "  return l[-2]"
      ],
      "execution_count": 9,
      "outputs": []
    },
    {
      "cell_type": "markdown",
      "metadata": {
        "colab_type": "text",
        "id": "Jv7IWGtnCFcC"
      },
      "source": [
        "Your ouput should look as follows:"
      ]
    },
    {
      "cell_type": "code",
      "metadata": {
        "colab_type": "code",
        "id": "VYXhbfoVSUUp",
        "colab": {
          "base_uri": "https://localhost:8080/",
          "height": 85
        },
        "outputId": "39bcaba8-eef0-44ad-c1ad-f64d4fb84301"
      },
      "source": [
        "print(second_largest([23, 52, 11, 52, 9, 26, 2, 1, 67]))\n",
        "print(second_largest([12, 45, 2, 41, 31, 10, 8, 6, 4]))\n",
        "print(second_largest([23,23]))\n",
        "print(second_largest([24]))"
      ],
      "execution_count": 10,
      "outputs": [
        {
          "output_type": "stream",
          "text": [
            "52\n",
            "41\n",
            "None\n",
            "None\n"
          ],
          "name": "stdout"
        }
      ]
    },
    {
      "cell_type": "markdown",
      "metadata": {
        "id": "SIZNn0sbyg5G",
        "colab_type": "text"
      },
      "source": [
        "### Exercise 2\n",
        "Write a function to find the factors of a positive number.\n",
        "\n",
        "Hint: Check if the number is positive or negative\n",
        "\n",
        "Hint: Use modulo operator '**%**' to compute the remainder"
      ]
    },
    {
      "cell_type": "code",
      "metadata": {
        "id": "UpARRT5_yg5H",
        "colab_type": "code",
        "colab": {}
      },
      "source": [
        "def get_factor(n):\n",
        "    if n == 0:\n",
        "        print(\"All numbers are factors of 0\")\n",
        "    elif n < 0:\n",
        "        print(\"Error: Number is negative\")\n",
        "    else:\n",
        "        for i in range(1, n + 1):\n",
        "            if n % i == 0:\n",
        "                print(f\"{i} is a factor of {n}\")"
      ],
      "execution_count": 33,
      "outputs": []
    },
    {
      "cell_type": "markdown",
      "metadata": {
        "id": "MxVTClWKyg5J",
        "colab_type": "text"
      },
      "source": [
        "Your ouput should look as follows:"
      ]
    },
    {
      "cell_type": "code",
      "metadata": {
        "id": "CjVGrpBVyg5K",
        "colab_type": "code",
        "colab": {
          "base_uri": "https://localhost:8080/",
          "height": 187
        },
        "outputId": "4d602c77-cd5e-4303-ca00-fe1752971e3b"
      },
      "source": [
        "get_factor(0)\n",
        "get_factor(-12)\n",
        "get_factor(21)        \n",
        "get_factor(8)"
      ],
      "execution_count": 34,
      "outputs": [
        {
          "output_type": "stream",
          "text": [
            "All numbers are factors of 0\n",
            "Error: Number is negative\n",
            "1 is a factor of 21\n",
            "3 is a factor of 21\n",
            "7 is a factor of 21\n",
            "21 is a factor of 21\n",
            "1 is a factor of 8\n",
            "2 is a factor of 8\n",
            "4 is a factor of 8\n",
            "8 is a factor of 8\n"
          ],
          "name": "stdout"
        }
      ]
    },
    {
      "cell_type": "markdown",
      "metadata": {
        "colab_type": "text",
        "id": "jq1Y6E2ISm_t"
      },
      "source": [
        "### Exercise 3\n",
        "\n",
        "- Define a class *Student*\n",
        "- Use the *\\_\\_init__()* function to assign the values of two attributes of the class: *name* and *grade*\n",
        "- Define a function *study()* with an argument *time* in minutes. When calling this function, it should be printed \"*{the student's name} has studied for {time} minutes*\""
      ]
    },
    {
      "cell_type": "code",
      "metadata": {
        "id": "Bpi2-IDMyg5M",
        "colab_type": "code",
        "colab": {
          "base_uri": "https://localhost:8080/",
          "height": 34
        },
        "outputId": "de57c4d4-7416-4ecc-cd54-c3a80eb0fbd3"
      },
      "source": [
        "class Student:\n",
        "    def __init__(self, name, grade):\n",
        "        self.name = name\n",
        "        self.grade = grade\n",
        "    def study(self, time):\n",
        "        print(f\"{self.name} has studied for {time} minutes\")\n",
        "\n",
        "student = Student(\"John\", \"10\")\n",
        "student.study(20)"
      ],
      "execution_count": 36,
      "outputs": [
        {
          "output_type": "stream",
          "text": [
            "John has studied for 20 minutes\n"
          ],
          "name": "stdout"
        }
      ]
    }
  ]
}