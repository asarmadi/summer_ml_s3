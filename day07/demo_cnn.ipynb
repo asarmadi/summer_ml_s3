{
 "cells": [
  {
   "cell_type": "code",
   "execution_count": 32,
   "metadata": {},
   "outputs": [],
   "source": [
    "import tensorflow as tf\n",
    "from tensorflow.keras.models import Sequential\n",
    "from tensorflow.keras.layers import Dense, Conv2D, Flatten, MaxPooling2D\n",
    "import numpy as np"
   ]
  },
  {
   "cell_type": "markdown",
   "metadata": {},
   "source": [
    "$\\displaystyle n_o = \\Big\\lfloor\\frac{n_i+2p-f}{s} + 1\\Big\\rfloor$"
   ]
  },
  {
   "cell_type": "code",
   "execution_count": 38,
   "metadata": {},
   "outputs": [],
   "source": [
    "def get_next_dimension(n, f, p, s):\n",
    "    return int(np.floor((n + 2*p - f)/s + 1))"
   ]
  },
  {
   "cell_type": "code",
   "execution_count": 82,
   "metadata": {},
   "outputs": [],
   "source": [
    "model = Sequential([\n",
    "    Conv2D(10, (5, 5), activation='relu', padding='same', input_shape=(39, 39, 3)),\n",
    "    Conv2D(10, (5, 5), activation='relu', padding='same'),\n",
    "    Conv2D(10, (5, 5), activation='relu', padding='same'),\n",
    "    Conv2D(10, (5, 5), activation='relu', padding='same'),\n",
    "    Conv2D(10, (5, 5), activation='relu', padding='same'),\n",
    "    Conv2D(10, (5, 5), activation='relu', padding='same'),\n",
    "    Conv2D(10, (5, 5), activation='relu', padding='same'),\n",
    "    Conv2D(10, (5, 5), activation='relu', padding='same'),\n",
    "    \n",
    "])"
   ]
  },
  {
   "cell_type": "code",
   "execution_count": 83,
   "metadata": {},
   "outputs": [
    {
     "name": "stdout",
     "output_type": "stream",
     "text": [
      "Model: \"sequential_18\"\n",
      "_________________________________________________________________\n",
      "Layer (type)                 Output Shape              Param #   \n",
      "=================================================================\n",
      "conv2d_58 (Conv2D)           (None, 39, 39, 10)        760       \n",
      "_________________________________________________________________\n",
      "conv2d_59 (Conv2D)           (None, 39, 39, 10)        2510      \n",
      "_________________________________________________________________\n",
      "conv2d_60 (Conv2D)           (None, 39, 39, 10)        2510      \n",
      "_________________________________________________________________\n",
      "conv2d_61 (Conv2D)           (None, 39, 39, 10)        2510      \n",
      "_________________________________________________________________\n",
      "conv2d_62 (Conv2D)           (None, 39, 39, 10)        2510      \n",
      "_________________________________________________________________\n",
      "conv2d_63 (Conv2D)           (None, 39, 39, 10)        2510      \n",
      "_________________________________________________________________\n",
      "conv2d_64 (Conv2D)           (None, 39, 39, 10)        2510      \n",
      "_________________________________________________________________\n",
      "conv2d_65 (Conv2D)           (None, 39, 39, 10)        2510      \n",
      "=================================================================\n",
      "Total params: 18,330\n",
      "Trainable params: 18,330\n",
      "Non-trainable params: 0\n",
      "_________________________________________________________________\n"
     ]
    }
   ],
   "source": [
    "model.summary()"
   ]
  },
  {
   "cell_type": "code",
   "execution_count": 75,
   "metadata": {},
   "outputs": [
    {
     "name": "stdout",
     "output_type": "stream",
     "text": [
      "37\n",
      "17\n",
      "7\n",
      "3\n"
     ]
    }
   ],
   "source": [
    "print(get_next_dimension(39, 3, 0, 1))\n",
    "print(get_next_dimension(37, 5, 0, 2))\n",
    "print(get_next_dimension(17, 5, 0, 2))\n",
    "print(get_next_dimension(7, 2, 0, 2))"
   ]
  },
  {
   "cell_type": "code",
   "execution_count": 56,
   "metadata": {},
   "outputs": [],
   "source": [
    "simple_model = Sequential([\n",
    "    Conv2D(1, (3, 3), activation='relu', input_shape=(6, 6, 1)),\n",
    "])"
   ]
  },
  {
   "cell_type": "code",
   "execution_count": 57,
   "metadata": {},
   "outputs": [
    {
     "name": "stdout",
     "output_type": "stream",
     "text": [
      "Model: \"sequential_13\"\n",
      "_________________________________________________________________\n",
      "Layer (type)                 Output Shape              Param #   \n",
      "=================================================================\n",
      "conv2d_29 (Conv2D)           (None, 4, 4, 1)           10        \n",
      "=================================================================\n",
      "Total params: 10\n",
      "Trainable params: 10\n",
      "Non-trainable params: 0\n",
      "_________________________________________________________________\n"
     ]
    }
   ],
   "source": [
    "simple_model.summary()"
   ]
  },
  {
   "cell_type": "code",
   "execution_count": 60,
   "metadata": {},
   "outputs": [
    {
     "data": {
      "text/plain": [
       "(3, 3, 1, 1)"
      ]
     },
     "execution_count": 60,
     "metadata": {},
     "output_type": "execute_result"
    }
   ],
   "source": [
    "simple_model.layers[0].get_weights()[0].shape"
   ]
  },
  {
   "cell_type": "code",
   "execution_count": 64,
   "metadata": {},
   "outputs": [
    {
     "data": {
      "text/plain": [
       "(3, 3, 1, 1)"
      ]
     },
     "execution_count": 64,
     "metadata": {},
     "output_type": "execute_result"
    }
   ],
   "source": [
    "vertical = np.array([[1, 0, -1], [1, 0, -1], [1, 0, -1]])\n",
    "vertical = np.expand_dims(vertical, axis=2)\n",
    "vertical = np.expand_dims(vertical, axis=3)"
   ]
  },
  {
   "cell_type": "code",
   "execution_count": 65,
   "metadata": {},
   "outputs": [],
   "source": [
    "simple_model.layers[0].set_weights([vertical, simple_model.layers[0].get_weights()[1]])"
   ]
  },
  {
   "cell_type": "code",
   "execution_count": 73,
   "metadata": {},
   "outputs": [
    {
     "data": {
      "text/plain": [
       "array([[[[0.],\n",
       "         [0.],\n",
       "         [0.],\n",
       "         [8.]],\n",
       "\n",
       "        [[0.],\n",
       "         [0.],\n",
       "         [2.],\n",
       "         [3.]],\n",
       "\n",
       "        [[0.],\n",
       "         [0.],\n",
       "         [0.],\n",
       "         [0.]],\n",
       "\n",
       "        [[0.],\n",
       "         [0.],\n",
       "         [0.],\n",
       "         [0.]]]], dtype=float32)"
      ]
     },
     "execution_count": 73,
     "metadata": {},
     "output_type": "execute_result"
    }
   ],
   "source": [
    "img = np.array([[3, 0, 1, 2, 7, 4],\n",
    "                [1, 5, 8, 9, 3, 1],\n",
    "                [2, 7, 2, 5, 1, 3],\n",
    "                [0, 1, 3, 1, 7, 8],\n",
    "                [4, 2, 1, 6, 2, 8],\n",
    "                [2, 4, 5, 2, 3, 9]])\n",
    "img = np.expand_dims(img, axis=2)\n",
    "img = np.expand_dims(img, axis=0)\n",
    "simple_model.predict(img)"
   ]
  },
  {
   "cell_type": "code",
   "execution_count": 71,
   "metadata": {},
   "outputs": [
    {
     "data": {
      "text/plain": [
       "(1, 6, 6, 1)"
      ]
     },
     "execution_count": 71,
     "metadata": {},
     "output_type": "execute_result"
    }
   ],
   "source": [
    "img.shape"
   ]
  },
  {
   "cell_type": "code",
   "execution_count": null,
   "metadata": {},
   "outputs": [],
   "source": []
  }
 ],
 "metadata": {
  "kernelspec": {
   "display_name": "Python 3.7.0 64-bit",
   "language": "python",
   "name": "python37064bitb57ad9dcab5a49b79249ff859c8b8966"
  },
  "language_info": {
   "codemirror_mode": {
    "name": "ipython",
    "version": 3
   },
   "file_extension": ".py",
   "mimetype": "text/x-python",
   "name": "python",
   "nbconvert_exporter": "python",
   "pygments_lexer": "ipython3",
   "version": "3.7.0"
  }
 },
 "nbformat": 4,
 "nbformat_minor": 2
}
