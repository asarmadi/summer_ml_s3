{
  "nbformat": 4,
  "nbformat_minor": 0,
  "metadata": {
    "colab": {
      "name": "Demo_Iris.ipynb",
      "provenance": []
    },
    "kernelspec": {
      "display_name": "Python 3",
      "language": "python",
      "name": "python3"
    },
    "language_info": {
      "codemirror_mode": {
        "name": "ipython",
        "version": 3
      },
      "file_extension": ".py",
      "mimetype": "text/x-python",
      "name": "python",
      "nbconvert_exporter": "python",
      "pygments_lexer": "ipython3",
      "version": "3.7.4"
    }
  },
  "cells": [
    {
      "cell_type": "markdown",
      "metadata": {
        "colab_type": "text",
        "id": "4uVCl93VST30"
      },
      "source": [
        "# Demo: Multi-Class Classification\n",
        "We're using the IRIS dataset, a classic machine learning dataset that illustrates both linearly separable and non-linearly separable classes.\n",
        "\n",
        "3 different types of irises’ (Setosa, Versicolour, and Virginica). There are 4 features in the dataset: sepal length, sepal width, petal length, petal width.\n",
        "\n",
        "This dataset is so famous it even has a [Wikepdia page](https://en.wikipedia.org/wiki/Iris_flower_data_set).\n",
        "\n",
        "<img src=\"https://upload.wikimedia.org/wikipedia/commons/thumb/5/56/Kosaciec_szczecinkowaty_Iris_setosa.jpg/440px-Kosaciec_szczecinkowaty_Iris_setosa.jpg\" width=200 />\n",
        "<img src=\"https://upload.wikimedia.org/wikipedia/commons/thumb/4/41/Iris_versicolor_3.jpg/440px-Iris_versicolor_3.jpg\" width=200 />\n",
        "<img src=\"https://upload.wikimedia.org/wikipedia/commons/thumb/9/9f/Iris_virginica.jpg/440px-Iris_virginica.jpg\" width=200 />"
      ]
    },
    {
      "cell_type": "code",
      "metadata": {
        "colab_type": "code",
        "id": "IR_9ZqC55P1V",
        "colab": {
          "base_uri": "https://localhost:8080/",
          "height": 34
        },
        "outputId": "1441b3aa-7ba4-4a6c-85ac-67d97bcab8cd"
      },
      "source": [
        "import numpy as np\n",
        "import matplotlib\n",
        "import matplotlib.pyplot as plt\n",
        "%matplotlib inline\n",
        "from sklearn import datasets\n",
        "\n",
        "\n",
        "# Loading the dataset\n",
        "iris = datasets.load_iris()\n",
        "X = iris.data[:,:2] # using only first two features\n",
        "y = iris.target\n",
        "\n",
        "(num_samples, num_features) = X.shape\n",
        "print(\"num_samples, num_features\", X.shape)"
      ],
      "execution_count": 31,
      "outputs": [
        {
          "output_type": "stream",
          "text": [
            "num_samples, num_features (150, 2)\n"
          ],
          "name": "stdout"
        }
      ]
    },
    {
      "cell_type": "code",
      "metadata": {
        "colab_type": "code",
        "id": "CdIEoJaIO6lB",
        "colab": {
          "base_uri": "https://localhost:8080/",
          "height": 282
        },
        "outputId": "bd0dbabe-5be5-4776-bf4c-3e368156f961"
      },
      "source": [
        "# y==0 picks the indicies corresponding to y equal zero\n",
        "plt.rcParams['figure.figsize'] = [6, 4]\n",
        "plt.plot(X[y==0,0], X[y==0,1], 'o', markerfacecolor=(1,0,0,1), markeredgecolor='black')\n",
        "plt.plot(X[y==1,0], X[y==1,1], 'o', markerfacecolor=(0,1,0,1), markeredgecolor='black')\n",
        "plt.plot(X[y==2,0], X[y==2,1], 'o', markerfacecolor=(0,0,1,1), markeredgecolor='black');\n",
        "\n",
        "plt.xlabel('Sepal Length')\n",
        "plt.ylabel('Sepal Width');"
      ],
      "execution_count": 32,
      "outputs": [
        {
          "output_type": "display_data",
          "data": {
            "image/png": "[encoded data removed]",
            "text/plain": [
              "<Figure size 432x288 with 1 Axes>"
            ]
          },
          "metadata": {
            "tags": [],
            "needs_background": "light"
          }
        }
      ]
    },
    {
      "cell_type": "code",
      "metadata": {
        "colab_type": "code",
        "id": "2GFH7vIV-rZQ",
        "colab": {
          "base_uri": "https://localhost:8080/",
          "height": 279
        },
        "outputId": "b97b27c9-7cc1-435d-c659-1efce45d1a37"
      },
      "source": [
        "from sklearn import preprocessing\n",
        "\n",
        "# normalizing the data\n",
        "Xs = preprocessing.scale(X)\n",
        "\n",
        "# Plot it again and compare it with the data before normalization\n",
        "plt.rcParams['figure.figsize'] = [6, 4]\n",
        "plt.plot(Xs[y==0,0], Xs[y==0,1], 'o', markerfacecolor=(1,0,0,1), markeredgecolor='black')\n",
        "plt.plot(Xs[y==1,0], Xs[y==1,1], 'o', markerfacecolor=(0,1,0,1), markeredgecolor='black')\n",
        "plt.plot(Xs[y==2,0], Xs[y==2,1], 'o', markerfacecolor=(0,0,1,1), markeredgecolor='black');\n",
        "\n",
        "plt.xlabel('Sepal Length')\n",
        "plt.ylabel('Sepal Width');"
      ],
      "execution_count": 33,
      "outputs": [
        {
          "output_type": "display_data",
          "data": {
            "image/png": "[encoded data removed]",
            "text/plain": [
              "<Figure size 432x288 with 1 Axes>"
            ]
          },
          "metadata": {
            "tags": [],
            "needs_background": "light"
          }
        }
      ]
    },
    {
      "cell_type": "markdown",
      "metadata": {
        "id": "eywtq2UFO6lJ",
        "colab_type": "text"
      },
      "source": [
        "#### Split data into train and test dataset\n",
        "Import model_selection from sklearn.\n",
        "\n",
        "Use the `sklearn.model_selection` module to split your data."
      ]
    },
    {
      "cell_type": "code",
      "metadata": {
        "id": "DR1LkgWoO6lJ",
        "colab_type": "code",
        "colab": {}
      },
      "source": [
        "from sklearn.model_selection import train_test_split\n",
        "X_train, X_test, y_train, y_test = train_test_split(Xs, y, test_size=0.33, random_state=42)"
      ],
      "execution_count": 34,
      "outputs": []
    },
    {
      "cell_type": "markdown",
      "metadata": {
        "id": "Ab_d4c1OO6lM",
        "colab_type": "text"
      },
      "source": [
        "#### Fit a Logistic Model\n",
        "\n",
        "Import linear_model from sklearn.\n",
        "\n",
        "Use the `sklearn.linear_model` module to create a `LogisticRegression`.\n",
        "\n",
        "Fit the model with training dataset."
      ]
    },
    {
      "cell_type": "code",
      "metadata": {
        "colab_type": "code",
        "id": "KPyx4X9RO6lN",
        "colab": {}
      },
      "source": [
        "from sklearn.linear_model import LogisticRegression\n",
        "logreg = LogisticRegression().fit(X_train, y_train)\n",
        "yhat = logreg.predict(X_test)"
      ],
      "execution_count": 35,
      "outputs": []
    },
    {
      "cell_type": "code",
      "metadata": {
        "id": "EPYGqn3dWvMz",
        "colab_type": "code",
        "colab": {
          "base_uri": "https://localhost:8080/",
          "height": 51
        },
        "outputId": "c83a66c9-2daf-4d09-a623-03af2ed949b3"
      },
      "source": [
        "yhat_test = logreg.predict(X_test)\n",
        "yhat_train = logreg.predict(X_train)\n",
        "\n",
        "acc_test = np.sum((yhat_test - y_test == 0))/y_test.shape[0]\n",
        "acc_train = np.sum((yhat_train - y_train == 0))/y_train.shape[0]\n",
        "\n",
        "print (\"Training acc.\", acc_train)\n",
        "print (\"Test acc.\", acc_test)"
      ],
      "execution_count": 36,
      "outputs": [
        {
          "output_type": "stream",
          "text": [
            "Training acc. 0.79\n",
            "Test acc. 0.82\n"
          ],
          "name": "stdout"
        }
      ]
    },
    {
      "cell_type": "markdown",
      "metadata": {
        "id": "kRwXsa2HO6lP",
        "colab_type": "text"
      },
      "source": [
        "Find the training and test accuracy of the model."
      ]
    },
    {
      "cell_type": "markdown",
      "metadata": {
        "colab_type": "text",
        "id": "nLm2MOnLF-Jy"
      },
      "source": [
        "## Decision Boundary\n",
        "[Code for plotting decission boundary](https://scikit-learn.org/stable/auto_examples/linear_model/plot_iris_logistic.html)"
      ]
    },
    {
      "cell_type": "code",
      "metadata": {
        "colab_type": "code",
        "id": "XWWudeTcE0jg",
        "colab": {
          "base_uri": "https://localhost:8080/",
          "height": 262
        },
        "outputId": "8ca5992f-a2e7-4aed-8b5d-f78c7327d3ff"
      },
      "source": [
        "### CODE FROM SKLEARN IRIS DEMO ###\n",
        "\n",
        "# Plot the decision boundary. For that, we will assign a color to each\n",
        "# point in the mesh [x_min, x_max]x[y_min, y_max].\n",
        "x_min, x_max = Xs[:, 0].min() - .5, Xs[:, 0].max() + .5\n",
        "y_min, y_max = Xs[:, 1].min() - .5, Xs[:, 1].max() + .5\n",
        "h = .02  # step size in the mesh\n",
        "xx, yy = np.meshgrid(np.arange(x_min, x_max, h), np.arange(y_min, y_max, h))\n",
        "\n",
        "# xx has shape (327, 269)\n",
        "# xx.ravel() has shape (87963, )\n",
        "# np.c_[xx.ravel(), yy.ravel()] has shape (87963, 2)\n",
        "Z = logreg.predict(np.c_[xx.ravel(), yy.ravel()])\n",
        "\n",
        "# Put the result into a color plot\n",
        "Z = Z.reshape(xx.shape)\n",
        "plt.figure(1, figsize=(6, 4))\n",
        "plt.pcolormesh(xx, yy, Z, cmap=plt.cm.Paired)\n",
        "\n",
        "# Plot also the training points\n",
        "plt.scatter(Xs[:, 0], Xs[:, 1], c=y, edgecolors='k', cmap=plt.cm.Paired)\n",
        "plt.xlabel('Sepal length')\n",
        "plt.ylabel('Sepal width')\n",
        "\n",
        "# Limit the region of plotting\n",
        "plt.xlim(xx.min(), xx.max())\n",
        "plt.ylim(yy.min(), yy.max())\n",
        "plt.xticks(())\n",
        "plt.yticks(())\n",
        "\n",
        "plt.show()"
      ],
      "execution_count": 37,
      "outputs": [
        {
          "output_type": "display_data",
          "data": {
            "image/png": "[encoded data removed]",
            "text/plain": [
              "<Figure size 432x288 with 1 Axes>"
            ]
          },
          "metadata": {
            "tags": []
          }
        }
      ]
    },
    {
      "cell_type": "markdown",
      "metadata": {
        "colab_type": "text",
        "id": "mV1dpgGWTsO0"
      },
      "source": [
        "## Understanding The Classifications"
      ]
    },
    {
      "cell_type": "markdown",
      "metadata": {
        "colab_type": "text",
        "id": "vhi7dcW4VBqb"
      },
      "source": [
        "### Class confidence outputs\n",
        "In our print statement, the first column is our decision, cols 2-4 are our class proability outputs."
      ]
    },
    {
      "cell_type": "code",
      "metadata": {
        "colab_type": "code",
        "id": "7qoTc-cAVDf-",
        "colab": {
          "base_uri": "https://localhost:8080/",
          "height": 884
        },
        "outputId": "95d4b462-ee19-49b0-c03c-3be5ee4ec229"
      },
      "source": [
        "# showing the probabilities\n",
        "yhat_probs = logreg.predict_proba(X_test)\n",
        "\n",
        "np.set_printoptions(precision=2, suppress=True)\n",
        "\n",
        "print(yhat.shape, yhat_probs.shape)\n",
        "# [class, prob_of_class_1, prob_of_class_2, prob_of_class_3]\n",
        "print(np.hstack([yhat.reshape(-1,1), yhat_probs]))"
      ],
      "execution_count": 38,
      "outputs": [
        {
          "output_type": "stream",
          "text": [
            "(50,) (50, 3)\n",
            "[[1.   0.01 0.54 0.45]\n",
            " [0.   0.86 0.05 0.09]\n",
            " [2.   0.   0.16 0.84]\n",
            " [1.   0.03 0.53 0.44]\n",
            " [2.   0.   0.32 0.68]\n",
            " [0.   0.78 0.13 0.09]\n",
            " [1.   0.13 0.59 0.28]\n",
            " [2.   0.   0.22 0.78]\n",
            " [1.   0.   0.7  0.3 ]\n",
            " [1.   0.02 0.66 0.32]\n",
            " [2.   0.01 0.29 0.69]\n",
            " [0.   0.84 0.14 0.03]\n",
            " [0.   0.78 0.11 0.1 ]\n",
            " [0.   0.85 0.12 0.03]\n",
            " [0.   0.99 0.01 0.01]\n",
            " [2.   0.05 0.31 0.64]\n",
            " [2.   0.01 0.35 0.64]\n",
            " [1.   0.02 0.76 0.22]\n",
            " [1.   0.06 0.64 0.31]\n",
            " [2.   0.   0.45 0.55]\n",
            " [0.   0.95 0.04 0.01]\n",
            " [2.   0.03 0.47 0.5 ]\n",
            " [0.   0.94 0.04 0.02]\n",
            " [2.   0.   0.45 0.55]\n",
            " [2.   0.   0.03 0.97]\n",
            " [2.   0.   0.3  0.7 ]\n",
            " [2.   0.   0.45 0.55]\n",
            " [2.   0.   0.22 0.78]\n",
            " [0.   0.84 0.14 0.03]\n",
            " [0.   0.89 0.09 0.02]\n",
            " [0.   1.   0.   0.  ]\n",
            " [0.   0.99 0.   0.01]\n",
            " [2.   0.   0.27 0.73]\n",
            " [0.   0.97 0.02 0.01]\n",
            " [0.   0.98 0.01 0.  ]\n",
            " [1.   0.   0.58 0.42]\n",
            " [2.   0.02 0.32 0.66]\n",
            " [0.   0.93 0.05 0.03]\n",
            " [0.   0.98 0.01 0.01]\n",
            " [0.   0.99 0.   0.  ]\n",
            " [1.   0.02 0.66 0.32]\n",
            " [2.   0.22 0.3  0.48]\n",
            " [2.   0.   0.27 0.73]\n",
            " [0.   0.97 0.01 0.02]\n",
            " [0.   0.93 0.03 0.03]\n",
            " [1.   0.02 0.81 0.18]\n",
            " [2.   0.01 0.48 0.51]\n",
            " [2.   0.01 0.35 0.64]\n",
            " [2.   0.   0.32 0.67]\n",
            " [2.   0.   0.09 0.91]]\n"
          ],
          "name": "stdout"
        }
      ]
    },
    {
      "cell_type": "markdown",
      "metadata": {
        "colab_type": "text",
        "id": "FQXV2ASfKacq"
      },
      "source": [
        "## Attempt at polynomial feature engineering"
      ]
    },
    {
      "cell_type": "code",
      "metadata": {
        "colab_type": "code",
        "id": "Gqn744KiG3JZ",
        "colab": {
          "base_uri": "https://localhost:8080/",
          "height": 68
        },
        "outputId": "0aafb3b7-dff6-436e-d395-cf78ed3ceb2b"
      },
      "source": [
        "from sklearn.preprocessing import PolynomialFeatures\n",
        "\n",
        "poly = PolynomialFeatures(3)\n",
        "Xpoly = poly.fit_transform(X)\n",
        "\n",
        "print(Xpoly.shape)\n",
        "\n",
        "X_train, X_test, y_train, y_test = train_test_split(Xpoly, y, test_size=0.33, random_state=42)\n",
        "\n",
        "logreg = LogisticRegression(C=1e8, solver='lbfgs', multi_class='multinomial', max_iter=5000)\n",
        "logreg.fit(X_train, y_train)\n",
        "\n",
        "print(logreg.score(X_train, y_train))\n",
        "\n",
        "yhat = logreg.predict(X_test)\n",
        "acc = np.mean(yhat == y_test)\n",
        "print(\"Accuracy on test data = %f\" % acc)"
      ],
      "execution_count": 39,
      "outputs": [
        {
          "output_type": "stream",
          "text": [
            "(150, 10)\n",
            "0.81\n",
            "Accuracy on test data = 0.760000\n"
          ],
          "name": "stdout"
        }
      ]
    },
    {
      "cell_type": "markdown",
      "metadata": {
        "colab_type": "text",
        "id": "RLLutPz7KsRI"
      },
      "source": [
        "## Onehot encoding function\n",
        "This function is not! necessary for this demo. Only being kept on this notebook for future purposes.\n",
        "\n",
        "Using the onehot functions in SKlearn and other libraries is **very annoying**.\n",
        "We can make our own function that is much easier to understand."
      ]
    },
    {
      "cell_type": "code",
      "metadata": {
        "colab_type": "code",
        "id": "-E1xbWVNKuwN",
        "colab": {
          "base_uri": "https://localhost:8080/",
          "height": 1000
        },
        "outputId": "067929c7-88f4-464a-bd1f-b4bfe390aaf3"
      },
      "source": [
        "def onehot_enc(y,num_classes):\n",
        "    (N,K) = (y.shape[0], num_classes)\n",
        "    I = np.eye(K)\n",
        "    y_onehot = np.zeros((N,K))\n",
        "    for i in range(N):\n",
        "        y_onehot[i,:] = I[y[i],:]\n",
        "    return y_onehot\n",
        "\n",
        "y_onehot = onehot_enc(y, 3)\n",
        "\n",
        "print(y_onehot)"
      ],
      "execution_count": 40,
      "outputs": [
        {
          "output_type": "stream",
          "text": [
            "[[1. 0. 0.]\n",
            " [1. 0. 0.]\n",
            " [1. 0. 0.]\n",
            " [1. 0. 0.]\n",
            " [1. 0. 0.]\n",
            " [1. 0. 0.]\n",
            " [1. 0. 0.]\n",
            " [1. 0. 0.]\n",
            " [1. 0. 0.]\n",
            " [1. 0. 0.]\n",
            " [1. 0. 0.]\n",
            " [1. 0. 0.]\n",
            " [1. 0. 0.]\n",
            " [1. 0. 0.]\n",
            " [1. 0. 0.]\n",
            " [1. 0. 0.]\n",
            " [1. 0. 0.]\n",
            " [1. 0. 0.]\n",
            " [1. 0. 0.]\n",
            " [1. 0. 0.]\n",
            " [1. 0. 0.]\n",
            " [1. 0. 0.]\n",
            " [1. 0. 0.]\n",
            " [1. 0. 0.]\n",
            " [1. 0. 0.]\n",
            " [1. 0. 0.]\n",
            " [1. 0. 0.]\n",
            " [1. 0. 0.]\n",
            " [1. 0. 0.]\n",
            " [1. 0. 0.]\n",
            " [1. 0. 0.]\n",
            " [1. 0. 0.]\n",
            " [1. 0. 0.]\n",
            " [1. 0. 0.]\n",
            " [1. 0. 0.]\n",
            " [1. 0. 0.]\n",
            " [1. 0. 0.]\n",
            " [1. 0. 0.]\n",
            " [1. 0. 0.]\n",
            " [1. 0. 0.]\n",
            " [1. 0. 0.]\n",
            " [1. 0. 0.]\n",
            " [1. 0. 0.]\n",
            " [1. 0. 0.]\n",
            " [1. 0. 0.]\n",
            " [1. 0. 0.]\n",
            " [1. 0. 0.]\n",
            " [1. 0. 0.]\n",
            " [1. 0. 0.]\n",
            " [1. 0. 0.]\n",
            " [0. 1. 0.]\n",
            " [0. 1. 0.]\n",
            " [0. 1. 0.]\n",
            " [0. 1. 0.]\n",
            " [0. 1. 0.]\n",
            " [0. 1. 0.]\n",
            " [0. 1. 0.]\n",
            " [0. 1. 0.]\n",
            " [0. 1. 0.]\n",
            " [0. 1. 0.]\n",
            " [0. 1. 0.]\n",
            " [0. 1. 0.]\n",
            " [0. 1. 0.]\n",
            " [0. 1. 0.]\n",
            " [0. 1. 0.]\n",
            " [0. 1. 0.]\n",
            " [0. 1. 0.]\n",
            " [0. 1. 0.]\n",
            " [0. 1. 0.]\n",
            " [0. 1. 0.]\n",
            " [0. 1. 0.]\n",
            " [0. 1. 0.]\n",
            " [0. 1. 0.]\n",
            " [0. 1. 0.]\n",
            " [0. 1. 0.]\n",
            " [0. 1. 0.]\n",
            " [0. 1. 0.]\n",
            " [0. 1. 0.]\n",
            " [0. 1. 0.]\n",
            " [0. 1. 0.]\n",
            " [0. 1. 0.]\n",
            " [0. 1. 0.]\n",
            " [0. 1. 0.]\n",
            " [0. 1. 0.]\n",
            " [0. 1. 0.]\n",
            " [0. 1. 0.]\n",
            " [0. 1. 0.]\n",
            " [0. 1. 0.]\n",
            " [0. 1. 0.]\n",
            " [0. 1. 0.]\n",
            " [0. 1. 0.]\n",
            " [0. 1. 0.]\n",
            " [0. 1. 0.]\n",
            " [0. 1. 0.]\n",
            " [0. 1. 0.]\n",
            " [0. 1. 0.]\n",
            " [0. 1. 0.]\n",
            " [0. 1. 0.]\n",
            " [0. 1. 0.]\n",
            " [0. 1. 0.]\n",
            " [0. 0. 1.]\n",
            " [0. 0. 1.]\n",
            " [0. 0. 1.]\n",
            " [0. 0. 1.]\n",
            " [0. 0. 1.]\n",
            " [0. 0. 1.]\n",
            " [0. 0. 1.]\n",
            " [0. 0. 1.]\n",
            " [0. 0. 1.]\n",
            " [0. 0. 1.]\n",
            " [0. 0. 1.]\n",
            " [0. 0. 1.]\n",
            " [0. 0. 1.]\n",
            " [0. 0. 1.]\n",
            " [0. 0. 1.]\n",
            " [0. 0. 1.]\n",
            " [0. 0. 1.]\n",
            " [0. 0. 1.]\n",
            " [0. 0. 1.]\n",
            " [0. 0. 1.]\n",
            " [0. 0. 1.]\n",
            " [0. 0. 1.]\n",
            " [0. 0. 1.]\n",
            " [0. 0. 1.]\n",
            " [0. 0. 1.]\n",
            " [0. 0. 1.]\n",
            " [0. 0. 1.]\n",
            " [0. 0. 1.]\n",
            " [0. 0. 1.]\n",
            " [0. 0. 1.]\n",
            " [0. 0. 1.]\n",
            " [0. 0. 1.]\n",
            " [0. 0. 1.]\n",
            " [0. 0. 1.]\n",
            " [0. 0. 1.]\n",
            " [0. 0. 1.]\n",
            " [0. 0. 1.]\n",
            " [0. 0. 1.]\n",
            " [0. 0. 1.]\n",
            " [0. 0. 1.]\n",
            " [0. 0. 1.]\n",
            " [0. 0. 1.]\n",
            " [0. 0. 1.]\n",
            " [0. 0. 1.]\n",
            " [0. 0. 1.]\n",
            " [0. 0. 1.]\n",
            " [0. 0. 1.]\n",
            " [0. 0. 1.]\n",
            " [0. 0. 1.]\n",
            " [0. 0. 1.]]\n"
          ],
          "name": "stdout"
        }
      ]
    }
  ]
}