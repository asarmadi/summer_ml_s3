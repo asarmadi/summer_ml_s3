{
  "nbformat": 4,
  "nbformat_minor": 0,
  "metadata": {
    "kernelspec": {
      "display_name": "Python 3",
      "language": "python",
      "name": "python3"
    },
    "language_info": {
      "codemirror_mode": {
        "name": "ipython",
        "version": 3
      },
      "file_extension": ".py",
      "mimetype": "text/x-python",
      "name": "python",
      "nbconvert_exporter": "python",
      "pygments_lexer": "ipython3",
      "version": "3.6.9"
    },
    "colab": {
      "name": "lab_mlp_fish_market_keras.ipynb",
      "provenance": [],
      "collapsed_sections": []
    }
  },
  "cells": [
    {
      "cell_type": "code",
      "metadata": {
        "id": "lPhD3tBWYP9G",
        "colab_type": "code",
        "colab": {}
      },
      "source": [
        "import pandas as pd\n",
        "from sklearn.model_selection import train_test_split\n",
        "import tensorflow as tf\n",
        "from tensorflow.keras.models import Sequential\n",
        "import matplotlib.pyplot as plt\n",
        "import numpy as np"
      ],
      "execution_count": 1,
      "outputs": []
    },
    {
      "cell_type": "markdown",
      "metadata": {
        "id": "CTHIFLwUYP9b",
        "colab_type": "text"
      },
      "source": [
        "### Load data and split into training data and validation data"
      ]
    },
    {
      "cell_type": "code",
      "metadata": {
        "id": "mOf98xw7YP9d",
        "colab_type": "code",
        "colab": {}
      },
      "source": [
        "X = pd.read_csv('https://raw.githubusercontent.com/asarmadi/summer_ml_s3/master/day05/fish_market_feature.csv').values\n",
        "y = pd.read_csv('https://raw.githubusercontent.com/asarmadi/summer_ml_s3/master/day05/fish_market_label.csv').values"
      ],
      "execution_count": 2,
      "outputs": []
    },
    {
      "cell_type": "markdown",
      "metadata": {
        "id": "SXd-R6M1YP9s",
        "colab_type": "text"
      },
      "source": [
        "### Build Model\n",
        "\n",
        "1) Define a model of three dense layers with ReLu activation functions. The output of the two first layers should have 300 neurons. \n",
        "\n",
        "2) Train the model for 2000 epochs with a batch size of 64 and a mean squared error loss.\n"
      ]
    },
    {
      "cell_type": "code",
      "metadata": {
        "id": "YlKXS0cMeMcp",
        "colab_type": "code",
        "colab": {}
      },
      "source": [
        "from tensorflow.keras import layers\n",
        "\n",
        "model = Sequential([\n",
        "    layers.Dense(300, activation='relu', input_shape=(5,)),\n",
        "    layers.Dense(300, activation='relu'),\n",
        "    layers.Dense(1, activation='relu')\n",
        "])\n",
        "\n",
        "model.compile(\n",
        "    optimizer='Adam',\n",
        "    loss='mean_squared_error',\n",
        "    metrics=['mae']\n",
        ")"
      ],
      "execution_count": 3,
      "outputs": []
    },
    {
      "cell_type": "code",
      "metadata": {
        "id": "pI3N1qEkbH5W",
        "colab_type": "code",
        "colab": {}
      },
      "source": [
        "history = model.fit(X, y, validation_split=0.2,\n",
        "                    epochs=2000, batch_size=64,\n",
        "                    verbose=0)"
      ],
      "execution_count": 4,
      "outputs": []
    },
    {
      "cell_type": "code",
      "metadata": {
        "id": "o6FF69XxdRyT",
        "colab_type": "code",
        "colab": {
          "base_uri": "https://localhost:8080/",
          "height": 279
        },
        "outputId": "58a47ca8-5dbc-4d7e-cdae-4421facd87dd"
      },
      "source": [
        "training_loss = history.history['loss']\n",
        "plt.plot(training_loss, label='Training loss')\n",
        "plt.xlabel(\"Epochs\")\n",
        "plt.ylabel(\"Loss\")\n",
        "plt.legend()\n",
        "plt.grid()"
      ],
      "execution_count": 17,
      "outputs": [
        {
          "output_type": "display_data",
          "data": {
            "image/png": "[encoded data removed]",
            "text/plain": [
              "<Figure size 432x288 with 1 Axes>"
            ]
          },
          "metadata": {
            "tags": [],
            "needs_background": "light"
          }
        }
      ]
    },
    {
      "cell_type": "markdown",
      "metadata": {
        "id": "p6kC3IVHYP-E",
        "colab_type": "text"
      },
      "source": [
        "### Load the testing dataset"
      ]
    },
    {
      "cell_type": "code",
      "metadata": {
        "id": "jWgUAW_mYP-F",
        "colab_type": "code",
        "colab": {}
      },
      "source": [
        "X_test = pd.read_csv('https://raw.githubusercontent.com/asarmadi/summer_ml_s3/master/day05/fish_market_test_feature.csv').values\n",
        "y_test = pd.read_csv('https://raw.githubusercontent.com/asarmadi/summer_ml_s3/master/day05//fish_market_test_label.csv').values"
      ],
      "execution_count": 5,
      "outputs": []
    },
    {
      "cell_type": "code",
      "metadata": {
        "id": "Ske98u3wbvGf",
        "colab_type": "code",
        "colab": {
          "base_uri": "https://localhost:8080/",
          "height": 34
        },
        "outputId": "cb0d85d4-8872-4555-cc4e-2815c6596c82"
      },
      "source": [
        "yhat_test = model.predict(X_test)\n",
        "mae = tf.keras.metrics.MeanAbsoluteError()\n",
        "mae.update_state(yhat_test, y_test)\n",
        "print (\"Test MAE is\", mae.result().numpy())"
      ],
      "execution_count": 24,
      "outputs": [
        {
          "output_type": "stream",
          "text": [
            "Test MAE is 23.73408\n"
          ],
          "name": "stdout"
        }
      ]
    },
    {
      "cell_type": "code",
      "metadata": {
        "id": "A8hiFtuwYP-P",
        "colab_type": "code",
        "colab": {
          "base_uri": "https://localhost:8080/",
          "height": 279
        },
        "outputId": "c0e213cb-2a98-4eb2-839d-4f8cbc4083d1"
      },
      "source": [
        "plt.plot(yhat_test, 'o', label='predicted')\n",
        "plt.plot(y_test, 'o', label='ground truth')\n",
        "plt.legend()\n",
        "plt.xlabel('Sample index')\n",
        "plt.ylabel('Label')\n",
        "plt.legend()\n",
        "plt.grid()"
      ],
      "execution_count": 26,
      "outputs": [
        {
          "output_type": "display_data",
          "data": {
            "image/png": "[encoded data removed]",
            "text/plain": [
              "<Figure size 432x288 with 1 Axes>"
            ]
          },
          "metadata": {
            "tags": [],
            "needs_background": "light"
          }
        }
      ]
    },
    {
      "cell_type": "code",
      "metadata": {
        "id": "7GCeerrEcNgx",
        "colab_type": "code",
        "colab": {}
      },
      "source": [
        ""
      ],
      "execution_count": 7,
      "outputs": []
    }
  ]
}