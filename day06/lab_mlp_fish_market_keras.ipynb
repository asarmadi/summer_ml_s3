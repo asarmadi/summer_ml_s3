{
  "nbformat": 4,
  "nbformat_minor": 0,
  "metadata": {
    "kernelspec": {
      "display_name": "Python 3",
      "language": "python",
      "name": "python3"
    },
    "language_info": {
      "codemirror_mode": {
        "name": "ipython",
        "version": 3
      },
      "file_extension": ".py",
      "mimetype": "text/x-python",
      "name": "python",
      "nbconvert_exporter": "python",
      "pygments_lexer": "ipython3",
      "version": "3.6.9"
    },
    "colab": {
      "name": "lab_mlp_fish_market_keras.ipynb",
      "provenance": [],
      "collapsed_sections": []
    }
  },
  "cells": [
    {
      "cell_type": "code",
      "metadata": {
        "id": "lPhD3tBWYP9G",
        "colab_type": "code",
        "colab": {}
      },
      "source": [
        "import pandas as pd\n",
        "from sklearn.model_selection import train_test_split\n",
        "import tensorflow as tf\n",
        "from tensorflow.keras.models import Sequential\n",
        "from tensorflow.keras.layers import Dense\n",
        "import matplotlib.pyplot as plt\n",
        "import numpy as np"
      ],
      "execution_count": 1,
      "outputs": []
    },
    {
      "cell_type": "markdown",
      "metadata": {
        "id": "CTHIFLwUYP9b",
        "colab_type": "text"
      },
      "source": [
        "### Load data and split into training data and validation data"
      ]
    },
    {
      "cell_type": "code",
      "metadata": {
        "id": "mOf98xw7YP9d",
        "colab_type": "code",
        "colab": {}
      },
      "source": [
        "feature = pd.read_csv('https://raw.githubusercontent.com/BolunDai0216/nyuMLSummerSchool/master/day05/fish_market_feature.csv')\n",
        "label = pd.read_csv('https://raw.githubusercontent.com/BolunDai0216/nyuMLSummerSchool/master/day05/fish_market_label.csv')\n",
        "X_train, X_val, y_train, y_val = train_test_split(feature.values, label.values, test_size=0.1, random_state=3)"
      ],
      "execution_count": 2,
      "outputs": []
    },
    {
      "cell_type": "markdown",
      "metadata": {
        "id": "SXd-R6M1YP9s",
        "colab_type": "text"
      },
      "source": [
        "### Build Model\n",
        "\n",
        "1) Define a model of three dense layers with ReLu activation functions. The output of the two first layers should have 300 neurons. \n",
        "\n",
        "2) Train the model for 2000 epochs with a batch size of 64 and a mean squared error loss.\n"
      ]
    },
    {
      "cell_type": "code",
      "metadata": {
        "id": "YlKXS0cMeMcp",
        "colab_type": "code",
        "colab": {}
      },
      "source": [
        "## To-do"
      ],
      "execution_count": null,
      "outputs": []
    },
    {
      "cell_type": "markdown",
      "metadata": {
        "id": "p6kC3IVHYP-E",
        "colab_type": "text"
      },
      "source": [
        "### Load the testing dataset"
      ]
    },
    {
      "cell_type": "code",
      "metadata": {
        "id": "jWgUAW_mYP-F",
        "colab_type": "code",
        "colab": {}
      },
      "source": [
        "X_test = pd.read_csv('https://raw.githubusercontent.com/BolunDai0216/nyuMLSummerSchool/master/day05/fish_market_test_feature.csv').values\n",
        "y_test = pd.read_csv('https://raw.githubusercontent.com/BolunDai0216/nyuMLSummerSchool/master/day05/fish_market_test_label.csv').values\n",
        "\n",
        "\n",
        "# Predict the corresponding y_hat value of the test dataset\n",
        "## To-do"
      ],
      "execution_count": 5,
      "outputs": []
    },
    {
      "cell_type": "code",
      "metadata": {
        "id": "A8hiFtuwYP-P",
        "colab_type": "code",
        "colab": {
          "base_uri": "https://localhost:8080/",
          "height": 279
        },
        "outputId": "6a8fa4a7-9dcc-46dc-a235-29687397f4e7"
      },
      "source": [
        "plt.figure()\n",
        "plt.scatter(np.arange(y_hat.shape[0]), y_hat, label='Prediction')\n",
        "plt.scatter(np.arange(y_test.shape[0]), y_test, label='Ground Truth')\n",
        "plt.legend()\n",
        "plt.xlabel('data no.')\n",
        "plt.ylabel('predicted value')\n",
        "plt.show()"
      ],
      "execution_count": 6,
      "outputs": [
        {
          "output_type": "display_data",
          "data": {
            "image/png": "[encoded data removed]",
            "text/plain": [
              "<Figure size 432x288 with 1 Axes>"
            ]
          },
          "metadata": {
            "tags": [],
            "needs_background": "light"
          }
        }
      ]
    }
  ]
}