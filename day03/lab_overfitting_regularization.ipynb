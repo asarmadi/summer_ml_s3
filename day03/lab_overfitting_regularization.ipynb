{
  "nbformat": 4,
  "nbformat_minor": 0,
  "metadata": {
    "colab": {
      "name": "lab_overfitting_regularization.ipynb",
      "provenance": []
    },
    "kernelspec": {
      "display_name": "Python 3",
      "language": "python",
      "name": "python3"
    },
    "language_info": {
      "codemirror_mode": {
        "name": "ipython",
        "version": 3
      },
      "file_extension": ".py",
      "mimetype": "text/x-python",
      "name": "python",
      "nbconvert_exporter": "python",
      "pygments_lexer": "ipython3",
      "version": "3.7.0"
    }
  },
  "cells": [
    {
      "cell_type": "markdown",
      "metadata": {
        "colab_type": "text",
        "id": "iNK0ITS8hXrV"
      },
      "source": [
        "# Demo: Overfitting, Weight-Regularization"
      ]
    },
    {
      "cell_type": "code",
      "metadata": {
        "colab_type": "code",
        "id": "KcSnaL94hXrV",
        "colab": {}
      },
      "source": [
        "import numpy as np\n",
        "import matplotlib\n",
        "import matplotlib.pyplot as plt\n",
        "%matplotlib inline\n",
        "\n",
        "plt.rc_context({'axes.edgecolor':'white', 'xtick.color':'white', 'axes.labelcolor':'white', 'ytick.color':'white'});"
      ],
      "execution_count": 1,
      "outputs": []
    },
    {
      "cell_type": "markdown",
      "metadata": {
        "id": "QHWBFFUdQdRz",
        "colab_type": "text"
      },
      "source": [
        "### Plot polynomial\n",
        "\n",
        "Here we plot the polynomial curve $f(x) = 5x^3 + x^2 - 2x - 0.5$."
      ]
    },
    {
      "cell_type": "code",
      "metadata": {
        "colab_type": "code",
        "id": "43Q4TlKSQdR0",
        "colab": {
          "base_uri": "https://localhost:8080/",
          "height": 283
        },
        "outputId": "290aaec4-5b17-4636-e31b-30b40b81fae0"
      },
      "source": [
        "nsamp = 25 # number of samples taken\n",
        "p = np.array([5, 1, -2, -.5]) # true coefficients\n",
        "var = 0.1 # noise variance\n",
        "\n",
        "# we'll take a set of measurements uniformly\n",
        "x = np.linspace(-1,1,nsamp)\n",
        "y_true = np.polyval(p, x)\n",
        "# noisy measurement, ym. use sqrt(var) as numpy normal standard deviation\n",
        "y = y_true + np.random.normal(0, np.sqrt(var), nsamp)\n",
        "\n",
        "plt.plot(x,y_true)\n",
        "# we can force a scatter plot in plt.plot by making the third argument 'o'\n",
        "plt.plot(x,y,'ob',markeredgecolor='black');\n",
        "plt.grid();\n",
        "plt.xlabel('x')\n",
        "plt.ylabel('y')\n",
        "plt.xlim([-1,1])\n",
        "plt.ylim([-3,4])\n",
        "plt.legend(['True Process, y_true','Noisy Measurement, y']);"
      ],
      "execution_count": 2,
      "outputs": [
        {
          "output_type": "display_data",
          "data": {
            "image/png": "[encoded data removed]",
            "text/plain": [
              "<Figure size 432x288 with 1 Axes>"
            ]
          },
          "metadata": {
            "tags": [],
            "needs_background": "dark"
          }
        }
      ]
    },
    {
      "cell_type": "code",
      "metadata": {
        "colab_type": "code",
        "id": "syyXCKIhhXrb",
        "colab": {}
      },
      "source": [
        "# train test validation split\n",
        "ntrain = 15\n",
        "nval = 5\n",
        "ntest = 5\n",
        "\n",
        "inds = np.random.permutation(nsamp)\n",
        "\n",
        "train_choices = inds[:ntrain]\n",
        "val_choices = inds[ntrain:ntrain+nval]\n",
        "test_choices = inds[ntrain+nval:]\n",
        "\n",
        "xtrain, ytrain = x[train_choices], y[train_choices]\n",
        "xval, yval     = x[val_choices], y[val_choices]\n",
        "xtest, ytest   = x[test_choices], y[test_choices]"
      ],
      "execution_count": 3,
      "outputs": []
    },
    {
      "cell_type": "markdown",
      "metadata": {
        "id": "EcrynfwbQdR6",
        "colab_type": "text"
      },
      "source": [
        "### Design Matrix\n",
        "\n",
        "We have the design matrix as $D = \\begin{bmatrix}\n",
        "1 & x_1 & x_1^2 & x_1^3 & \\cdots & x_1^{M}\\\\\n",
        "1 & x_2 & x_2^2 & x_2^3 & \\cdots & x_2^{M}\\\\\n",
        "\\vdots & \\vdots & \\vdots & \\vdots & \\ddots & \\vdots\\\\ \n",
        "1 & x_n & x_n^2 & x_n^3 & \\cdots & x_n^{M}\n",
        "\\end{bmatrix}$\n",
        "\n",
        "- Complete the design matrix and set M = 25, the shape of the design matrix should be (15, 26)"
      ]
    },
    {
      "cell_type": "code",
      "metadata": {
        "colab_type": "code",
        "id": "wTKUe2lehXrd",
        "colab": {
          "base_uri": "https://localhost:8080/",
          "height": 34
        },
        "outputId": "005724fb-cfbb-41bf-cec6-7c8660bad835"
      },
      "source": [
        "# forming the design matrix\n",
        "# features x, model order M\n",
        "\n",
        "def design_matrix(x, M):\n",
        "    # TODO\n",
        "    x = x.reshape(-1, 1)\n",
        "    PhiX = np.power(x, np.arange(M + 1))\n",
        "    return PhiX\n",
        "\n",
        "\n",
        "M = 25\n",
        "Xtrain = design_matrix(xtrain, M)\n",
        "print(Xtrain.shape)"
      ],
      "execution_count": 4,
      "outputs": [
        {
          "output_type": "stream",
          "text": [
            "(15, 26)\n"
          ],
          "name": "stdout"
        }
      ]
    },
    {
      "cell_type": "markdown",
      "metadata": {
        "id": "b1cCjnXhY-Ba",
        "colab_type": "text"
      },
      "source": [
        "## Exercise 1: Ridge regression"
      ]
    },
    {
      "cell_type": "code",
      "metadata": {
        "colab_type": "code",
        "id": "OaQtjOPHhXrf",
        "colab": {
          "base_uri": "https://localhost:8080/",
          "height": 762
        },
        "outputId": "7c28b91a-5618-42c7-dc7b-9d733e8a0c14"
      },
      "source": [
        "from sklearn import linear_model\n",
        "\n",
        "# regr = linear_model.LinearRegression()\n",
        "regr = linear_model.Ridge(alpha=0.05, fit_intercept=True)\n",
        "\n",
        "regr.fit(Xtrain, ytrain)\n",
        "\n",
        "# print the training error MSE\n",
        "yhat_train = regr.predict(Xtrain)\n",
        "MSE_train = np.mean((yhat_train - ytrain)**2)\n",
        "print(f\"Train MSE: {MSE_train}\")\n",
        "\n",
        "# print the validation error MSE\n",
        "yhat_val = regr.predict(design_matrix(xval, M))\n",
        "MSE_val = np.mean((yhat_val - yval)**2)\n",
        "print(f\"Validation MSE: {MSE_val}\")\n",
        "\n",
        "# plotting\n",
        "x_line = np.linspace(-1,1,500).reshape(-1,1)\n",
        "X_line = design_matrix(x_line, M)\n",
        "y_line = regr.predict(X_line)\n",
        "\n",
        "plt.figure()\n",
        "plt.plot(x_line, y_line)\n",
        "plt.plot(xtrain, ytrain,'o',markeredgecolor='black')\n",
        "plt.plot(xval, yval,'o',markeredgecolor='black')\n",
        "plt.xlim([-1,1])\n",
        "plt.ylim([-3,4])\n",
        "plt.legend(['Model','Training set', 'Validation set'])\n",
        "plt.show()\n",
        "\n",
        "w = regr.coef_\n",
        "\n",
        "print(\"weights = \")\n",
        "with np.printoptions(precision=2, suppress=True):\n",
        "    print(w.reshape(-1,1))"
      ],
      "execution_count": 49,
      "outputs": [
        {
          "output_type": "stream",
          "text": [
            "Train MSE: 0.08740744984672193\n",
            "Validation MSE: 0.21204480614954577\n"
          ],
          "name": "stdout"
        },
        {
          "output_type": "display_data",
          "data": {
            "image/png": "[encoded data removed]",
            "text/plain": [
              "<Figure size 432x288 with 1 Axes>"
            ]
          },
          "metadata": {
            "tags": [],
            "needs_background": "dark"
          }
        },
        {
          "output_type": "stream",
          "text": [
            "weights = \n",
            "[[ 0.  ]\n",
            " [-1.14]\n",
            " [ 0.89]\n",
            " [ 2.08]\n",
            " [ 0.14]\n",
            " [ 1.68]\n",
            " [-0.15]\n",
            " [ 0.95]\n",
            " [-0.17]\n",
            " [ 0.4 ]\n",
            " [-0.1 ]\n",
            " [ 0.07]\n",
            " [-0.02]\n",
            " [-0.11]\n",
            " [ 0.03]\n",
            " [-0.19]\n",
            " [ 0.04]\n",
            " [-0.2 ]\n",
            " [ 0.02]\n",
            " [-0.17]\n",
            " [-0.02]\n",
            " [-0.13]\n",
            " [-0.07]\n",
            " [-0.07]\n",
            " [-0.13]\n",
            " [-0.01]]\n"
          ],
          "name": "stdout"
        }
      ]
    },
    {
      "cell_type": "markdown",
      "metadata": {
        "id": "_X2kf0WXZU6M",
        "colab_type": "text"
      },
      "source": [
        "## Exercise 2: Find the best alpha for the Ridge regressor based on the MSE of the validation set"
      ]
    },
    {
      "cell_type": "code",
      "metadata": {
        "id": "t-mYvHPH09TW",
        "colab_type": "code",
        "colab": {
          "base_uri": "https://localhost:8080/",
          "height": 296
        },
        "outputId": "b96fdf2f-4af7-4da6-c059-0399419fcae5"
      },
      "source": [
        "training_error = []\n",
        "validation_error = []\n",
        "alpha_range = np.arange(10, 0, -0.01)\n",
        "\n",
        "for a in alpha_range:\n",
        "    \n",
        "    regr = linear_model.Ridge(alpha=a, fit_intercept=True)\n",
        "    regr.fit(Xtrain, ytrain)\n",
        "\n",
        "    # calculate the training error MSE\n",
        "    yhat_train = regr.predict(Xtrain)\n",
        "    MSE_train = np.mean((yhat_train - ytrain)**2)\n",
        "    training_error.append(MSE_train)\n",
        "\n",
        "    # calculate the validation error MSE\n",
        "    yhat_val = regr.predict(design_matrix(xval, M))\n",
        "    MSE_val = np.mean((yhat_val - yval)**2)\n",
        "    validation_error.append(MSE_val)\n",
        "\n",
        "\n",
        "plt.plot(training_error, label='training error')\n",
        "plt.plot(validation_error, label='validation error')\n",
        "plt.legend()\n",
        "plt.xlabel(\"Iteration\")\n",
        "plt.ylabel(\"Error\")\n",
        "plt.grid()\n",
        "plt.show()\n",
        "\n",
        "index_of_best_alpha = np.argmin(validation_error)\n",
        "best_alpha = alpha_range[index_of_best_alpha]\n",
        "print(f\"The best alpha is {best_alpha:.2f}\")"
      ],
      "execution_count": 50,
      "outputs": [
        {
          "output_type": "display_data",
          "data": {
            "image/png": "[encoded data removed]",
            "text/plain": [
              "<Figure size 432x288 with 1 Axes>"
            ]
          },
          "metadata": {
            "tags": [],
            "needs_background": "dark"
          }
        },
        {
          "output_type": "stream",
          "text": [
            "The best alpha is 0.21\n"
          ],
          "name": "stdout"
        }
      ]
    },
    {
      "cell_type": "markdown",
      "metadata": {
        "id": "Zup8Odg8QdSA",
        "colab_type": "text"
      },
      "source": [
        "## Exercise 3: Lasso regularization\n",
        "\n",
        "- Lasso: L1 norm regularizer $\\displaystyle\\frac{1}{2n_\\mathrm{samples}}\\|y - Xw\\|^2_2 + \\alpha\\|w\\|_1$\n"
      ]
    },
    {
      "cell_type": "code",
      "metadata": {
        "id": "DjCzCSiRQdSD",
        "colab_type": "code",
        "colab": {
          "base_uri": "https://localhost:8080/",
          "height": 762
        },
        "outputId": "9a351d71-8e56-4e33-97e4-8fde89ef2cd7"
      },
      "source": [
        "from sklearn import linear_model\n",
        "\n",
        "# regr = linear_model.LinearRegression()\n",
        "regr = linear_model.Lasso(alpha=0.05, fit_intercept=True)\n",
        "\n",
        "regr.fit(Xtrain, ytrain)\n",
        "\n",
        "# print the training error MSE\n",
        "yhat_train = regr.predict(Xtrain)\n",
        "MSE_train = np.mean((yhat_train - ytrain)**2)\n",
        "print(f\"Train MSE: {MSE_train}\")\n",
        "\n",
        "# print the validation error MSE\n",
        "yhat_val = regr.predict(design_matrix(xval, M))\n",
        "MSE_val = np.mean((yhat_val - yval)**2)\n",
        "print(f\"Validation MSE: {MSE_val}\")\n",
        "\n",
        "# plotting\n",
        "x_line = np.linspace(-1,1,500).reshape(-1,1)\n",
        "X_line = design_matrix(x_line, M)\n",
        "y_line = regr.predict(X_line)\n",
        "\n",
        "plt.figure()\n",
        "plt.plot(x_line, y_line)\n",
        "plt.plot(xtrain, ytrain,'o',markeredgecolor='black')\n",
        "plt.plot(xval, yval,'o',markeredgecolor='black')\n",
        "plt.xlim([-1,1])\n",
        "plt.ylim([-3,4])\n",
        "plt.legend(['Model','Training set', 'Validation set'])\n",
        "plt.show()\n",
        "\n",
        "w = regr.coef_\n",
        "\n",
        "print(\"weights = \")\n",
        "with np.printoptions(precision=2, suppress=True):\n",
        "    print(w.reshape(-1,1))"
      ],
      "execution_count": 54,
      "outputs": [
        {
          "output_type": "stream",
          "text": [
            "Train MSE: 0.21186517993759224\n",
            "Validation MSE: 0.33256133392836845\n"
          ],
          "name": "stdout"
        },
        {
          "output_type": "display_data",
          "data": {
            "image/png": "[encoded data removed]",
            "text/plain": [
              "<Figure size 432x288 with 1 Axes>"
            ]
          },
          "metadata": {
            "tags": [],
            "needs_background": "dark"
          }
        },
        {
          "output_type": "stream",
          "text": [
            "weights = \n",
            "[[ 0.  ]\n",
            " [-0.  ]\n",
            " [ 0.27]\n",
            " [ 0.  ]\n",
            " [ 0.  ]\n",
            " [ 2.95]\n",
            " [ 0.  ]\n",
            " [ 0.  ]\n",
            " [ 0.  ]\n",
            " [ 0.  ]\n",
            " [ 0.  ]\n",
            " [ 0.  ]\n",
            " [ 0.  ]\n",
            " [ 0.  ]\n",
            " [ 0.  ]\n",
            " [ 0.  ]\n",
            " [ 0.  ]\n",
            " [ 0.  ]\n",
            " [ 0.  ]\n",
            " [ 0.  ]\n",
            " [ 0.  ]\n",
            " [ 0.  ]\n",
            " [ 0.  ]\n",
            " [ 0.  ]\n",
            " [ 0.  ]\n",
            " [ 0.  ]]\n"
          ],
          "name": "stdout"
        }
      ]
    },
    {
      "cell_type": "code",
      "metadata": {
        "id": "ket_oqAy0kEV",
        "colab_type": "code",
        "colab": {}
      },
      "source": [
        ""
      ],
      "execution_count": 6,
      "outputs": []
    }
  ]
}