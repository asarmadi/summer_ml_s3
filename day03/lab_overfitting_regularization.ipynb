{
  "nbformat": 4,
  "nbformat_minor": 0,
  "metadata": {
    "colab": {
      "name": "lab_overfitting_regularization.ipynb",
      "provenance": []
    },
    "kernelspec": {
      "display_name": "Python 3",
      "language": "python",
      "name": "python3"
    },
    "language_info": {
      "codemirror_mode": {
        "name": "ipython",
        "version": 3
      },
      "file_extension": ".py",
      "mimetype": "text/x-python",
      "name": "python",
      "nbconvert_exporter": "python",
      "pygments_lexer": "ipython3",
      "version": "3.7.0"
    }
  },
  "cells": [
    {
      "cell_type": "markdown",
      "metadata": {
        "colab_type": "text",
        "id": "iNK0ITS8hXrV"
      },
      "source": [
        "# Demo: Overfitting, Weight-Regularization"
      ]
    },
    {
      "cell_type": "code",
      "metadata": {
        "colab_type": "code",
        "id": "KcSnaL94hXrV",
        "colab": {}
      },
      "source": [
        "import numpy as np\n",
        "import matplotlib\n",
        "import matplotlib.pyplot as plt\n",
        "%matplotlib inline\n",
        "\n",
        "plt.rc_context({'axes.edgecolor':'white', 'xtick.color':'white', 'axes.labelcolor':'white', 'ytick.color':'white'});"
      ],
      "execution_count": 4,
      "outputs": []
    },
    {
      "cell_type": "markdown",
      "metadata": {
        "id": "QHWBFFUdQdRz",
        "colab_type": "text"
      },
      "source": [
        "### Plot polynomial\n",
        "\n",
        "Here we plot the polynomial curve $f(x) = 5x^3 + x^2 - 2x - 0.5$."
      ]
    },
    {
      "cell_type": "code",
      "metadata": {
        "id": "jzdn7ylCVcz3",
        "colab_type": "code",
        "colab": {
          "base_uri": "https://localhost:8080/",
          "height": 102
        },
        "outputId": "a755b6c0-eb0b-489b-f036-3c6561cd495a"
      },
      "source": [
        "np.random.normal(0, np.sqrt(var), nsamp)"
      ],
      "execution_count": 15,
      "outputs": [
        {
          "output_type": "execute_result",
          "data": {
            "text/plain": [
              "array([-0.20428122,  0.50909555,  0.28667206,  0.29784907,  0.01213949,\n",
              "        0.01403564, -0.26662808,  0.28005292,  0.10914701,  0.26706396,\n",
              "       -0.15077562, -0.06871754, -0.6196962 ,  0.02822203, -0.10205585,\n",
              "       -0.39794217, -0.20154294,  0.31564876, -0.5830616 , -0.05537501,\n",
              "        0.25578654,  0.08672647, -0.35930132, -0.07098566,  0.19771187])"
            ]
          },
          "metadata": {
            "tags": []
          },
          "execution_count": 15
        }
      ]
    },
    {
      "cell_type": "code",
      "metadata": {
        "colab_type": "code",
        "id": "43Q4TlKSQdR0",
        "colab": {
          "base_uri": "https://localhost:8080/",
          "height": 283
        },
        "outputId": "435d65d1-4a03-4043-bb8f-0902e961e3d4"
      },
      "source": [
        "nsamp = 25 # number of samples taken\n",
        "p = np.array([5, 1, -2, -.5]) # true coefficients\n",
        "var = 0.1 # noise variance\n",
        "\n",
        "# we'll take a set of measurements uniformly\n",
        "x = np.linspace(-1,1,nsamp)\n",
        "y_true = np.polyval(p, x)\n",
        "# noisy measurement, ym. use sqrt(var) as numpy normal standard deviation\n",
        "y = y_true + np.random.normal(0, np.sqrt(var), nsamp)\n",
        "\n",
        "plt.plot(x,y_true)\n",
        "# we can force a scatter plot in plt.plot by making the third argument 'o'\n",
        "plt.plot(x,y,'ob',markeredgecolor='black');\n",
        "plt.grid();\n",
        "plt.xlabel('x')\n",
        "plt.ylabel('y')\n",
        "plt.xlim([-1,1])\n",
        "plt.ylim([-3,4])\n",
        "plt.legend(['True Process, y_true','Noisy Measurement, y']);"
      ],
      "execution_count": 8,
      "outputs": [
        {
          "output_type": "display_data",
          "data": {
            "image/png": "[encoded data removed]",
            "text/plain": [
              "<Figure size 432x288 with 1 Axes>"
            ]
          },
          "metadata": {
            "tags": [],
            "needs_background": "dark"
          }
        }
      ]
    },
    {
      "cell_type": "code",
      "metadata": {
        "colab_type": "code",
        "id": "syyXCKIhhXrb",
        "colab": {}
      },
      "source": [
        "# train test validation split\n",
        "ntrain = 15\n",
        "nval = 5\n",
        "ntest = 5\n",
        "\n",
        "inds = np.random.permutation(nsamp)\n",
        "\n",
        "train_choices = inds[:ntrain]\n",
        "val_choices = inds[ntrain:ntrain+nval]\n",
        "test_choices = inds[ntrain+nval:]\n",
        "\n",
        "xtrain, ytrain = x[train_choices], y[train_choices]\n",
        "xval, yval     = x[val_choices], y[val_choices]\n",
        "xtest, ytest   = x[test_choices], y[test_choices]"
      ],
      "execution_count": 9,
      "outputs": []
    },
    {
      "cell_type": "markdown",
      "metadata": {
        "id": "EcrynfwbQdR6",
        "colab_type": "text"
      },
      "source": [
        "### Design Matrix\n",
        "\n",
        "We have the design matrix as $D = \\begin{bmatrix}\n",
        "1 & x_1 & x_1^2 & x_1^3 & \\cdots & x_1^{M}\\\\\n",
        "1 & x_2 & x_2^2 & x_2^3 & \\cdots & x_2^{M}\\\\\n",
        "\\vdots & \\vdots & \\vdots & \\vdots & \\ddots & \\vdots\\\\ \n",
        "1 & x_n & x_n^2 & x_n^3 & \\cdots & x_n^{M}\n",
        "\\end{bmatrix}$\n",
        "\n",
        "- Complete the design matrix and set M = 25, the shape of the design matrix should be (15, 26)"
      ]
    },
    {
      "cell_type": "code",
      "metadata": {
        "colab_type": "code",
        "id": "wTKUe2lehXrd",
        "colab": {
          "base_uri": "https://localhost:8080/",
          "height": 34
        },
        "outputId": "1c32d205-7d37-4c28-b941-159395109ed9"
      },
      "source": [
        "# forming the design matrix\n",
        "# features x, model order M\n",
        "\n",
        "def design_matrix(x, M):\n",
        "    # TODO\n",
        "    x = x.reshape(-1, 1)\n",
        "    PhiX = np.power(x, np.arange(M + 1))\n",
        "    return PhiX\n",
        "\n",
        "\n",
        "M = 25\n",
        "Xtrain = design_matrix(xtrain, M)\n",
        "print(Xtrain.shape)"
      ],
      "execution_count": 16,
      "outputs": [
        {
          "output_type": "stream",
          "text": [
            "(15, 26)\n"
          ],
          "name": "stdout"
        }
      ]
    },
    {
      "cell_type": "markdown",
      "metadata": {
        "id": "b1cCjnXhY-Ba",
        "colab_type": "text"
      },
      "source": [
        "## Exercise 1: Ridge regression"
      ]
    },
    {
      "cell_type": "code",
      "metadata": {
        "colab_type": "code",
        "id": "OaQtjOPHhXrf",
        "colab": {
          "base_uri": "https://localhost:8080/",
          "height": 762
        },
        "outputId": "81691641-ec46-4aae-be1f-0e46f81cb53a"
      },
      "source": [
        "from sklearn import linear_model\n",
        "\n",
        "# regr = linear_model.LinearRegression()\n",
        "regr = linear_model.Ridge(alpha=0.05, fit_intercept=True)\n",
        "\n",
        "regr.fit(Xtrain, ytrain)\n",
        "\n",
        "# print the training error MSE\n",
        "yhat_train = regr.predict(Xtrain)\n",
        "MSE_train = np.mean((yhat_train - ytrain)**2)\n",
        "print(f\"Train MSE: {MSE_train}\")\n",
        "\n",
        "# print the validation error MSE\n",
        "yhat_val = regr.predict(design_matrix(xval, M))\n",
        "MSE_val = np.mean((yhat_val - yval)**2)\n",
        "print(f\"Validation MSE: {MSE_val}\")\n",
        "\n",
        "# plotting\n",
        "x_line = np.linspace(-1,1,500).reshape(-1,1)\n",
        "X_line = design_matrix(x_line, M)\n",
        "y_line = regr.predict(X_line)\n",
        "\n",
        "plt.figure()\n",
        "plt.plot(x_line, y_line)\n",
        "plt.plot(xtrain, ytrain,'o',markeredgecolor='black')\n",
        "plt.plot(xval, yval,'o',markeredgecolor='black')\n",
        "plt.xlim([-1,1])\n",
        "plt.ylim([-3,4])\n",
        "plt.legend(['Model','Training set', 'Validation set'])\n",
        "plt.show()\n",
        "\n",
        "w = regr.coef_\n",
        "\n",
        "print(\"w = \")\n",
        "with np.printoptions(precision=2, suppress=True):\n",
        "    print(w.reshape(-1,1))"
      ],
      "execution_count": 31,
      "outputs": [
        {
          "output_type": "stream",
          "text": [
            "Train MSE: 0.020415848545793765\n",
            "Validation MSE: 0.03958557292572555\n"
          ],
          "name": "stdout"
        },
        {
          "output_type": "display_data",
          "data": {
            "image/png": "[encoded data removed]",
            "text/plain": [
              "<Figure size 432x288 with 1 Axes>"
            ]
          },
          "metadata": {
            "tags": [],
            "needs_background": "dark"
          }
        },
        {
          "output_type": "stream",
          "text": [
            "w = \n",
            "[[ 0.  ]\n",
            " [-1.12]\n",
            " [ 0.71]\n",
            " [ 1.89]\n",
            " [ 0.46]\n",
            " [ 1.45]\n",
            " [ 0.17]\n",
            " [ 0.84]\n",
            " [-0.  ]\n",
            " [ 0.43]\n",
            " [-0.09]\n",
            " [ 0.19]\n",
            " [-0.14]\n",
            " [ 0.05]\n",
            " [-0.15]\n",
            " [-0.02]\n",
            " [-0.15]\n",
            " [-0.06]\n",
            " [-0.14]\n",
            " [-0.08]\n",
            " [-0.13]\n",
            " [-0.09]\n",
            " [-0.12]\n",
            " [-0.08]\n",
            " [-0.1 ]\n",
            " [-0.08]]\n"
          ],
          "name": "stdout"
        }
      ]
    },
    {
      "cell_type": "markdown",
      "metadata": {
        "id": "_X2kf0WXZU6M",
        "colab_type": "text"
      },
      "source": [
        "## Exercise 2: Find the best alpha for the Ridge regressor above based on the MSE of the validation set"
      ]
    },
    {
      "cell_type": "markdown",
      "metadata": {
        "id": "Zup8Odg8QdSA",
        "colab_type": "text"
      },
      "source": [
        "## Exercise 3: Lasso regularization\n",
        "\n",
        "- Lasso: L1 norm regularizer $\\displaystyle\\frac{1}{2n_\\mathrm{samples}}\\|y - Xw\\|^2_2 + \\alpha\\|w\\|_1$\n",
        "\n",
        "\n",
        "- Ridge: L2 norm regularizer $\\displaystyle\\|y - Xw\\|^2_2 + \\alpha\\|w\\|^2_2$"
      ]
    },
    {
      "cell_type": "code",
      "metadata": {
        "id": "DjCzCSiRQdSD",
        "colab_type": "code",
        "colab": {}
      },
      "source": [
        ""
      ],
      "execution_count": null,
      "outputs": []
    }
  ]
}