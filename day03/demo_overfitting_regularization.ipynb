{
 "cells": [
  {
   "cell_type": "markdown",
   "metadata": {
    "colab_type": "text",
    "id": "iNK0ITS8hXrV"
   },
   "source": [
    "# Demo: Overfitting, Weight-Regularization"
   ]
  },
  {
   "cell_type": "code",
   "execution_count": null,
   "metadata": {
    "colab": {
     "base_uri": "https://localhost:8080/",
     "height": 283
    },
    "colab_type": "code",
    "id": "KcSnaL94hXrV",
    "outputId": "a64d6bbe-36c5-4011-e39f-a97f151d1775"
   },
   "outputs": [],
   "source": [
    "import numpy as np\n",
    "import matplotlib\n",
    "import matplotlib.pyplot as plt\n",
    "%matplotlib inline"
   ]
  },
  {
   "cell_type": "markdown",
   "metadata": {},
   "source": [
    "### Plot polynomial\n",
    "\n",
    "Here we plot the polynomial curve $f(x) = 5x^3 + 4x^2 - 2x - 5$."
   ]
  },
  {
   "cell_type": "code",
   "execution_count": 1,
   "metadata": {
    "colab": {
     "base_uri": "https://localhost:8080/",
     "height": 283
    },
    "colab_type": "code",
    "id": "KcSnaL94hXrV",
    "outputId": "a64d6bbe-36c5-4011-e39f-a97f151d1775"
   },
   "outputs": [
    {
     "data": {
      "image/png": "[encoded data removed]",
      "text/plain": [
       "<Figure size 432x288 with 1 Axes>"
      ]
     },
     "metadata": {
      "needs_background": "light"
     },
     "output_type": "display_data"
    }
   ],
   "source": [
    "nsamp = 25 # number of samples taken\n",
    "p = np.array([5,1,-2,-.5]) # true coefficients\n",
    "var = 0.1 # noise variance\n",
    "\n",
    "# we'll take a set of measurements uniformly\n",
    "x = np.linspace(-1,1,nsamp)\n",
    "y_true = np.polyval(p,x)\n",
    "# noisy measurement, ym. use sqrt(var) as numpy normal standard deviation\n",
    "y = y_true + np.random.normal(0, np.sqrt(var), nsamp)\n",
    "\n",
    "plt.plot(x,y_true)\n",
    "# we can force a scatter plot in plt.plot by making the third argument 'o'\n",
    "plt.plot(x,y,'ob',markeredgecolor='black');\n",
    "plt.grid();\n",
    "plt.xlabel('x')\n",
    "plt.ylabel('y')\n",
    "plt.xlim([-1,1])\n",
    "plt.ylim([-3,4])\n",
    "plt.legend(['True Process, y_true','Noisy Measurement, y']);"
   ]
  },
  {
   "cell_type": "code",
   "execution_count": 7,
   "metadata": {
    "colab": {},
    "colab_type": "code",
    "id": "syyXCKIhhXrb"
   },
   "outputs": [],
   "source": [
    "# train test validation split\n",
    "ntrain = 15\n",
    "nval = 5\n",
    "ntest = 5\n",
    "\n",
    "inds = np.random.permutation(nsamp)\n",
    "\n",
    "train_choices = inds[:ntrain]\n",
    "val_choices = inds[ntrain:ntrain+nval]\n",
    "test_choices = inds[ntrain+nval:]\n",
    "\n",
    "xtrain, ytrain = x[train_choices], y[train_choices]\n",
    "xval, yval     = x[val_choices], y[val_choices]\n",
    "xtest, ytest   = x[test_choices], y[test_choices]"
   ]
  },
  {
   "cell_type": "markdown",
   "metadata": {},
   "source": [
    "### Design Matrix\n",
    "\n",
    "We have the design matrix as $D = \\begin{bmatrix}\n",
    "1 & x_1 & x_1^2 & x_1^3 & \\cdots & x_1^{M}\\\\\n",
    "1 & x_2 & x_2^2 & x_2^3 & \\cdots & x_2^{M}\\\\\n",
    "\\vdots & \\vdots & \\vdots & \\vdots & \\ddots & \\vdots\\\\ \n",
    "1 & x_n & x_n^2 & x_n^3 & \\cdots & x_n^{M}\n",
    "\\end{bmatrix}$\n",
    "\n",
    "- Complete the design matrix and set M = 25, the shape of the design matrix should be (15, 26)"
   ]
  },
  {
   "cell_type": "code",
   "execution_count": 30,
   "metadata": {
    "colab": {
     "base_uri": "https://localhost:8080/",
     "height": 34
    },
    "colab_type": "code",
    "id": "wTKUe2lehXrd",
    "outputId": "d35937d0-b2fc-4b64-b99b-989aebb655cc"
   },
   "outputs": [
    {
     "name": "stdout",
     "output_type": "stream",
     "text": [
      "(15, 26)\n"
     ]
    }
   ],
   "source": [
    "# forming the design matrix\n",
    "# features x, model order M\n",
    "\n",
    "def design_matrix(x, M):\n",
    "    # TODO\n",
    "    \n",
    "    \n",
    "    return PhiX\n",
    "\n",
    "\n",
    "M = 25\n",
    "Xtrain = design_matrix(xtrain, M)\n",
    "print(Xtrain.shape)"
   ]
  },
  {
   "cell_type": "code",
   "execution_count": 31,
   "metadata": {
    "colab": {
     "base_uri": "https://localhost:8080/",
     "height": 782
    },
    "colab_type": "code",
    "id": "OaQtjOPHhXrf",
    "outputId": "78dbde94-e417-450a-c72e-802a9b507598"
   },
   "outputs": [
    {
     "name": "stdout",
     "output_type": "stream",
     "text": [
      "Train RMSE = 0.0000\n",
      "Test RMSE = 379635.5521\n"
     ]
    },
    {
     "data": {
      "image/png": "[encoded data removed]",
      "text/plain": [
       "<Figure size 432x288 with 1 Axes>"
      ]
     },
     "metadata": {
      "needs_background": "light"
     },
     "output_type": "display_data"
    },
    {
     "name": "stdout",
     "output_type": "stream",
     "text": [
      "w = \n",
      "[[     -0.43]\n",
      " [     58.17]\n",
      " [   1014.64]\n",
      " [   4129.84]\n",
      " [  -7343.99]\n",
      " [ -71101.83]\n",
      " [ -53376.42]\n",
      " [ 311221.93]\n",
      " [ 409088.34]\n",
      " [-473468.89]\n",
      " [-647316.23]\n",
      " [ 213715.75]\n",
      " [-139076.8 ]\n",
      " [ -76272.06]\n",
      " [ 434758.64]\n",
      " [-108030.77]\n",
      " [ 349618.2 ]\n",
      " [ 155663.64]\n",
      " [  42824.64]\n",
      " [ 342278.16]\n",
      " [-114429.03]\n",
      " [ 302289.01]\n",
      " [ -44740.58]\n",
      " [  73686.61]\n",
      " [ 187751.53]\n",
      " [-255394.79]]\n"
     ]
    }
   ],
   "source": [
    "from sklearn import linear_model\n",
    "\n",
    "# TODO\n",
    "# fit the polynomial model using linear regression \n",
    "\n",
    "\n",
    "# print the training error RMSE\n",
    "\n",
    "\n",
    "# print the test error RMSE\n",
    "\n",
    "\n",
    "\n",
    "# plotting\n",
    "x_line = np.linspace(-1,1,500).reshape(-1,1)\n",
    "X_line = design_matrix(x_line, M)\n",
    "y_line = reg.predict(X_line)\n",
    "\n",
    "plt.figure()\n",
    "plt.plot(x_line, y_line)\n",
    "plt.plot(xtrain,ytrain,'o',markeredgecolor='black')\n",
    "plt.plot(xtest,ytest,'o',markeredgecolor='black')\n",
    "# plt.xlim([-1,1])\n",
    "# plt.ylim([-3,4])\n",
    "plt.legend(['Model','Train Points', 'Test Points'])\n",
    "plt.show()\n",
    "\n",
    "print(\"w = \")\n",
    "with np.printoptions(precision=2, suppress=True):\n",
    "    print(w.reshape(-1,1))"
   ]
  },
  {
   "cell_type": "markdown",
   "metadata": {},
   "source": [
    "### weight based regularization\n",
    "\n",
    "- Lasso: L1 norm regularizer $\\displaystyle\\frac{1}{2n_\\mathrm{samples}}\\|y - Xw\\|^2_2 + \\alpha\\|w\\|_1$\n",
    "\n",
    "\n",
    "- Ridge: L2 norm regularizer $\\displaystyle\\|y - Xw\\|^2_2 + \\alpha\\|w\\|^2_2$"
   ]
  },
  {
   "cell_type": "code",
   "execution_count": 20,
   "metadata": {
    "colab": {
     "base_uri": "https://localhost:8080/",
     "height": 780
    },
    "colab_type": "code",
    "id": "KJAgZ3wshXri",
    "outputId": "86574d27-07b6-436f-b5eb-6bcf6222fd64"
   },
   "outputs": [
    {
     "name": "stdout",
     "output_type": "stream",
     "text": [
      "Train RMSE = 0.3037\n",
      "Val RMSE = 0.3692\n"
     ]
    },
    {
     "data": {
      "image/png": "[encoded data removed]",
      "text/plain": [
       "<Figure size 432x288 with 1 Axes>"
      ]
     },
     "metadata": {
      "needs_background": "light"
     },
     "output_type": "display_data"
    },
    {
     "name": "stdout",
     "output_type": "stream",
     "text": [
      "w = \n",
      "[[-0.33]\n",
      " [-1.6 ]\n",
      " [ 0.57]\n",
      " [ 2.4 ]\n",
      " [ 0.21]\n",
      " [ 1.54]\n",
      " [ 0.24]\n",
      " [ 0.8 ]\n",
      " [ 0.23]\n",
      " [ 0.4 ]\n",
      " [ 0.19]\n",
      " [ 0.19]\n",
      " [ 0.14]\n",
      " [ 0.09]\n",
      " [ 0.1 ]\n",
      " [ 0.03]\n",
      " [ 0.07]\n",
      " [ 0.01]\n",
      " [ 0.05]\n",
      " [-0.01]\n",
      " [ 0.04]\n",
      " [-0.01]\n",
      " [ 0.03]\n",
      " [-0.02]\n",
      " [ 0.03]\n",
      " [-0.02]]\n"
     ]
    }
   ],
   "source": [
    "# TODO\n",
    "\n",
    "# Using the following models to fit the data\n",
    "# reg = linear_model.Lasso(alpha=.02, fit_intercept=False)\n",
    "# reg = linear_model.Ridge(alpha=.05, fit_intercept=False)\n",
    "\n",
    "\n",
    "# print the training error RMSE\n",
    "\n",
    "\n",
    "# print the validation error RMSE\n",
    "\n",
    "\n",
    "# print the testing error RMSE\n",
    "\n",
    "\n",
    "# plotting\n",
    "x_line = np.linspace(-1,1,500).reshape(-1,1)\n",
    "X_line = design_matrix(x_line, M)\n",
    "y_line = reg.predict(X_line)\n",
    "\n",
    "plt.figure()\n",
    "plt.plot(x_line, y_line)\n",
    "plt.plot(xtrain,ytrain,'o',markeredgecolor='black')\n",
    "plt.plot(xtest,ytest,'o',markeredgecolor='black')\n",
    "plt.plot(xval,yval,'o',markeredgecolor='black')\n",
    "# plt.xlim([-1,1])\n",
    "# plt.ylim([-3,3])\n",
    "plt.legend(['Model','Train Points', 'Test Points', 'Val Points'])\n",
    "plt.show()\n",
    "\n",
    "print(\"w = \")\n",
    "with np.printoptions(precision=2, suppress=True):\n",
    "    print(w.reshape(-1,1))"
   ]
  },
  {
   "cell_type": "code",
   "execution_count": null,
   "metadata": {},
   "outputs": [],
   "source": []
  }
 ],
 "metadata": {
  "colab": {
   "name": "lab_overfitting_regularization.ipynb",
   "provenance": []
  },
  "kernelspec": {
   "display_name": "Python 3",
   "language": "python",
   "name": "python3"
  },
  "language_info": {
   "codemirror_mode": {
    "name": "ipython",
    "version": 3
   },
   "file_extension": ".py",
   "mimetype": "text/x-python",
   "name": "python",
   "nbconvert_exporter": "python",
   "pygments_lexer": "ipython3",
   "version": "3.7.0"
  }
 },
 "nbformat": 4,
 "nbformat_minor": 1
}
