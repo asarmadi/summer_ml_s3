{
  "nbformat": 4,
  "nbformat_minor": 0,
  "metadata": {
    "colab": {
      "name": "IceBreakerDemo.ipynb",
      "provenance": []
    },
    "kernelspec": {
      "display_name": "Python 3",
      "language": "python",
      "name": "python3"
    },
    "language_info": {
      "codemirror_mode": {
        "name": "ipython",
        "version": 3
      },
      "file_extension": ".py",
      "mimetype": "text/x-python",
      "name": "python",
      "nbconvert_exporter": "python",
      "pygments_lexer": "ipython3",
      "version": "3.6.9"
    }
  },
  "cells": [
    {
      "cell_type": "code",
      "metadata": {
        "colab_type": "code",
        "id": "zXL3u543mvYN",
        "colab": {}
      },
      "source": [
        "import pandas as pd\n",
        "import numpy as np\n",
        "import matplotlib.pyplot as plt"
      ],
      "execution_count": 1,
      "outputs": []
    },
    {
      "cell_type": "code",
      "metadata": {
        "colab_type": "code",
        "id": "W-Tj_d6nnWqw",
        "colab": {}
      },
      "source": [
        "# dataframe - df\n",
        "df = pd.read_csv('https://raw.githubusercontent.com/asarmadi/summer_ml_s3/master/day02/Icebreaking_Dataset.csv')"
      ],
      "execution_count": 2,
      "outputs": []
    },
    {
      "cell_type": "code",
      "metadata": {
        "colab_type": "code",
        "id": "meCMHRWTnfZW",
        "colab": {
          "base_uri": "https://localhost:8080/",
          "height": 979
        },
        "outputId": "e3032e92-b6e4-4aa5-997d-0dc33d076cbc"
      },
      "source": [
        "df.head(30)"
      ],
      "execution_count": 3,
      "outputs": [
        {
          "output_type": "execute_result",
          "data": {
            "text/html": [
              "<div>\n",
              "<style scoped>\n",
              "    .dataframe tbody tr th:only-of-type {\n",
              "        vertical-align: middle;\n",
              "    }\n",
              "\n",
              "    .dataframe tbody tr th {\n",
              "        vertical-align: top;\n",
              "    }\n",
              "\n",
              "    .dataframe thead th {\n",
              "        text-align: right;\n",
              "    }\n",
              "</style>\n",
              "<table border=\"1\" class=\"dataframe\">\n",
              "  <thead>\n",
              "    <tr style=\"text-align: right;\">\n",
              "      <th></th>\n",
              "      <th>Name</th>\n",
              "      <th>Grade</th>\n",
              "      <th>City</th>\n",
              "      <th>Movie</th>\n",
              "      <th>IMDB Score</th>\n",
              "      <th>Genre</th>\n",
              "      <th>Coding experience</th>\n",
              "    </tr>\n",
              "  </thead>\n",
              "  <tbody>\n",
              "    <tr>\n",
              "      <th>0</th>\n",
              "      <td>Aaditya Prasad</td>\n",
              "      <td>11th</td>\n",
              "      <td>Sammamish, WA</td>\n",
              "      <td>Good WIll Hunting</td>\n",
              "      <td>8.3</td>\n",
              "      <td>Drama</td>\n",
              "      <td>5.0</td>\n",
              "    </tr>\n",
              "    <tr>\n",
              "      <th>1</th>\n",
              "      <td>Catherine Peng</td>\n",
              "      <td>11th</td>\n",
              "      <td>Northbrook, IL</td>\n",
              "      <td>Infinity War</td>\n",
              "      <td>8.4</td>\n",
              "      <td>Action</td>\n",
              "      <td>2.5</td>\n",
              "    </tr>\n",
              "    <tr>\n",
              "      <th>2</th>\n",
              "      <td>Cole Glotfelty</td>\n",
              "      <td>11th</td>\n",
              "      <td>East Hampton. NY</td>\n",
              "      <td>The Shawshank Redemption</td>\n",
              "      <td>9.3</td>\n",
              "      <td>Drama</td>\n",
              "      <td>3.5</td>\n",
              "    </tr>\n",
              "    <tr>\n",
              "      <th>3</th>\n",
              "      <td>Divya Kartik</td>\n",
              "      <td>12th</td>\n",
              "      <td>Guildford, Surrey, UK</td>\n",
              "      <td>Spider-Man: Into the Spider-Verse</td>\n",
              "      <td>8.4</td>\n",
              "      <td>Action</td>\n",
              "      <td>4.0</td>\n",
              "    </tr>\n",
              "    <tr>\n",
              "      <th>4</th>\n",
              "      <td>Ethan Baksh</td>\n",
              "      <td>12th</td>\n",
              "      <td>Hewlett, NY</td>\n",
              "      <td>Interstellar</td>\n",
              "      <td>8.6</td>\n",
              "      <td>Adventure</td>\n",
              "      <td>3.0</td>\n",
              "    </tr>\n",
              "    <tr>\n",
              "      <th>5</th>\n",
              "      <td>Xiaotian Gu</td>\n",
              "      <td>11th</td>\n",
              "      <td>Rensselaer, NY</td>\n",
              "      <td>Your Name</td>\n",
              "      <td>8.4</td>\n",
              "      <td>Animation</td>\n",
              "      <td>4.0</td>\n",
              "    </tr>\n",
              "    <tr>\n",
              "      <th>6</th>\n",
              "      <td>Jackson Petroske</td>\n",
              "      <td>11th</td>\n",
              "      <td>Belle Terre, NY</td>\n",
              "      <td>Fantastic Mr. Fox</td>\n",
              "      <td>7.9</td>\n",
              "      <td>Adventure</td>\n",
              "      <td>1.1</td>\n",
              "    </tr>\n",
              "    <tr>\n",
              "      <th>7</th>\n",
              "      <td>Joaquin Portugal</td>\n",
              "      <td>12th</td>\n",
              "      <td>San Jose, CA</td>\n",
              "      <td>Lalaland</td>\n",
              "      <td>8.0</td>\n",
              "      <td>Comedy</td>\n",
              "      <td>2.0</td>\n",
              "    </tr>\n",
              "    <tr>\n",
              "      <th>8</th>\n",
              "      <td>Junoh Lee</td>\n",
              "      <td>11th</td>\n",
              "      <td>Scarsdale, NY</td>\n",
              "      <td>Whiplash</td>\n",
              "      <td>8.5</td>\n",
              "      <td>Drama</td>\n",
              "      <td>3.5</td>\n",
              "    </tr>\n",
              "    <tr>\n",
              "      <th>9</th>\n",
              "      <td>Matthew Solar</td>\n",
              "      <td>12th</td>\n",
              "      <td>New Rochelle, NY</td>\n",
              "      <td>The Shawshank Redemption</td>\n",
              "      <td>9.3</td>\n",
              "      <td>Drama</td>\n",
              "      <td>2.0</td>\n",
              "    </tr>\n",
              "    <tr>\n",
              "      <th>10</th>\n",
              "      <td>Nicholas Fowlkes</td>\n",
              "      <td>11th</td>\n",
              "      <td>Bethesda, Maryland</td>\n",
              "      <td>Hugo</td>\n",
              "      <td>7.5</td>\n",
              "      <td>Drama</td>\n",
              "      <td>2.5</td>\n",
              "    </tr>\n",
              "    <tr>\n",
              "      <th>11</th>\n",
              "      <td>Sameer Narendran</td>\n",
              "      <td>12th</td>\n",
              "      <td>Berkeley Heights, NJ</td>\n",
              "      <td>Interstellar</td>\n",
              "      <td>8.6</td>\n",
              "      <td>Adventure</td>\n",
              "      <td>3.0</td>\n",
              "    </tr>\n",
              "    <tr>\n",
              "      <th>12</th>\n",
              "      <td>Matthew Solar</td>\n",
              "      <td>12th</td>\n",
              "      <td>New Rochelle, NY</td>\n",
              "      <td>The Shawshank Redemption</td>\n",
              "      <td>9.3</td>\n",
              "      <td>Drama</td>\n",
              "      <td>2.0</td>\n",
              "    </tr>\n",
              "    <tr>\n",
              "      <th>13</th>\n",
              "      <td>Nicholas Friar</td>\n",
              "      <td>12th</td>\n",
              "      <td>Lafayette, CO</td>\n",
              "      <td>A silent voice</td>\n",
              "      <td>8.2</td>\n",
              "      <td>Drama</td>\n",
              "      <td>NaN</td>\n",
              "    </tr>\n",
              "    <tr>\n",
              "      <th>14</th>\n",
              "      <td>Renee Wang</td>\n",
              "      <td>11th</td>\n",
              "      <td>Brooklyn, NY</td>\n",
              "      <td>Avatar</td>\n",
              "      <td>7.8</td>\n",
              "      <td>Action</td>\n",
              "      <td>2.5</td>\n",
              "    </tr>\n",
              "    <tr>\n",
              "      <th>15</th>\n",
              "      <td>Isabella Vesely</td>\n",
              "      <td>10th</td>\n",
              "      <td>Milwaukee, WI</td>\n",
              "      <td>Monty Python and the Holy Grail</td>\n",
              "      <td>8.2</td>\n",
              "      <td>Comedy</td>\n",
              "      <td>2.5</td>\n",
              "    </tr>\n",
              "    <tr>\n",
              "      <th>16</th>\n",
              "      <td>Ishani Sengupta</td>\n",
              "      <td>12th</td>\n",
              "      <td>Edison, NJ</td>\n",
              "      <td>The Dark Knight</td>\n",
              "      <td>9.0</td>\n",
              "      <td>Action</td>\n",
              "      <td>2.5</td>\n",
              "    </tr>\n",
              "    <tr>\n",
              "      <th>17</th>\n",
              "      <td>Nick Yohn</td>\n",
              "      <td>12th</td>\n",
              "      <td>Hoboken, NJ</td>\n",
              "      <td>Inglorious Basterds</td>\n",
              "      <td>8.3</td>\n",
              "      <td>Action</td>\n",
              "      <td>2.5</td>\n",
              "    </tr>\n",
              "    <tr>\n",
              "      <th>18</th>\n",
              "      <td>Emil Schaumburg</td>\n",
              "      <td>10th</td>\n",
              "      <td>Greenwich,CT</td>\n",
              "      <td>Inglorious Basterds</td>\n",
              "      <td>8.3</td>\n",
              "      <td>Action</td>\n",
              "      <td>3.0</td>\n",
              "    </tr>\n",
              "    <tr>\n",
              "      <th>19</th>\n",
              "      <td>Kara Pietrowicz</td>\n",
              "      <td>12th</td>\n",
              "      <td>Freehold, NJ</td>\n",
              "      <td>The Simpsons Movie</td>\n",
              "      <td>7.3</td>\n",
              "      <td>Adventure</td>\n",
              "      <td>4.0</td>\n",
              "    </tr>\n",
              "    <tr>\n",
              "      <th>20</th>\n",
              "      <td>Micah Cao</td>\n",
              "      <td>10th</td>\n",
              "      <td>Vancouver, Canada</td>\n",
              "      <td>Gladiator</td>\n",
              "      <td>8.2</td>\n",
              "      <td>Action</td>\n",
              "      <td>2.0</td>\n",
              "    </tr>\n",
              "    <tr>\n",
              "      <th>21</th>\n",
              "      <td>Logan Jin</td>\n",
              "      <td>12th</td>\n",
              "      <td>NaN</td>\n",
              "      <td>Hunger Game</td>\n",
              "      <td>NaN</td>\n",
              "      <td>Action</td>\n",
              "      <td>1.5</td>\n",
              "    </tr>\n",
              "    <tr>\n",
              "      <th>22</th>\n",
              "      <td>Michael Del Toro</td>\n",
              "      <td>10th</td>\n",
              "      <td>Chappaqua, NY</td>\n",
              "      <td>Back to The Future</td>\n",
              "      <td>8.5</td>\n",
              "      <td>Action</td>\n",
              "      <td>4.0</td>\n",
              "    </tr>\n",
              "    <tr>\n",
              "      <th>23</th>\n",
              "      <td>Lucy Malmud</td>\n",
              "      <td>10th</td>\n",
              "      <td>Manhattan, NY</td>\n",
              "      <td>Notting Hill</td>\n",
              "      <td>7.1</td>\n",
              "      <td>Drama</td>\n",
              "      <td>3.5</td>\n",
              "    </tr>\n",
              "    <tr>\n",
              "      <th>24</th>\n",
              "      <td>Rhea Kochher</td>\n",
              "      <td>12th</td>\n",
              "      <td>Edison, NJ</td>\n",
              "      <td>Shutter Island</td>\n",
              "      <td>8.2</td>\n",
              "      <td>Psychological Thriller</td>\n",
              "      <td>2.5</td>\n",
              "    </tr>\n",
              "    <tr>\n",
              "      <th>25</th>\n",
              "      <td>Vaibhav Bhatla</td>\n",
              "      <td>10th</td>\n",
              "      <td>Edison, NJ</td>\n",
              "      <td>Avengers: Endgame</td>\n",
              "      <td>8.4</td>\n",
              "      <td>Action</td>\n",
              "      <td>2.5</td>\n",
              "    </tr>\n",
              "    <tr>\n",
              "      <th>26</th>\n",
              "      <td>Winnie Yu</td>\n",
              "      <td>12th</td>\n",
              "      <td>Brooklyn, NY</td>\n",
              "      <td>Avengers: Endgame</td>\n",
              "      <td>8.4</td>\n",
              "      <td>Action</td>\n",
              "      <td>2.5</td>\n",
              "    </tr>\n",
              "    <tr>\n",
              "      <th>27</th>\n",
              "      <td>Maya Madhavan</td>\n",
              "      <td>11th</td>\n",
              "      <td>Bronxville, NY</td>\n",
              "      <td>The Hate U Give</td>\n",
              "      <td>7.4</td>\n",
              "      <td>Crime</td>\n",
              "      <td>2.5</td>\n",
              "    </tr>\n",
              "    <tr>\n",
              "      <th>28</th>\n",
              "      <td>Theresa Jiao</td>\n",
              "      <td>10th</td>\n",
              "      <td>Setauket, NY</td>\n",
              "      <td>The Lion King</td>\n",
              "      <td>8.5</td>\n",
              "      <td>Animation</td>\n",
              "      <td>1.5</td>\n",
              "    </tr>\n",
              "    <tr>\n",
              "      <th>29</th>\n",
              "      <td>Venkat Kunaparaju</td>\n",
              "      <td>12th</td>\n",
              "      <td>Edison, NJ</td>\n",
              "      <td>LOTR: The Return of the King</td>\n",
              "      <td>8.9</td>\n",
              "      <td>Action</td>\n",
              "      <td>3.5</td>\n",
              "    </tr>\n",
              "  </tbody>\n",
              "</table>\n",
              "</div>"
            ],
            "text/plain": [
              "                 Name  Grade  ...                   Genre Coding experience\n",
              "0      Aaditya Prasad   11th  ...                   Drama               5.0\n",
              "1     Catherine Peng    11th  ...                  Action               2.5\n",
              "2      Cole Glotfelty   11th  ...                   Drama               3.5\n",
              "3        Divya Kartik   12th  ...                  Action               4.0\n",
              "4         Ethan Baksh   12th  ...               Adventure               3.0\n",
              "5         Xiaotian Gu   11th  ...               Animation               4.0\n",
              "6    Jackson Petroske   11th  ...               Adventure               1.1\n",
              "7    Joaquin Portugal   12th  ...                  Comedy               2.0\n",
              "8           Junoh Lee   11th  ...                   Drama               3.5\n",
              "9       Matthew Solar   12th  ...                   Drama               2.0\n",
              "10   Nicholas Fowlkes   11th  ...                   Drama               2.5\n",
              "11   Sameer Narendran   12th  ...               Adventure               3.0\n",
              "12      Matthew Solar   12th  ...                   Drama               2.0\n",
              "13     Nicholas Friar   12th  ...                   Drama               NaN\n",
              "14         Renee Wang   11th  ...                  Action               2.5\n",
              "15    Isabella Vesely   10th  ...                  Comedy               2.5\n",
              "16    Ishani Sengupta   12th  ...                  Action               2.5\n",
              "17          Nick Yohn   12th  ...                  Action               2.5\n",
              "18    Emil Schaumburg   10th  ...                  Action               3.0\n",
              "19    Kara Pietrowicz  12th   ...               Adventure               4.0\n",
              "20          Micah Cao   10th  ...                  Action               2.0\n",
              "21          Logan Jin   12th  ...                  Action               1.5\n",
              "22   Michael Del Toro   10th  ...                  Action               4.0\n",
              "23        Lucy Malmud   10th  ...                   Drama               3.5\n",
              "24      Rhea Kochher    12th  ...  Psychological Thriller               2.5\n",
              "25     Vaibhav Bhatla   10th  ...                  Action               2.5\n",
              "26          Winnie Yu  12th   ...                  Action               2.5\n",
              "27      Maya Madhavan   11th  ...                   Crime               2.5\n",
              "28       Theresa Jiao   10th  ...               Animation               1.5\n",
              "29  Venkat Kunaparaju   12th  ...                  Action               3.5\n",
              "\n",
              "[30 rows x 7 columns]"
            ]
          },
          "metadata": {
            "tags": []
          },
          "execution_count": 3
        }
      ]
    },
    {
      "cell_type": "code",
      "metadata": {
        "colab_type": "code",
        "id": "X7b_tjEknqXy",
        "colab": {}
      },
      "source": [
        "df = df.dropna()\n",
        "names = df['Movie'].values\n",
        "score = df['IMDB Score'].values"
      ],
      "execution_count": 4,
      "outputs": []
    },
    {
      "cell_type": "markdown",
      "metadata": {
        "colab_type": "text",
        "id": "xkstl8sJK5jX"
      },
      "source": [
        "### Exercise 1 :  Plot the IMDB scores for all the movies\n",
        "- Use the [plt.scatter() function](https://matplotlib.org/3.2.1/api/_as_gen/matplotlib.pyplot.scatter.html)\n",
        "- x-axis indicates the name of the movies, y-axis shows the score.\n",
        "- do not forget to put on the labels for the axes."
      ]
    },
    {
      "cell_type": "code",
      "metadata": {
        "id": "kdCKk98C2wM7",
        "colab_type": "code",
        "colab": {
          "base_uri": "https://localhost:8080/",
          "height": 51
        },
        "outputId": "1aa292d2-af7f-4ad4-bf13-d8334fb404b8"
      },
      "source": [
        "print(score)"
      ],
      "execution_count": 12,
      "outputs": [
        {
          "output_type": "stream",
          "text": [
            "[8.3 8.4 9.3 8.4 8.6 8.4 7.9 8.  8.5 9.3 7.5 8.6 9.3 7.8 8.2 9.  8.3 8.3\n",
            " 7.3 8.2 8.5 7.1 8.2 8.4 8.4 7.4 8.5 8.9]\n"
          ],
          "name": "stdout"
        }
      ]
    },
    {
      "cell_type": "code",
      "metadata": {
        "id": "jGfjAWaYyPe8",
        "colab_type": "code",
        "colab": {
          "base_uri": "https://localhost:8080/",
          "height": 436
        },
        "outputId": "f23d2c67-8d8f-42ea-9f34-16cbbe6ea237"
      },
      "source": [
        "plt.scatter(names, score)\n",
        "plt.xticks(names, rotation = 90) # rotate ticks so they don't crowd together\n",
        "plt.xlabel('Name of the movie')\n",
        "plt.ylabel('IMDB Score');"
      ],
      "execution_count": 14,
      "outputs": [
        {
          "output_type": "display_data",
          "data": {
            "image/png": "[encoded data removed]",
            "text/plain": [
              "<Figure size 432x288 with 1 Axes>"
            ]
          },
          "metadata": {
            "tags": [],
            "needs_background": "light"
          }
        }
      ]
    },
    {
      "cell_type": "markdown",
      "metadata": {
        "id": "-soVXqqEyPe_",
        "colab_type": "text"
      },
      "source": [
        "### Exercise 2 : Calculate the mean and variance of the IMDB score of the movies"
      ]
    },
    {
      "cell_type": "code",
      "metadata": {
        "id": "Gd3Y3V1yyPfA",
        "colab_type": "code",
        "colab": {
          "base_uri": "https://localhost:8080/",
          "height": 51
        },
        "outputId": "e5022b20-d515-43b5-9d87-f9e0ef31188b"
      },
      "source": [
        "mean_score = np.mean(score)\n",
        "var_score = np.var(score)\n",
        "print(f\"Mean = {mean_score}\")\n",
        "print(f\"Variance  = {var_score}\")"
      ],
      "execution_count": 15,
      "outputs": [
        {
          "output_type": "stream",
          "text": [
            "Mean = 8.321428571428573\n",
            "Variance  = 0.3073979591836737\n"
          ],
          "name": "stdout"
        }
      ]
    },
    {
      "cell_type": "markdown",
      "metadata": {
        "id": "lxYWtX77yPfC",
        "colab_type": "text"
      },
      "source": [
        "### Exercise 3 :  Calculate the mean and variance of the IMDB score for each genre"
      ]
    },
    {
      "cell_type": "code",
      "metadata": {
        "id": "Prfa9Jps3mTZ",
        "colab_type": "code",
        "colab": {
          "base_uri": "https://localhost:8080/",
          "height": 85
        },
        "outputId": "89889efa-5629-493c-f8e5-bbcb2e9387dd"
      },
      "source": [
        "genre = df['Genre'].values "
      ],
      "execution_count": 16,
      "outputs": [
        {
          "output_type": "stream",
          "text": [
            "['Drama' 'Action' 'Drama' 'Action' 'Adventure' 'Animation' 'Adventure'\n",
            " 'Comedy' 'Drama' 'Drama' 'Drama' 'Adventure' 'Drama' 'Action' 'Comedy'\n",
            " 'Action' 'Action' 'Action' 'Adventure' 'Action' 'Action' 'Drama'\n",
            " 'Psychological Thriller' 'Action' 'Action' 'Crime' 'Animation' 'Action']\n"
          ],
          "name": "stdout"
        }
      ]
    },
    {
      "cell_type": "code",
      "metadata": {
        "id": "pmU4k_0yyPfC",
        "colab_type": "code",
        "colab": {
          "base_uri": "https://localhost:8080/",
          "height": 731
        },
        "outputId": "d9f6c079-a68e-4397-d722-5dd1751093d4"
      },
      "source": [
        "### Solution 1 :\n",
        "genre = df['Genre'].values \n",
        "unique_genre = np.unique(genre) # remove duplicates\n",
        "for g in unique_genre:\n",
        "    score_list = []\n",
        "    for i in range(len(score)):\n",
        "        if genre[i] == g:\n",
        "            score_list.append(score[i])\n",
        "    print(f\"This category has {len(score_list)} movies.\")\n",
        "    mean_score = np.mean(score_list)\n",
        "    var_score = np.var(score_list)\n",
        "    print(f\"Genre : {g}\")\n",
        "    print(f\"Mean = {mean_score}\")\n",
        "    print(f\"Variance  = {var_score}\")\n",
        "    print(\"\\n\")"
      ],
      "execution_count": 18,
      "outputs": [
        {
          "output_type": "stream",
          "text": [
            "This category has 11 movies.\n",
            "Genre : Action\n",
            "Mean = 8.41818181818182\n",
            "Variance  = 0.09421487603305789\n",
            "\n",
            "\n",
            "This category has 4 movies.\n",
            "Genre : Adventure\n",
            "Mean = 8.1\n",
            "Variance  = 0.2949999999999998\n",
            "\n",
            "\n",
            "This category has 2 movies.\n",
            "Genre : Animation\n",
            "Mean = 8.45\n",
            "Variance  = 0.0024999999999999823\n",
            "\n",
            "\n",
            "This category has 2 movies.\n",
            "Genre : Comedy\n",
            "Mean = 8.1\n",
            "Variance  = 0.009999999999999929\n",
            "\n",
            "\n",
            "This category has 1 movies.\n",
            "Genre : Crime\n",
            "Mean = 7.4\n",
            "Variance  = 0.0\n",
            "\n",
            "\n",
            "This category has 7 movies.\n",
            "Genre : Drama\n",
            "Mean = 8.471428571428572\n",
            "Variance  = 0.7020408163265311\n",
            "\n",
            "\n",
            "This category has 1 movies.\n",
            "Genre : Psychological Thriller\n",
            "Mean = 8.2\n",
            "Variance  = 0.0\n",
            "\n",
            "\n"
          ],
          "name": "stdout"
        }
      ]
    },
    {
      "cell_type": "markdown",
      "metadata": {
        "colab_type": "text",
        "id": "yIN8mDZ0K5jb"
      },
      "source": [
        "# Bonus :\n",
        "\n",
        "\n",
        "### Plot the number of movies for each genre\n",
        "- Use the [plt.bar() function](https://matplotlib.org/3.2.1/api/_as_gen/matplotlib.pyplot.bar.html)\n",
        "- x-axis indicates the genre, y-axis shows the count for each genre.\n",
        "- do not forget to put on the labels for the axes."
      ]
    },
    {
      "cell_type": "code",
      "metadata": {
        "id": "IX-Vm4KmyPfG",
        "colab_type": "code",
        "colab": {}
      },
      "source": [
        "# To-do"
      ],
      "execution_count": 8,
      "outputs": []
    },
    {
      "cell_type": "markdown",
      "metadata": {
        "colab_type": "text",
        "id": "VIanecbER2ra"
      },
      "source": [
        "### Plot the histogram for the IMDB score\n",
        "- Use [plt.hist() function](https://matplotlib.org/api/_as_gen/matplotlib.pyplot.hist.html)\n",
        "- x-axis indicates the score interval, y-axis shows the number of movies within each score interval\n",
        "- make the interval length 0.5\n",
        "- do not forget to put on the labels for the axes."
      ]
    },
    {
      "cell_type": "markdown",
      "metadata": {
        "id": "SmiwwvXCyPfI",
        "colab_type": "text"
      },
      "source": [
        "- numpy arange() might come in handy!"
      ]
    },
    {
      "cell_type": "code",
      "metadata": {
        "id": "4mW40lBeyPfJ",
        "colab_type": "code",
        "colab": {
          "base_uri": "https://localhost:8080/",
          "height": 153
        },
        "outputId": "9ad1ea71-1fae-49e5-b52f-a2bff7e36bde"
      },
      "source": [
        "a = 0\n",
        "b = 1\n",
        "interval = 0.01\n",
        "print (np.arange(a, b, interval))"
      ],
      "execution_count": 9,
      "outputs": [
        {
          "output_type": "stream",
          "text": [
            "[0.   0.01 0.02 0.03 0.04 0.05 0.06 0.07 0.08 0.09 0.1  0.11 0.12 0.13\n",
            " 0.14 0.15 0.16 0.17 0.18 0.19 0.2  0.21 0.22 0.23 0.24 0.25 0.26 0.27\n",
            " 0.28 0.29 0.3  0.31 0.32 0.33 0.34 0.35 0.36 0.37 0.38 0.39 0.4  0.41\n",
            " 0.42 0.43 0.44 0.45 0.46 0.47 0.48 0.49 0.5  0.51 0.52 0.53 0.54 0.55\n",
            " 0.56 0.57 0.58 0.59 0.6  0.61 0.62 0.63 0.64 0.65 0.66 0.67 0.68 0.69\n",
            " 0.7  0.71 0.72 0.73 0.74 0.75 0.76 0.77 0.78 0.79 0.8  0.81 0.82 0.83\n",
            " 0.84 0.85 0.86 0.87 0.88 0.89 0.9  0.91 0.92 0.93 0.94 0.95 0.96 0.97\n",
            " 0.98 0.99]\n"
          ],
          "name": "stdout"
        }
      ]
    },
    {
      "cell_type": "code",
      "metadata": {
        "id": "jtXiSmvkyPfL",
        "colab_type": "code",
        "colab": {}
      },
      "source": [
        "# To-do"
      ],
      "execution_count": 10,
      "outputs": []
    }
  ]
}