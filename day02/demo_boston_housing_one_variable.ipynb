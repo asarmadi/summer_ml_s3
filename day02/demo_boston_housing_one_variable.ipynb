{
  "nbformat": 4,
  "nbformat_minor": 0,
  "metadata": {
    "colab": {
      "name": "Boston_Housing_One_Variable.ipynb",
      "provenance": [],
      "collapsed_sections": []
    },
    "kernelspec": {
      "display_name": "Python 3",
      "language": "python",
      "name": "python3"
    },
    "language_info": {
      "codemirror_mode": {
        "name": "ipython",
        "version": 3
      },
      "file_extension": ".py",
      "mimetype": "text/x-python",
      "name": "python",
      "nbconvert_exporter": "python",
      "pygments_lexer": "ipython3",
      "version": "3.6.9"
    }
  },
  "cells": [
    {
      "cell_type": "code",
      "metadata": {
        "id": "bq-JEo65C-U-",
        "colab_type": "code",
        "colab": {}
      },
      "source": [
        "import pandas as pd\n",
        "import numpy as np"
      ],
      "execution_count": null,
      "outputs": []
    },
    {
      "cell_type": "markdown",
      "metadata": {
        "id": "x0-eZ6o1C-VD",
        "colab_type": "text"
      },
      "source": [
        "## Load data from csv file"
      ]
    },
    {
      "cell_type": "code",
      "metadata": {
        "colab_type": "code",
        "id": "7ySvcVJHBHvG",
        "colab": {
          "base_uri": "https://localhost:8080/",
          "height": 103
        },
        "outputId": "4f766854-0d1b-4148-9134-a4d1952f26cb"
      },
      "source": [
        "names = ['CRIM','ZN','INDUS','CHAS','NOX','RM','AGE','DIS','RAD','TAX','PTRATIO','B','LSTAT','PRICE']\n",
        "df = pd.read_csv('https://archive.ics.uci.edu/ml/machine-learning-databases/housing/housing.data',\n",
        "                header=None, names=names , delim_whitespace = True, na_values='?')\n",
        "\n",
        "\"\"\"\n",
        "Attribute Information:\n",
        "    1.  CRIM      per capita crime rate by town\n",
        "    2.  ZN        proportion of residential land zoned for lots over \n",
        "                  25,000 sq.ft.\n",
        "    3.  INDUS     proportion of non-retail business acres per town\n",
        "    4.  CHAS      Charles River dummy variable (= 1 if tract bounds \n",
        "                  river; 0 otherwise)\n",
        "    5.  NOX       nitric oxides concentration (parts per 10 million)\n",
        "    6.  RM        average number of rooms per dwelling\n",
        "    7.  AGE       proportion of owner-occupied units built prior to 1940\n",
        "    8.  DIS       weighted distances to five Boston employment centres\n",
        "    9.  RAD       index of accessibility to radial highways\n",
        "    10. TAX       full-value property-tax rate per $10,000\n",
        "    11. PTRATIO   pupil-teacher ratio by town\n",
        "    12. B         1000(Bk - 0.63)^2 where Bk is the proportion of blocks by town\n",
        "    13. LSTAT     % lower status of the population\n",
        "    14. MEDV      Median value of owner-occupied homes in $1000's\n",
        "\"\"\"\n",
        "\n"
      ],
      "execution_count": null,
      "outputs": [
        {
          "output_type": "execute_result",
          "data": {
            "application/vnd.google.colaboratory.intrinsic+json": {
              "type": "string"
            },
            "text/plain": [
              "\"\\nAttribute Information:\\n    1.  CRIM      per capita crime rate by town\\n    2.  ZN        proportion of residential land zoned for lots over \\n                  25,000 sq.ft.\\n    3.  INDUS     proportion of non-retail business acres per town\\n    4.  CHAS      Charles River dummy variable (= 1 if tract bounds \\n                  river; 0 otherwise)\\n    5.  NOX       nitric oxides concentration (parts per 10 million)\\n    6.  RM        average number of rooms per dwelling\\n    7.  AGE       proportion of owner-occupied units built prior to 1940\\n    8.  DIS       weighted distances to five Boston employment centres\\n    9.  RAD       index of accessibility to radial highways\\n    10. TAX       full-value property-tax rate per $10,000\\n    11. PTRATIO   pupil-teacher ratio by town\\n    12. B         1000(Bk - 0.63)^2 where Bk is the proportion of blocks by town\\n    13. LSTAT     % lower status of the population\\n    14. MEDV      Median value of owner-occupied homes in $1000's\\n\""
            ]
          },
          "metadata": {
            "tags": []
          },
          "execution_count": 23
        }
      ]
    },
    {
      "cell_type": "code",
      "metadata": {
        "id": "CcMsMoBLC-VJ",
        "colab_type": "code",
        "colab": {
          "base_uri": "https://localhost:8080/",
          "height": 272
        },
        "outputId": "bda90bfd-9966-4aa9-965a-67914e534cdb"
      },
      "source": [
        "print ('df is an object of ', type(df))\n",
        "print ('\\n')\n",
        "print(df.shape)\n",
        "df.head(5)"
      ],
      "execution_count": null,
      "outputs": [
        {
          "output_type": "stream",
          "text": [
            "df is an object of  <class 'pandas.core.frame.DataFrame'>\n",
            "\n",
            "\n",
            "(506, 14)\n"
          ],
          "name": "stdout"
        },
        {
          "output_type": "execute_result",
          "data": {
            "text/html": [
              "<div>\n",
              "<style scoped>\n",
              "    .dataframe tbody tr th:only-of-type {\n",
              "        vertical-align: middle;\n",
              "    }\n",
              "\n",
              "    .dataframe tbody tr th {\n",
              "        vertical-align: top;\n",
              "    }\n",
              "\n",
              "    .dataframe thead th {\n",
              "        text-align: right;\n",
              "    }\n",
              "</style>\n",
              "<table border=\"1\" class=\"dataframe\">\n",
              "  <thead>\n",
              "    <tr style=\"text-align: right;\">\n",
              "      <th></th>\n",
              "      <th>CRIM</th>\n",
              "      <th>ZN</th>\n",
              "      <th>INDUS</th>\n",
              "      <th>CHAS</th>\n",
              "      <th>NOX</th>\n",
              "      <th>RM</th>\n",
              "      <th>AGE</th>\n",
              "      <th>DIS</th>\n",
              "      <th>RAD</th>\n",
              "      <th>TAX</th>\n",
              "      <th>PTRATIO</th>\n",
              "      <th>B</th>\n",
              "      <th>LSTAT</th>\n",
              "      <th>PRICE</th>\n",
              "    </tr>\n",
              "  </thead>\n",
              "  <tbody>\n",
              "    <tr>\n",
              "      <th>0</th>\n",
              "      <td>0.00632</td>\n",
              "      <td>18.0</td>\n",
              "      <td>2.31</td>\n",
              "      <td>0</td>\n",
              "      <td>0.538</td>\n",
              "      <td>6.575</td>\n",
              "      <td>65.2</td>\n",
              "      <td>4.0900</td>\n",
              "      <td>1</td>\n",
              "      <td>296.0</td>\n",
              "      <td>15.3</td>\n",
              "      <td>396.90</td>\n",
              "      <td>4.98</td>\n",
              "      <td>24.0</td>\n",
              "    </tr>\n",
              "    <tr>\n",
              "      <th>1</th>\n",
              "      <td>0.02731</td>\n",
              "      <td>0.0</td>\n",
              "      <td>7.07</td>\n",
              "      <td>0</td>\n",
              "      <td>0.469</td>\n",
              "      <td>6.421</td>\n",
              "      <td>78.9</td>\n",
              "      <td>4.9671</td>\n",
              "      <td>2</td>\n",
              "      <td>242.0</td>\n",
              "      <td>17.8</td>\n",
              "      <td>396.90</td>\n",
              "      <td>9.14</td>\n",
              "      <td>21.6</td>\n",
              "    </tr>\n",
              "    <tr>\n",
              "      <th>2</th>\n",
              "      <td>0.02729</td>\n",
              "      <td>0.0</td>\n",
              "      <td>7.07</td>\n",
              "      <td>0</td>\n",
              "      <td>0.469</td>\n",
              "      <td>7.185</td>\n",
              "      <td>61.1</td>\n",
              "      <td>4.9671</td>\n",
              "      <td>2</td>\n",
              "      <td>242.0</td>\n",
              "      <td>17.8</td>\n",
              "      <td>392.83</td>\n",
              "      <td>4.03</td>\n",
              "      <td>34.7</td>\n",
              "    </tr>\n",
              "    <tr>\n",
              "      <th>3</th>\n",
              "      <td>0.03237</td>\n",
              "      <td>0.0</td>\n",
              "      <td>2.18</td>\n",
              "      <td>0</td>\n",
              "      <td>0.458</td>\n",
              "      <td>6.998</td>\n",
              "      <td>45.8</td>\n",
              "      <td>6.0622</td>\n",
              "      <td>3</td>\n",
              "      <td>222.0</td>\n",
              "      <td>18.7</td>\n",
              "      <td>394.63</td>\n",
              "      <td>2.94</td>\n",
              "      <td>33.4</td>\n",
              "    </tr>\n",
              "    <tr>\n",
              "      <th>4</th>\n",
              "      <td>0.06905</td>\n",
              "      <td>0.0</td>\n",
              "      <td>2.18</td>\n",
              "      <td>0</td>\n",
              "      <td>0.458</td>\n",
              "      <td>7.147</td>\n",
              "      <td>54.2</td>\n",
              "      <td>6.0622</td>\n",
              "      <td>3</td>\n",
              "      <td>222.0</td>\n",
              "      <td>18.7</td>\n",
              "      <td>396.90</td>\n",
              "      <td>5.33</td>\n",
              "      <td>36.2</td>\n",
              "    </tr>\n",
              "  </tbody>\n",
              "</table>\n",
              "</div>"
            ],
            "text/plain": [
              "      CRIM    ZN  INDUS  CHAS    NOX  ...    TAX  PTRATIO       B  LSTAT  PRICE\n",
              "0  0.00632  18.0   2.31     0  0.538  ...  296.0     15.3  396.90   4.98   24.0\n",
              "1  0.02731   0.0   7.07     0  0.469  ...  242.0     17.8  396.90   9.14   21.6\n",
              "2  0.02729   0.0   7.07     0  0.469  ...  242.0     17.8  392.83   4.03   34.7\n",
              "3  0.03237   0.0   2.18     0  0.458  ...  222.0     18.7  394.63   2.94   33.4\n",
              "4  0.06905   0.0   2.18     0  0.458  ...  222.0     18.7  396.90   5.33   36.2\n",
              "\n",
              "[5 rows x 14 columns]"
            ]
          },
          "metadata": {
            "tags": []
          },
          "execution_count": 25
        }
      ]
    },
    {
      "cell_type": "markdown",
      "metadata": {
        "id": "kBjr7COpC-VM",
        "colab_type": "text"
      },
      "source": [
        "### Store values in the pandas dataframe as numpy arrays\n",
        "- we want to use the average number of rooms to predict the housing price\n",
        "- we need to extract the data from df and convert them to numpy arrays"
      ]
    },
    {
      "cell_type": "code",
      "metadata": {
        "colab_type": "code",
        "id": "DnClZNwpEms6",
        "colab": {
          "base_uri": "https://localhost:8080/",
          "height": 34
        },
        "outputId": "07de0235-b69f-4d2f-98fd-a84cffe2e8c2"
      },
      "source": [
        "y = df['PRICE'].values\n",
        "x = df['RM'].values\n",
        "print ('both x and y are now objects of', type(x))"
      ],
      "execution_count": null,
      "outputs": [
        {
          "output_type": "stream",
          "text": [
            "both x and y are now objects of <class 'numpy.ndarray'>\n"
          ],
          "name": "stdout"
        }
      ]
    },
    {
      "cell_type": "markdown",
      "metadata": {
        "id": "ShQersJHC-VP",
        "colab_type": "text"
      },
      "source": [
        "### Plot the housing price against the average number of rooms"
      ]
    },
    {
      "cell_type": "code",
      "metadata": {
        "colab_type": "code",
        "id": "eb1dMMhXFUqx",
        "colab": {
          "base_uri": "https://localhost:8080/",
          "height": 279
        },
        "outputId": "1262df67-16b2-4bcb-aab5-9b40d78e4c6a"
      },
      "source": [
        "import matplotlib.pyplot as plt\n",
        "\n",
        "plt.scatter(x, y)\n",
        "plt.xlabel('Average Number of Rooms')\n",
        "plt.ylabel('Price')\n",
        "plt.grid()"
      ],
      "execution_count": null,
      "outputs": [
        {
          "output_type": "display_data",
          "data": {
            "image/png": "[encoded data removed]",
            "text/plain": [
              "<Figure size 432x288 with 1 Axes>"
            ]
          },
          "metadata": {
            "tags": [],
            "needs_background": "light"
          }
        }
      ]
    },
    {
      "cell_type": "markdown",
      "metadata": {
        "colab_type": "text",
        "id": "AgOsOzRXTbIP"
      },
      "source": [
        "# Guess a line to fit the data"
      ]
    },
    {
      "cell_type": "code",
      "metadata": {
        "colab_type": "code",
        "id": "luFvmrCzF5Wx",
        "colab": {
          "base_uri": "https://localhost:8080/",
          "height": 279
        },
        "outputId": "0d27096e-5895-4065-8984-1afa14053234"
      },
      "source": [
        "w1 = 9\n",
        "w0 = -30\n",
        "xplt = np.linspace(3,9,100)\n",
        "yplt = w1 * xplt + w0\n",
        "plt.plot(x,y,'o')    # Plot the data points\n",
        "\n",
        "plt.plot(xplt,yplt,'-',linewidth=3)  # Plot the line\n",
        "plt.xlabel('Average number of rooms in a region')\n",
        "plt.ylabel('Price')\n",
        "plt.grid()\n"
      ],
      "execution_count": null,
      "outputs": [
        {
          "output_type": "display_data",
          "data": {
            "image/png": "[encoded data removed]",
            "text/plain": [
              "<Figure size 432x288 with 1 Axes>"
            ]
          },
          "metadata": {
            "tags": [],
            "needs_background": "light"
          }
        }
      ]
    },
    {
      "cell_type": "markdown",
      "metadata": {
        "colab_type": "text",
        "id": "_k2ftd_WPxu8"
      },
      "source": [
        "## Calculate the Mean Squared Error (MSE) and Mean Absolute Error (MAE) to determine goodness of fit"
      ]
    },
    {
      "cell_type": "markdown",
      "metadata": {
        "id": "9rUogYlxC-VX",
        "colab_type": "text"
      },
      "source": [
        "### Reminder :\n",
        "\n",
        "Given :\n",
        "- a dataset : $(x_i, y_i)$, $i = 1, 2, 3, ..., N$\n",
        "- a model : $\\hat{y} = w_1x + w_0$\n",
        "\n",
        "We can compute the following two error functions :\n",
        "- Mean Squared Error: $\\displaystyle MSE = \\frac{1}{N}\\sum_{i=1}^N || y_i - \\hat{y_i}||^2$\n",
        "- Mean Absolute Error: $\\displaystyle MAE = \\frac{1}{N}\\sum_{i=1}^N |y_i - \\hat{y_i}|$"
      ]
    },
    {
      "cell_type": "code",
      "metadata": {
        "colab_type": "code",
        "id": "WhvseoAl_Rk-",
        "colab": {
          "base_uri": "https://localhost:8080/",
          "height": 51
        },
        "outputId": "27edec43-16f3-4918-dc52-33b78c81dbb6"
      },
      "source": [
        "x = df['RM'].values\n",
        "y = df['PRICE'].values\n",
        "\n",
        "# Huaijiang's guess\n",
        "w1 = 9\n",
        "w0 = -30\n",
        "\n",
        "yhat = w1*x + w0\n",
        "MSE = np.mean((yhat - y) ** 2)\n",
        "MAE = np.mean(np.abs(yhat - y))\n",
        "print (f'MSE: {MSE}, MAE: {MAE}')\n",
        "\n",
        "# Divya's guess\n",
        "w1 = 11\n",
        "w0 = -45\n",
        "\n",
        "yhat = w1*x + w0\n",
        "MSE = np.mean((yhat - y) ** 2)\n",
        "MAE = np.mean(np.abs(yhat - y))\n",
        "print (f'MSE: {MSE}, MAE: {MAE}')"
      ],
      "execution_count": null,
      "outputs": [
        {
          "output_type": "stream",
          "text": [
            "MSE: 59.83774942094861, MAE: 5.807100790513834\n",
            "MSE: 47.929388709486155, MAE: 4.6492391304347835\n"
          ],
          "name": "stdout"
        }
      ]
    },
    {
      "cell_type": "markdown",
      "metadata": {
        "id": "CjVo7dNTSeaY",
        "colab_type": "text"
      },
      "source": [
        "### Compute the optimal values of $w_0, w_1$ using the following formulas\n",
        "- $w_1=\\frac{\\sigma_{xy}}{\\sigma_x^2}$ and $w_0=\\bar{y} - w_1\\bar{x}$\n",
        "- $\\begin{bmatrix} w_0 \\\\ w_1 \\end{bmatrix} = (X^TX)^{-1}X^TY$\n",
        "\n",
        "### Compare the results to verify they are equivalent\n",
        "### Compute the MSE and MAE for the optimal $w_0, w_1$ on the given dataset."
      ]
    },
    {
      "cell_type": "code",
      "metadata": {
        "id": "4g--mW5aS3Wz",
        "colab_type": "code",
        "colab": {
          "base_uri": "https://localhost:8080/",
          "height": 51
        },
        "outputId": "11e4d0c5-dd4e-44f6-a2d9-851652b8f7df"
      },
      "source": [
        "## Your code here\n",
        "x = df['RM'].values\n",
        "\n",
        "mean_x = np.mean(x)\n",
        "mean_y = np.mean(y)\n",
        "\n",
        "var_x = np.var(x)\n",
        "covxy = np.mean((x-mean_x)*(y-mean_y))\n",
        "\n",
        "''' \n",
        "Alternatively, use np.cov(x, y)\n",
        "This function omputes the covariance matrix. \n",
        "More details can be found here https://numpy.org/doc/stable/reference/generated/numpy.cov.html\n",
        "'''\n",
        "covxy = np.cov(x, y)\n",
        "''' \n",
        "The diagonal elements of this covariance matrix are respectivly the variance of x and the variance of y; \n",
        "The off-diagonals are the covariance of x and y.\n",
        "M[i, j] returns element at the i-th row and j-th column of the matrix M.\n",
        "'''\n",
        "covxy = covxy[0, 1]\n",
        "\n",
        "w1 = covxy/var_x\n",
        "w0 = mean_y - w1*mean_x\n",
        "\n",
        "print (\"w0:\", w0)\n",
        "print (\"w1:\", w1)"
      ],
      "execution_count": null,
      "outputs": [
        {
          "output_type": "stream",
          "text": [
            "w0: -34.67062077643857\n",
            "w1: 9.10210898118031\n"
          ],
          "name": "stdout"
        }
      ]
    },
    {
      "cell_type": "code",
      "metadata": {
        "id": "SCgWS2tpOnZ5",
        "colab_type": "code",
        "colab": {}
      },
      "source": [
        "x = df['RM'].values\n",
        "np.ones((x.shape[0], 1))"
      ],
      "execution_count": null,
      "outputs": []
    },
    {
      "cell_type": "code",
      "metadata": {
        "id": "rAwmCLKL-TK6",
        "colab_type": "code",
        "colab": {
          "base_uri": "https://localhost:8080/",
          "height": 51
        },
        "outputId": "374a1715-4e22-405d-879c-4daa1927dc08"
      },
      "source": [
        "x = df['RM'].values\n",
        "bias_term = np.ones((x.shape[0], 1))\n",
        "X = np.hstack([bias_term, x.reshape(-1, 1)])\n",
        "# pseudo-inverse\n",
        "w = np.linalg.inv(X.transpose().dot(X)).dot(X.transpose().dot(y))\n",
        "\n",
        "print (\"w0:\", w[0])\n",
        "print (\"w1:\", w[1])"
      ],
      "execution_count": null,
      "outputs": [
        {
          "output_type": "stream",
          "text": [
            "w0: -34.67062077643459\n",
            "w1: 9.102108981179697\n"
          ],
          "name": "stdout"
        }
      ]
    },
    {
      "cell_type": "code",
      "metadata": {
        "id": "ETTKi2yQ--cD",
        "colab_type": "code",
        "colab": {
          "base_uri": "https://localhost:8080/",
          "height": 315
        },
        "outputId": "f8e25543-9394-4631-8a9d-a64f037d067f"
      },
      "source": [
        "xplt = np.linspace(3,9,100)\n",
        "yplt = w0 + w1*xplt\n",
        "\n",
        "plt.plot(xplt, yplt, c='red', linewidth = 3)\n",
        "plt.scatter(x, y)\n",
        "plt.grid()\n",
        "plt.title('Line of the best fit')\n",
        "\n",
        "yhat = w0 + w1*x\n",
        "MSE = np.mean((y - yhat)**2)\n",
        "MAE = np.mean(np.abs(y - yhat))\n",
        "print('MSE: ', MSE)\n",
        "print('MAE: ', MAE)"
      ],
      "execution_count": null,
      "outputs": [
        {
          "output_type": "stream",
          "text": [
            "MSE:  43.60055177116956\n",
            "MAE:  4.4477729015322325\n"
          ],
          "name": "stdout"
        },
        {
          "output_type": "display_data",
          "data": {
            "image/png": "[encoded data removed]",
            "text/plain": [
              "<Figure size 432x288 with 1 Axes>"
            ]
          },
          "metadata": {
            "tags": [],
            "needs_background": "light"
          }
        }
      ]
    },
    {
      "cell_type": "code",
      "metadata": {
        "id": "33PSRqhu-_7x",
        "colab_type": "code",
        "colab": {}
      },
      "source": [
        ""
      ],
      "execution_count": null,
      "outputs": []
    }
  ]
}