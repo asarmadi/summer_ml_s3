{
  "nbformat": 4,
  "nbformat_minor": 0,
  "metadata": {
    "colab": {
      "name": "demo_vectorized_code.ipynb",
      "provenance": [],
      "authorship_tag": "ABX9TyM016fbI7/97cz6xwC6OlRo"
    },
    "kernelspec": {
      "name": "python3",
      "display_name": "Python 3"
    }
  },
  "cells": [
    {
      "cell_type": "code",
      "metadata": {
        "id": "NIgEkFTMWmx9",
        "colab_type": "code",
        "colab": {}
      },
      "source": [
        "import numpy as np"
      ],
      "execution_count": 1,
      "outputs": []
    },
    {
      "cell_type": "markdown",
      "metadata": {
        "id": "yifYsTxWWtNt",
        "colab_type": "text"
      },
      "source": [
        "## Using vector operations can simplify our code\n",
        "### Example 1\n",
        "- Given two list $a$ and $b$, create a new list such that $c_i = a_i + b_i$"
      ]
    },
    {
      "cell_type": "code",
      "metadata": {
        "id": "SeLCdEidXULv",
        "colab_type": "code",
        "colab": {
          "base_uri": "https://localhost:8080/",
          "height": 51
        },
        "outputId": "a21bfd1b-50f7-4972-e74a-d95e5bdef211"
      },
      "source": [
        "a = [1,2,3]\n",
        "b = [4,5,6]\n",
        "\n",
        "# non-vectorized \n",
        "c = []\n",
        "N = len(a)\n",
        "for i in range(N):\n",
        "    c.append(a[i] + b[i])\n",
        "print(c)\n",
        "\n",
        "# vectorized \n",
        "a = np.array(a)\n",
        "b = np.array(b)\n",
        "c = a + b\n",
        "print(c)"
      ],
      "execution_count": 4,
      "outputs": [
        {
          "output_type": "stream",
          "text": [
            "[5, 7, 9]\n",
            "[5 7 9]\n"
          ],
          "name": "stdout"
        }
      ]
    },
    {
      "cell_type": "markdown",
      "metadata": {
        "id": "lIyn8M13X_MN",
        "colab_type": "text"
      },
      "source": [
        "### Example 2\n",
        "- Given two list $a$ and $b$, compute $\\sum_{i=1}^N (a_i-b_i)^2$"
      ]
    },
    {
      "cell_type": "code",
      "metadata": {
        "id": "q6dHT_B4YFnH",
        "colab_type": "code",
        "colab": {
          "base_uri": "https://localhost:8080/",
          "height": 51
        },
        "outputId": "5a3199d8-c1f5-4946-f12f-fd5558cf5b42"
      },
      "source": [
        "# non-vectorized\n",
        "a = [1,2,3]\n",
        "b = [4,5,6]\n",
        "sum = 0\n",
        "N = len(a)\n",
        "for i in range(N):\n",
        "    sum += (a[i] - b[i]) ** 2\n",
        "print(sum)\n",
        "\n",
        "# vectorized \n",
        "a = np.array([1,2,3])\n",
        "b = np.array([4,5,6])\n",
        "sum = np.sum((a - b) ** 2)\n",
        "print(sum)"
      ],
      "execution_count": 5,
      "outputs": [
        {
          "output_type": "stream",
          "text": [
            "27\n",
            "27\n"
          ],
          "name": "stdout"
        }
      ]
    },
    {
      "cell_type": "markdown",
      "metadata": {
        "id": "rB5zliaqYz42",
        "colab_type": "text"
      },
      "source": [
        "### Example 3\n",
        "- Given two list $a$ and $b$, compute $\\frac{1}{N} \\sum_{i=1}^N(a_i-b_i)^2$"
      ]
    },
    {
      "cell_type": "code",
      "metadata": {
        "id": "BoW48zUWY-_6",
        "colab_type": "code",
        "colab": {}
      },
      "source": [
        "# non-vectorized\n",
        "a = [1,2,3]\n",
        "b = [4,5,6]\n",
        "sum = 0\n",
        "N = len(a)\n",
        "for i in range(N):\n",
        "    sum += (a[i] - b[i]) ** 2\n",
        "print(sum/3)\n",
        "\n",
        "# vectorized \n",
        "a = np.array([1,2,3])\n",
        "b = np.array([4,5,6])\n",
        "sum = np.mean((a - b) ** 2)\n",
        "print(sum)"
      ],
      "execution_count": null,
      "outputs": []
    }
  ]
}