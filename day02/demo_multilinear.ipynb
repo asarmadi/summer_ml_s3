{
  "nbformat": 4,
  "nbformat_minor": 0,
  "metadata": {
    "colab": {
      "name": "Day2_Student.ipynb",
      "provenance": [],
      "collapsed_sections": [
        "vKrhN7KoDRi1"
      ]
    },
    "kernelspec": {
      "display_name": "Python 3",
      "language": "python",
      "name": "python3"
    },
    "language_info": {
      "codemirror_mode": {
        "name": "ipython",
        "version": 3
      },
      "file_extension": ".py",
      "mimetype": "text/x-python",
      "name": "python",
      "nbconvert_exporter": "python",
      "pygments_lexer": "ipython3",
      "version": "3.6.9"
    }
  },
  "cells": [
    {
      "cell_type": "markdown",
      "metadata": {
        "colab_type": "text",
        "id": "w78DOASLWcCD"
      },
      "source": [
        "# Demo: Multivariable Regression on Boston Housing Data"
      ]
    },
    {
      "cell_type": "code",
      "metadata": {
        "colab_type": "code",
        "id": "iDw4tjflX1C1",
        "colab": {
          "base_uri": "https://localhost:8080/",
          "height": 103
        },
        "outputId": "f2f715c9-e0ba-438d-ec4e-32e093ecc7b4"
      },
      "source": [
        "import pandas as pd\n",
        "import numpy as np\n",
        "\n",
        "names =['CRIM', 'ZN', 'INDUS', 'CHAS', 'NOX', 'RM', 'AGE',  'DIS', 'RAD', 'TAX', 'PTRATIO', 'B', 'LSTAT', 'PRICE']\n",
        "\n",
        "df = pd.read_csv('https://archive.ics.uci.edu/ml/machine-learning-databases/housing/housing.data', \n",
        "                 header=None, delim_whitespace=True, names=names, na_values='?')\n",
        "\n",
        "\"\"\"\n",
        "Attribute Information:\n",
        "    1.  CRIM      per capita crime rate by town\n",
        "    2.  ZN        proportion of residential land zoned for lots over \n",
        "                  25,000 sq.ft.\n",
        "    3.  INDUS     proportion of non-retail business acres per town\n",
        "    4.  CHAS      Charles River dummy variable (= 1 if tract bounds \n",
        "                  river; 0 otherwise)\n",
        "    5.  NOX       nitric oxides concentration (parts per 10 million)\n",
        "    6.  RM        average number of rooms per dwelling\n",
        "    7.  AGE       proportion of owner-occupied units built prior to 1940\n",
        "    8.  DIS       weighted distances to five Boston employment centres\n",
        "    9.  RAD       index of accessibility to radial highways\n",
        "    10. TAX       full-value property-tax rate per $10,000\n",
        "    11. PTRATIO   pupil-teacher ratio by town\n",
        "    12. B         1000(Bk - 0.63)^2 where Bk is the proportion of blocks by town\n",
        "    13. LSTAT     % lower status of the population\n",
        "    14. MEDV      Median value of owner-occupied homes in $1000's\n",
        "\"\"\""
      ],
      "execution_count": 6,
      "outputs": [
        {
          "output_type": "execute_result",
          "data": {
            "application/vnd.google.colaboratory.intrinsic+json": {
              "type": "string"
            },
            "text/plain": [
              "\"\\nAttribute Information:\\n    1.  CRIM      per capita crime rate by town\\n    2.  ZN        proportion of residential land zoned for lots over \\n                  25,000 sq.ft.\\n    3.  INDUS     proportion of non-retail business acres per town\\n    4.  CHAS      Charles River dummy variable (= 1 if tract bounds \\n                  river; 0 otherwise)\\n    5.  NOX       nitric oxides concentration (parts per 10 million)\\n    6.  RM        average number of rooms per dwelling\\n    7.  AGE       proportion of owner-occupied units built prior to 1940\\n    8.  DIS       weighted distances to five Boston employment centres\\n    9.  RAD       index of accessibility to radial highways\\n    10. TAX       full-value property-tax rate per $10,000\\n    11. PTRATIO   pupil-teacher ratio by town\\n    12. B         1000(Bk - 0.63)^2 where Bk is the proportion of blocks by town\\n    13. LSTAT     % lower status of the population\\n    14. MEDV      Median value of owner-occupied homes in $1000's\\n\""
            ]
          },
          "metadata": {
            "tags": []
          },
          "execution_count": 6
        }
      ]
    },
    {
      "cell_type": "markdown",
      "metadata": {
        "colab_type": "text",
        "id": "3_jtITf0KLkf"
      },
      "source": [
        "## Forming the Design Matrix\n",
        "\n",
        "We want to put our features into feature vectors (stacked into a design matrix). Here we check the difference between the numpy and pandas datatype, and see the importance of using ```df['feature'].values``` to get a numpy array returned."
      ]
    },
    {
      "cell_type": "code",
      "metadata": {
        "id": "s80dBV_LT02R",
        "colab_type": "code",
        "colab": {
          "base_uri": "https://localhost:8080/",
          "height": 34
        },
        "outputId": "f2b450ea-496d-4696-a785-ad9dfa7dc731"
      },
      "source": [
        "print(df.columns.to_list())"
      ],
      "execution_count": 7,
      "outputs": [
        {
          "output_type": "stream",
          "text": [
            "['CRIM', 'ZN', 'INDUS', 'CHAS', 'NOX', 'RM', 'AGE', 'DIS', 'RAD', 'TAX', 'PTRATIO', 'B', 'LSTAT', 'PRICE']\n"
          ],
          "name": "stdout"
        }
      ]
    },
    {
      "cell_type": "code",
      "metadata": {
        "colab_type": "code",
        "id": "LTKzw2raPlZj",
        "colab": {
          "base_uri": "https://localhost:8080/",
          "height": 34
        },
        "outputId": "8a8456a0-4231-4168-f576-1787214db3d2"
      },
      "source": [
        "features=df.columns.to_list()\n",
        "features.remove('PRICE')\n",
        "print(features)"
      ],
      "execution_count": 8,
      "outputs": [
        {
          "output_type": "stream",
          "text": [
            "['CRIM', 'ZN', 'INDUS', 'CHAS', 'NOX', 'RM', 'AGE', 'DIS', 'RAD', 'TAX', 'PTRATIO', 'B', 'LSTAT']\n"
          ],
          "name": "stdout"
        }
      ]
    },
    {
      "cell_type": "markdown",
      "metadata": {
        "colab_type": "text",
        "id": "jhjwussDaUHG"
      },
      "source": [
        "Treat all the features as a vector, $\\mathbf{x}$, and stack the samples in a $N$ by $D$ matrix, $X$, where $N$ is the number of samples and $D$ is the number of features."
      ]
    },
    {
      "cell_type": "code",
      "metadata": {
        "colab_type": "code",
        "id": "jS5abEJGZWEp",
        "colab": {
          "base_uri": "https://localhost:8080/",
          "height": 255
        },
        "outputId": "9083c76c-bcae-430c-8bba-85f1954553d4"
      },
      "source": [
        "print(df)"
      ],
      "execution_count": 9,
      "outputs": [
        {
          "output_type": "stream",
          "text": [
            "        CRIM    ZN  INDUS  CHAS    NOX  ...    TAX  PTRATIO       B  LSTAT  PRICE\n",
            "0    0.00632  18.0   2.31     0  0.538  ...  296.0     15.3  396.90   4.98   24.0\n",
            "1    0.02731   0.0   7.07     0  0.469  ...  242.0     17.8  396.90   9.14   21.6\n",
            "2    0.02729   0.0   7.07     0  0.469  ...  242.0     17.8  392.83   4.03   34.7\n",
            "3    0.03237   0.0   2.18     0  0.458  ...  222.0     18.7  394.63   2.94   33.4\n",
            "4    0.06905   0.0   2.18     0  0.458  ...  222.0     18.7  396.90   5.33   36.2\n",
            "..       ...   ...    ...   ...    ...  ...    ...      ...     ...    ...    ...\n",
            "501  0.06263   0.0  11.93     0  0.573  ...  273.0     21.0  391.99   9.67   22.4\n",
            "502  0.04527   0.0  11.93     0  0.573  ...  273.0     21.0  396.90   9.08   20.6\n",
            "503  0.06076   0.0  11.93     0  0.573  ...  273.0     21.0  396.90   5.64   23.9\n",
            "504  0.10959   0.0  11.93     0  0.573  ...  273.0     21.0  393.45   6.48   22.0\n",
            "505  0.04741   0.0  11.93     0  0.573  ...  273.0     21.0  396.90   7.88   11.9\n",
            "\n",
            "[506 rows x 14 columns]\n"
          ],
          "name": "stdout"
        }
      ]
    },
    {
      "cell_type": "code",
      "metadata": {
        "colab_type": "code",
        "id": "Pa2MknICnmJJ",
        "colab": {
          "base_uri": "https://localhost:8080/",
          "height": 170
        },
        "outputId": "b87146fc-7669-47cc-b6d3-351e9fd95926"
      },
      "source": [
        "# Features\n",
        "X = df[features].values\n",
        "print(X)\n",
        "print(X.shape)\n",
        "print(f\"The dataset contains {X.shape[0]} data points with {X.shape[1]} features\")"
      ],
      "execution_count": 10,
      "outputs": [
        {
          "output_type": "stream",
          "text": [
            "[[6.3200e-03 1.8000e+01 2.3100e+00 ... 1.5300e+01 3.9690e+02 4.9800e+00]\n",
            " [2.7310e-02 0.0000e+00 7.0700e+00 ... 1.7800e+01 3.9690e+02 9.1400e+00]\n",
            " [2.7290e-02 0.0000e+00 7.0700e+00 ... 1.7800e+01 3.9283e+02 4.0300e+00]\n",
            " ...\n",
            " [6.0760e-02 0.0000e+00 1.1930e+01 ... 2.1000e+01 3.9690e+02 5.6400e+00]\n",
            " [1.0959e-01 0.0000e+00 1.1930e+01 ... 2.1000e+01 3.9345e+02 6.4800e+00]\n",
            " [4.7410e-02 0.0000e+00 1.1930e+01 ... 2.1000e+01 3.9690e+02 7.8800e+00]]\n",
            "(506, 13)\n",
            "The dataset contains 506 data points with 13 features\n"
          ],
          "name": "stdout"
        }
      ]
    },
    {
      "cell_type": "code",
      "metadata": {
        "colab_type": "code",
        "id": "okBuUq7iY02B",
        "colab": {
          "base_uri": "https://localhost:8080/",
          "height": 51
        },
        "outputId": "0740d4d8-4444-4bca-9488-77cd4a8152bc"
      },
      "source": [
        "# Labels\n",
        "y = df['PRICE'].values\n",
        "print(y.shape)\n",
        "y = y.reshape(-1,1)\n",
        "print(y.shape)"
      ],
      "execution_count": 11,
      "outputs": [
        {
          "output_type": "stream",
          "text": [
            "(506,)\n",
            "(506, 1)\n"
          ],
          "name": "stdout"
        }
      ]
    },
    {
      "cell_type": "markdown",
      "metadata": {
        "id": "a3l_G2cITuLU",
        "colab_type": "text"
      },
      "source": [
        "# Linear Regression"
      ]
    },
    {
      "cell_type": "markdown",
      "metadata": {
        "id": "QDWT7mkYTuLU",
        "colab_type": "text"
      },
      "source": [
        "We are going to use [sklearn](https://scikit-learn.org/stable/modules/linear_model.html#ordinary-least-squares).\n",
        "\n",
        "First, we define a linear regression model and we fit the model to our data."
      ]
    },
    {
      "cell_type": "code",
      "metadata": {
        "colab_type": "code",
        "id": "6bd5v3KKnwWz",
        "colab": {
          "base_uri": "https://localhost:8080/",
          "height": 34
        },
        "outputId": "840a7b25-4ee6-4d67-82f9-09304477b0ee"
      },
      "source": [
        "from sklearn.linear_model import LinearRegression\n",
        "\n",
        "regr = LinearRegression(fit_intercept=True)\n",
        "regr.fit(X,y)"
      ],
      "execution_count": 22,
      "outputs": [
        {
          "output_type": "execute_result",
          "data": {
            "text/plain": [
              "LinearRegression(copy_X=True, fit_intercept=True, n_jobs=None, normalize=False)"
            ]
          },
          "metadata": {
            "tags": []
          },
          "execution_count": 22
        }
      ]
    },
    {
      "cell_type": "markdown",
      "metadata": {
        "id": "a13tAAkCTuLa",
        "colab_type": "text"
      },
      "source": [
        "The accuracy of the model could be evaluated by finding the MSE between the model prediction and corresponding data points"
      ]
    },
    {
      "cell_type": "code",
      "metadata": {
        "colab_type": "code",
        "id": "lrYanikWnzOt",
        "colab": {
          "base_uri": "https://localhost:8080/",
          "height": 34
        },
        "outputId": "e91977a9-d60b-469b-fbcd-bb033c66d755"
      },
      "source": [
        "y_hat = regr.predict(X)  # Model prediction\n",
        "print(y_hat.shape)"
      ],
      "execution_count": 13,
      "outputs": [
        {
          "output_type": "stream",
          "text": [
            "(506, 1)\n"
          ],
          "name": "stdout"
        }
      ]
    },
    {
      "cell_type": "code",
      "metadata": {
        "colab_type": "code",
        "id": "VCzXiQPun1mP",
        "colab": {
          "base_uri": "https://localhost:8080/",
          "height": 34
        },
        "outputId": "355d0736-1fce-477e-8279-2e60f9ebfee6"
      },
      "source": [
        "MSE = np.mean((y-y_hat)**2)\n",
        "print(MSE)"
      ],
      "execution_count": 23,
      "outputs": [
        {
          "output_type": "stream",
          "text": [
            "21.894831181729206\n"
          ],
          "name": "stdout"
        }
      ]
    },
    {
      "cell_type": "markdown",
      "metadata": {
        "id": "lkWhJQ1fTuLf",
        "colab_type": "text"
      },
      "source": [
        "### Here are the parameter of the model :"
      ]
    },
    {
      "cell_type": "code",
      "metadata": {
        "colab_type": "code",
        "id": "rstorV9_n7zi",
        "colab": {
          "base_uri": "https://localhost:8080/",
          "height": 102
        },
        "outputId": "7baaefd8-51cf-4942-eda4-e4614b2b30f6"
      },
      "source": [
        "print(regr.coef_)        # this is [w_1, ...., w_n]\n",
        "print(regr.intercept_)   # this the bias w_0"
      ],
      "execution_count": 15,
      "outputs": [
        {
          "output_type": "stream",
          "text": [
            "[[-1.08011358e-01  4.64204584e-02  2.05586264e-02  2.68673382e+00\n",
            "  -1.77666112e+01  3.80986521e+00  6.92224640e-04 -1.47556685e+00\n",
            "   3.06049479e-01 -1.23345939e-02 -9.52747232e-01  9.31168327e-03\n",
            "  -5.24758378e-01]]\n",
            "[36.45948839]\n"
          ],
          "name": "stdout"
        }
      ]
    },
    {
      "cell_type": "markdown",
      "metadata": {
        "id": "9uTLIoVRTuLi",
        "colab_type": "text"
      },
      "source": [
        "### Here is a fancy way to compare $y$ and $\\hat{y}$ :"
      ]
    },
    {
      "cell_type": "code",
      "metadata": {
        "colab_type": "code",
        "id": "EGispxQZoK5y",
        "colab": {
          "base_uri": "https://localhost:8080/",
          "height": 187
        },
        "outputId": "addf599d-14da-4b68-a60e-2f1f786fa325"
      },
      "source": [
        "Y = np.hstack([y, y_hat])\n",
        "with np.printoptions(precision=2):\n",
        "    print(Y[:10,:])"
      ],
      "execution_count": 16,
      "outputs": [
        {
          "output_type": "stream",
          "text": [
            "[[24.   30.  ]\n",
            " [21.6  25.03]\n",
            " [34.7  30.57]\n",
            " [33.4  28.61]\n",
            " [36.2  27.94]\n",
            " [28.7  25.26]\n",
            " [22.9  23.  ]\n",
            " [27.1  19.54]\n",
            " [16.5  11.52]\n",
            " [18.9  18.92]]\n"
          ],
          "name": "stdout"
        }
      ]
    },
    {
      "cell_type": "markdown",
      "metadata": {
        "colab_type": "text",
        "id": "My_yW7qiLhMd"
      },
      "source": [
        "# Exercise : \n",
        "Compute the Least square solution with numpy and compare your result with the one of sklearn !"
      ]
    },
    {
      "cell_type": "code",
      "metadata": {
        "id": "k-TgOr4gcMp0",
        "colab_type": "code",
        "colab": {
          "base_uri": "https://localhost:8080/",
          "height": 34
        },
        "outputId": "b8bf7f83-2d93-4763-ab96-d0648b1a7d79"
      },
      "source": [
        "X = df[features].values\n",
        "print (X.shape)"
      ],
      "execution_count": 36,
      "outputs": [
        {
          "output_type": "stream",
          "text": [
            "(506, 13)\n"
          ],
          "name": "stdout"
        }
      ]
    },
    {
      "cell_type": "code",
      "metadata": {
        "colab_type": "code",
        "id": "fCgBwDJaY02E",
        "colab": {
          "base_uri": "https://localhost:8080/",
          "height": 289
        },
        "outputId": "d7c2296f-4344-4c23-b66d-a70ca66a71aa"
      },
      "source": [
        "X = df[features].values\n",
        "bias_term = np.ones((X.shape[0], 1))\n",
        "X = np.hstack([bias_term, X])\n",
        "# pseudo-inverse\n",
        "w = np.linalg.inv(X.transpose().dot(X)).dot(X.transpose().dot(y))\n",
        "print (\"weights: \\n\", w[1:14])\n",
        "print (\"intercept:\\n\", w[0])"
      ],
      "execution_count": 40,
      "outputs": [
        {
          "output_type": "stream",
          "text": [
            "weights: \n",
            " [[-1.08011358e-01]\n",
            " [ 4.64204584e-02]\n",
            " [ 2.05586264e-02]\n",
            " [ 2.68673382e+00]\n",
            " [-1.77666112e+01]\n",
            " [ 3.80986521e+00]\n",
            " [ 6.92224640e-04]\n",
            " [-1.47556685e+00]\n",
            " [ 3.06049479e-01]\n",
            " [-1.23345939e-02]\n",
            " [-9.52747232e-01]\n",
            " [ 9.31168327e-03]\n",
            " [-5.24758378e-01]]\n",
            "intercept:\n",
            " [36.45948839]\n"
          ],
          "name": "stdout"
        }
      ]
    },
    {
      "cell_type": "code",
      "metadata": {
        "id": "JctcarUIaTvQ",
        "colab_type": "code",
        "colab": {
          "base_uri": "https://localhost:8080/",
          "height": 187
        },
        "outputId": "cd7da59c-4cb9-41dd-f571-3fb8a11b5c18"
      },
      "source": [
        "y_hat = X.dot(w)\n",
        "Y = np.hstack([y, y_hat])\n",
        "with np.printoptions(precision=2):\n",
        "    print(Y[:10,:])"
      ],
      "execution_count": 41,
      "outputs": [
        {
          "output_type": "stream",
          "text": [
            "[[24.   30.  ]\n",
            " [21.6  25.03]\n",
            " [34.7  30.57]\n",
            " [33.4  28.61]\n",
            " [36.2  27.94]\n",
            " [28.7  25.26]\n",
            " [22.9  23.  ]\n",
            " [27.1  19.54]\n",
            " [16.5  11.52]\n",
            " [18.9  18.92]]\n"
          ],
          "name": "stdout"
        }
      ]
    },
    {
      "cell_type": "code",
      "metadata": {
        "id": "YecmvzlEdhA-",
        "colab_type": "code",
        "colab": {}
      },
      "source": [
        ""
      ],
      "execution_count": null,
      "outputs": []
    }
  ]
}